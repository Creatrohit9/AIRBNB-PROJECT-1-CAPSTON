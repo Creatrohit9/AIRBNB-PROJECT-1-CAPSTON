{
  "nbformat": 4,
  "nbformat_minor": 0,
  "metadata": {
    "kernelspec": {
      "display_name": "Python 3",
      "language": "python",
      "name": "python3"
    },
    "language_info": {
      "codemirror_mode": {
        "name": "ipython",
        "version": 3
      },
      "file_extension": ".py",
      "mimetype": "text/x-python",
      "name": "python",
      "nbconvert_exporter": "python",
      "pygments_lexer": "ipython3",
      "version": "3.6.6"
    },
    "colab": {
      "name": "MD1WK4ROHIT Airbnb Bookings Analysis - Capstone Project.ipynb",
      "provenance": [],
      "collapsed_sections": [],
      "include_colab_link": true
    }
  },
  "cells": [
    {
      "cell_type": "markdown",
      "metadata": {
        "id": "view-in-github",
        "colab_type": "text"
      },
      "source": [
        "<a href=\"https://colab.research.google.com/github/Creatrohit9/AIRBNB-PROJECT-1-CAPSTON/blob/main/MD1WK4ROHIT_Airbnb_Bookings_Analysis_Capstone_Project.ipynb\" target=\"_parent\"><img src=\"https://colab.research.google.com/assets/colab-badge.svg\" alt=\"Open In Colab\"/></a>"
      ]
    },
    {
      "cell_type": "markdown",
      "metadata": {
        "id": "Y06xIdG26kRF"
      },
      "source": [
        ".## <b> Since 2008, guests and hosts have used Airbnb to expand on traveling possibilities and present a more unique, personalized way of experiencing the world. Today, Airbnb became one of a kind service that is used and recognized by the whole world. Data analysis on millions of listings provided through Airbnb is a crucial factor for the company. These millions of listings generate a lot of data - data that can be analyzed and used for security, business decisions, understanding of customers' and providers' (hosts) behavior and performance on the platform, guiding marketing initiatives, implementation of innovative additional services and much more. </b>\n",
        "\n",
        "## <b>This dataset has around 49,000 observations in it with 16 columns and it is a mix between categorical and numeric values. </b>\n",
        "\n",
        "## <b> Explore and analyze the data to discover key understandings (not limited to these) such as : \n",
        "* What can we learn about different hosts and areas?\n",
        "* What can we learn from predictions? (ex: locations, prices, reviews, etc)\n",
        "* Which hosts are the busiest and why?\n",
        "* Is there any noticeable difference of traffic among different areas and what could be the reason for it? </b>"
      ]
    },
    {
      "cell_type": "markdown",
      "metadata": {
        "id": "XeayfTdFDh0m"
      },
      "source": [
        "# **Libraries Prepration for the  Data Analysis and plot**"
      ]
    },
    {
      "cell_type": "code",
      "metadata": {
        "id": "dByMsuzT8Tnw"
      },
      "source": [
        "\n",
        "import pandas as pd\n",
        "import numpy as np\n",
        "import seaborn as sns\n",
        "from numpy import math        #used for perform math on scalar data\n",
        "from numpy import loadtxt     #fast reader for simple text files\n",
        "import matplotlib.pyplot as plt\n",
        "%matplotlib inline  \n",
        "import matplotlib.image as mpimg      #\n",
        "\n",
        "import warnings\n",
        "warnings.filterwarnings('ignore')"
      ],
      "execution_count": 53,
      "outputs": []
    },
    {
      "cell_type": "code",
      "metadata": {
        "colab": {
          "base_uri": "https://localhost:8080/"
        },
        "id": "Xl5FCr0NAQ7O",
        "outputId": "52d8cba3-002d-42e5-ab46-33e049b02dbe"
      },
      "source": [
        "pd.show_versions()"
      ],
      "execution_count": 54,
      "outputs": [
        {
          "output_type": "stream",
          "text": [
            "\n",
            "INSTALLED VERSIONS\n",
            "------------------\n",
            "commit           : b5958ee1999e9aead1938c0bba2b674378807b3d\n",
            "python           : 3.7.11.final.0\n",
            "python-bits      : 64\n",
            "OS               : Linux\n",
            "OS-release       : 5.4.104+\n",
            "Version          : #1 SMP Sat Jun 5 09:50:34 PDT 2021\n",
            "machine          : x86_64\n",
            "processor        : x86_64\n",
            "byteorder        : little\n",
            "LC_ALL           : None\n",
            "LANG             : en_US.UTF-8\n",
            "LOCALE           : en_US.UTF-8\n",
            "\n",
            "pandas           : 1.1.5\n",
            "numpy            : 1.19.5\n",
            "pytz             : 2018.9\n",
            "dateutil         : 2.8.1\n",
            "pip              : 21.1.3\n",
            "setuptools       : 57.2.0\n",
            "Cython           : 0.29.23\n",
            "pytest           : 3.6.4\n",
            "hypothesis       : None\n",
            "sphinx           : 1.8.5\n",
            "blosc            : None\n",
            "feather          : 0.4.1\n",
            "xlsxwriter       : None\n",
            "lxml.etree       : 4.2.6\n",
            "html5lib         : 1.0.1\n",
            "pymysql          : None\n",
            "psycopg2         : 2.7.6.1 (dt dec pq3 ext lo64)\n",
            "jinja2           : 2.11.3\n",
            "IPython          : 5.5.0\n",
            "pandas_datareader: 0.9.0\n",
            "bs4              : 4.6.3\n",
            "bottleneck       : 1.3.2\n",
            "fsspec           : None\n",
            "fastparquet      : None\n",
            "gcsfs            : None\n",
            "matplotlib       : 3.2.2\n",
            "numexpr          : 2.7.3\n",
            "odfpy            : None\n",
            "openpyxl         : 2.5.9\n",
            "pandas_gbq       : 0.13.3\n",
            "pyarrow          : 3.0.0\n",
            "pytables         : None\n",
            "pyxlsb           : None\n",
            "s3fs             : None\n",
            "scipy            : 1.4.1\n",
            "sqlalchemy       : 1.4.20\n",
            "tables           : 3.4.4\n",
            "tabulate         : 0.8.9\n",
            "xarray           : 0.18.2\n",
            "xlrd             : 1.1.0\n",
            "xlwt             : 1.3.0\n",
            "numba            : 0.51.2\n"
          ],
          "name": "stdout"
        }
      ]
    },
    {
      "cell_type": "code",
      "metadata": {
        "colab": {
          "base_uri": "https://localhost:8080/"
        },
        "id": "CyCOqPq3s_RJ",
        "outputId": "f8caae82-1b19-415c-f57b-8c5a0f0b8696"
      },
      "source": [
        "from google.colab import drive\n",
        "drive.mount('/content/drive')"
      ],
      "execution_count": 55,
      "outputs": [
        {
          "output_type": "stream",
          "text": [
            "Drive already mounted at /content/drive; to attempt to forcibly remount, call drive.mount(\"/content/drive\", force_remount=True).\n"
          ],
          "name": "stdout"
        }
      ]
    },
    {
      "cell_type": "code",
      "metadata": {
        "id": "4TU-EGGrtkxS"
      },
      "source": [
        "file_path='/content/drive/MyDrive/Airbnb NYC 2019.csv'\n",
        "airbnb_df=pd.read_csv(file_path)"
      ],
      "execution_count": 56,
      "outputs": []
    },
    {
      "cell_type": "markdown",
      "metadata": {
        "id": "eVafIHsrJeQ4"
      },
      "source": [
        "# **RESEARCH **\n",
        "Reagarding host-\n",
        "  -Who are the top earners\n",
        "  -Is there any relationship between monthly earnig and price\n",
        "Regarding the Neighbourhood- \n",
        "  -Any perticular location getting maximum number of bookings\n",
        "  -Price realtionwith respect to location\n",
        "Regarding the reviews-\n",
        "   -Relationship between Quality and price\n",
        "Regarding Price-\n",
        "   -privce vs amenities\n",
        "   -Price vs location      "
      ]
    },
    {
      "cell_type": "markdown",
      "metadata": {
        "id": "zTLkTBy7ENNV"
      },
      "source": [
        "# **Data Summary**"
      ]
    },
    {
      "cell_type": "code",
      "metadata": {
        "id": "uYxLX3o_tAjG",
        "colab": {
          "base_uri": "https://localhost:8080/",
          "height": 413
        },
        "outputId": "3814f87b-f2e4-46fa-bc27-93bcebede7cb"
      },
      "source": [
        "#read first five row  of data \n",
        "airbnb_df.head()"
      ],
      "execution_count": 57,
      "outputs": [
        {
          "output_type": "execute_result",
          "data": {
            "text/html": [
              "<div>\n",
              "<style scoped>\n",
              "    .dataframe tbody tr th:only-of-type {\n",
              "        vertical-align: middle;\n",
              "    }\n",
              "\n",
              "    .dataframe tbody tr th {\n",
              "        vertical-align: top;\n",
              "    }\n",
              "\n",
              "    .dataframe thead th {\n",
              "        text-align: right;\n",
              "    }\n",
              "</style>\n",
              "<table border=\"1\" class=\"dataframe\">\n",
              "  <thead>\n",
              "    <tr style=\"text-align: right;\">\n",
              "      <th></th>\n",
              "      <th>id</th>\n",
              "      <th>name</th>\n",
              "      <th>host_id</th>\n",
              "      <th>host_name</th>\n",
              "      <th>neighbourhood_group</th>\n",
              "      <th>neighbourhood</th>\n",
              "      <th>latitude</th>\n",
              "      <th>longitude</th>\n",
              "      <th>room_type</th>\n",
              "      <th>price</th>\n",
              "      <th>minimum_nights</th>\n",
              "      <th>number_of_reviews</th>\n",
              "      <th>last_review</th>\n",
              "      <th>reviews_per_month</th>\n",
              "      <th>calculated_host_listings_count</th>\n",
              "      <th>availability_365</th>\n",
              "    </tr>\n",
              "  </thead>\n",
              "  <tbody>\n",
              "    <tr>\n",
              "      <th>0</th>\n",
              "      <td>2539</td>\n",
              "      <td>Clean &amp; quiet apt home by the park</td>\n",
              "      <td>2787</td>\n",
              "      <td>John</td>\n",
              "      <td>Brooklyn</td>\n",
              "      <td>Kensington</td>\n",
              "      <td>40.64749</td>\n",
              "      <td>-73.97237</td>\n",
              "      <td>Private room</td>\n",
              "      <td>149</td>\n",
              "      <td>1</td>\n",
              "      <td>9</td>\n",
              "      <td>2018-10-19</td>\n",
              "      <td>0.21</td>\n",
              "      <td>6</td>\n",
              "      <td>365</td>\n",
              "    </tr>\n",
              "    <tr>\n",
              "      <th>1</th>\n",
              "      <td>2595</td>\n",
              "      <td>Skylit Midtown Castle</td>\n",
              "      <td>2845</td>\n",
              "      <td>Jennifer</td>\n",
              "      <td>Manhattan</td>\n",
              "      <td>Midtown</td>\n",
              "      <td>40.75362</td>\n",
              "      <td>-73.98377</td>\n",
              "      <td>Entire home/apt</td>\n",
              "      <td>225</td>\n",
              "      <td>1</td>\n",
              "      <td>45</td>\n",
              "      <td>2019-05-21</td>\n",
              "      <td>0.38</td>\n",
              "      <td>2</td>\n",
              "      <td>355</td>\n",
              "    </tr>\n",
              "    <tr>\n",
              "      <th>2</th>\n",
              "      <td>3647</td>\n",
              "      <td>THE VILLAGE OF HARLEM....NEW YORK !</td>\n",
              "      <td>4632</td>\n",
              "      <td>Elisabeth</td>\n",
              "      <td>Manhattan</td>\n",
              "      <td>Harlem</td>\n",
              "      <td>40.80902</td>\n",
              "      <td>-73.94190</td>\n",
              "      <td>Private room</td>\n",
              "      <td>150</td>\n",
              "      <td>3</td>\n",
              "      <td>0</td>\n",
              "      <td>NaN</td>\n",
              "      <td>NaN</td>\n",
              "      <td>1</td>\n",
              "      <td>365</td>\n",
              "    </tr>\n",
              "    <tr>\n",
              "      <th>3</th>\n",
              "      <td>3831</td>\n",
              "      <td>Cozy Entire Floor of Brownstone</td>\n",
              "      <td>4869</td>\n",
              "      <td>LisaRoxanne</td>\n",
              "      <td>Brooklyn</td>\n",
              "      <td>Clinton Hill</td>\n",
              "      <td>40.68514</td>\n",
              "      <td>-73.95976</td>\n",
              "      <td>Entire home/apt</td>\n",
              "      <td>89</td>\n",
              "      <td>1</td>\n",
              "      <td>270</td>\n",
              "      <td>2019-07-05</td>\n",
              "      <td>4.64</td>\n",
              "      <td>1</td>\n",
              "      <td>194</td>\n",
              "    </tr>\n",
              "    <tr>\n",
              "      <th>4</th>\n",
              "      <td>5022</td>\n",
              "      <td>Entire Apt: Spacious Studio/Loft by central park</td>\n",
              "      <td>7192</td>\n",
              "      <td>Laura</td>\n",
              "      <td>Manhattan</td>\n",
              "      <td>East Harlem</td>\n",
              "      <td>40.79851</td>\n",
              "      <td>-73.94399</td>\n",
              "      <td>Entire home/apt</td>\n",
              "      <td>80</td>\n",
              "      <td>10</td>\n",
              "      <td>9</td>\n",
              "      <td>2018-11-19</td>\n",
              "      <td>0.10</td>\n",
              "      <td>1</td>\n",
              "      <td>0</td>\n",
              "    </tr>\n",
              "  </tbody>\n",
              "</table>\n",
              "</div>"
            ],
            "text/plain": [
              "     id  ... availability_365\n",
              "0  2539  ...              365\n",
              "1  2595  ...              355\n",
              "2  3647  ...              365\n",
              "3  3831  ...              194\n",
              "4  5022  ...                0\n",
              "\n",
              "[5 rows x 16 columns]"
            ]
          },
          "metadata": {
            "tags": []
          },
          "execution_count": 57
        }
      ]
    },
    {
      "cell_type": "code",
      "metadata": {
        "colab": {
          "base_uri": "https://localhost:8080/"
        },
        "id": "PKUahl6tJFs1",
        "outputId": "de772167-a96f-4be1-a404-9303abd52a51"
      },
      "source": [
        "#no or row and columns we are going to deal\n",
        "airbnb_df.shape"
      ],
      "execution_count": 58,
      "outputs": [
        {
          "output_type": "execute_result",
          "data": {
            "text/plain": [
              "(48895, 16)"
            ]
          },
          "metadata": {
            "tags": []
          },
          "execution_count": 58
        }
      ]
    },
    {
      "cell_type": "code",
      "metadata": {
        "colab": {
          "base_uri": "https://localhost:8080/"
        },
        "id": "6W_quTRBHdcW",
        "outputId": "36012367-7ff4-4447-9a12-76f0b3008b9a"
      },
      "source": [
        "#Name of columns we have in our data base \n",
        "airbnb_df.columns"
      ],
      "execution_count": 59,
      "outputs": [
        {
          "output_type": "execute_result",
          "data": {
            "text/plain": [
              "Index(['id', 'name', 'host_id', 'host_name', 'neighbourhood_group',\n",
              "       'neighbourhood', 'latitude', 'longitude', 'room_type', 'price',\n",
              "       'minimum_nights', 'number_of_reviews', 'last_review',\n",
              "       'reviews_per_month', 'calculated_host_listings_count',\n",
              "       'availability_365'],\n",
              "      dtype='object')"
            ]
          },
          "metadata": {
            "tags": []
          },
          "execution_count": 59
        }
      ]
    },
    {
      "cell_type": "markdown",
      "metadata": {
        "id": "yWn80C46DTeR"
      },
      "source": [
        "# **Descriptive Analysis**"
      ]
    },
    {
      "cell_type": "code",
      "metadata": {
        "colab": {
          "base_uri": "https://localhost:8080/",
          "height": 294
        },
        "id": "J9OukSGYuGJO",
        "outputId": "7ba80c48-5dda-4f8c-9ccc-2435fa701d69"
      },
      "source": [
        "#value through we are goin to deal\n",
        "airbnb_df.describe()"
      ],
      "execution_count": 60,
      "outputs": [
        {
          "output_type": "execute_result",
          "data": {
            "text/html": [
              "<div>\n",
              "<style scoped>\n",
              "    .dataframe tbody tr th:only-of-type {\n",
              "        vertical-align: middle;\n",
              "    }\n",
              "\n",
              "    .dataframe tbody tr th {\n",
              "        vertical-align: top;\n",
              "    }\n",
              "\n",
              "    .dataframe thead th {\n",
              "        text-align: right;\n",
              "    }\n",
              "</style>\n",
              "<table border=\"1\" class=\"dataframe\">\n",
              "  <thead>\n",
              "    <tr style=\"text-align: right;\">\n",
              "      <th></th>\n",
              "      <th>id</th>\n",
              "      <th>host_id</th>\n",
              "      <th>latitude</th>\n",
              "      <th>longitude</th>\n",
              "      <th>price</th>\n",
              "      <th>minimum_nights</th>\n",
              "      <th>number_of_reviews</th>\n",
              "      <th>reviews_per_month</th>\n",
              "      <th>calculated_host_listings_count</th>\n",
              "      <th>availability_365</th>\n",
              "    </tr>\n",
              "  </thead>\n",
              "  <tbody>\n",
              "    <tr>\n",
              "      <th>count</th>\n",
              "      <td>4.889500e+04</td>\n",
              "      <td>4.889500e+04</td>\n",
              "      <td>48895.000000</td>\n",
              "      <td>48895.000000</td>\n",
              "      <td>48895.000000</td>\n",
              "      <td>48895.000000</td>\n",
              "      <td>48895.000000</td>\n",
              "      <td>38843.000000</td>\n",
              "      <td>48895.000000</td>\n",
              "      <td>48895.000000</td>\n",
              "    </tr>\n",
              "    <tr>\n",
              "      <th>mean</th>\n",
              "      <td>1.901714e+07</td>\n",
              "      <td>6.762001e+07</td>\n",
              "      <td>40.728949</td>\n",
              "      <td>-73.952170</td>\n",
              "      <td>152.720687</td>\n",
              "      <td>7.029962</td>\n",
              "      <td>23.274466</td>\n",
              "      <td>1.373221</td>\n",
              "      <td>7.143982</td>\n",
              "      <td>112.781327</td>\n",
              "    </tr>\n",
              "    <tr>\n",
              "      <th>std</th>\n",
              "      <td>1.098311e+07</td>\n",
              "      <td>7.861097e+07</td>\n",
              "      <td>0.054530</td>\n",
              "      <td>0.046157</td>\n",
              "      <td>240.154170</td>\n",
              "      <td>20.510550</td>\n",
              "      <td>44.550582</td>\n",
              "      <td>1.680442</td>\n",
              "      <td>32.952519</td>\n",
              "      <td>131.622289</td>\n",
              "    </tr>\n",
              "    <tr>\n",
              "      <th>min</th>\n",
              "      <td>2.539000e+03</td>\n",
              "      <td>2.438000e+03</td>\n",
              "      <td>40.499790</td>\n",
              "      <td>-74.244420</td>\n",
              "      <td>0.000000</td>\n",
              "      <td>1.000000</td>\n",
              "      <td>0.000000</td>\n",
              "      <td>0.010000</td>\n",
              "      <td>1.000000</td>\n",
              "      <td>0.000000</td>\n",
              "    </tr>\n",
              "    <tr>\n",
              "      <th>25%</th>\n",
              "      <td>9.471945e+06</td>\n",
              "      <td>7.822033e+06</td>\n",
              "      <td>40.690100</td>\n",
              "      <td>-73.983070</td>\n",
              "      <td>69.000000</td>\n",
              "      <td>1.000000</td>\n",
              "      <td>1.000000</td>\n",
              "      <td>0.190000</td>\n",
              "      <td>1.000000</td>\n",
              "      <td>0.000000</td>\n",
              "    </tr>\n",
              "    <tr>\n",
              "      <th>50%</th>\n",
              "      <td>1.967728e+07</td>\n",
              "      <td>3.079382e+07</td>\n",
              "      <td>40.723070</td>\n",
              "      <td>-73.955680</td>\n",
              "      <td>106.000000</td>\n",
              "      <td>3.000000</td>\n",
              "      <td>5.000000</td>\n",
              "      <td>0.720000</td>\n",
              "      <td>1.000000</td>\n",
              "      <td>45.000000</td>\n",
              "    </tr>\n",
              "    <tr>\n",
              "      <th>75%</th>\n",
              "      <td>2.915218e+07</td>\n",
              "      <td>1.074344e+08</td>\n",
              "      <td>40.763115</td>\n",
              "      <td>-73.936275</td>\n",
              "      <td>175.000000</td>\n",
              "      <td>5.000000</td>\n",
              "      <td>24.000000</td>\n",
              "      <td>2.020000</td>\n",
              "      <td>2.000000</td>\n",
              "      <td>227.000000</td>\n",
              "    </tr>\n",
              "    <tr>\n",
              "      <th>max</th>\n",
              "      <td>3.648724e+07</td>\n",
              "      <td>2.743213e+08</td>\n",
              "      <td>40.913060</td>\n",
              "      <td>-73.712990</td>\n",
              "      <td>10000.000000</td>\n",
              "      <td>1250.000000</td>\n",
              "      <td>629.000000</td>\n",
              "      <td>58.500000</td>\n",
              "      <td>327.000000</td>\n",
              "      <td>365.000000</td>\n",
              "    </tr>\n",
              "  </tbody>\n",
              "</table>\n",
              "</div>"
            ],
            "text/plain": [
              "                 id  ...  availability_365\n",
              "count  4.889500e+04  ...      48895.000000\n",
              "mean   1.901714e+07  ...        112.781327\n",
              "std    1.098311e+07  ...        131.622289\n",
              "min    2.539000e+03  ...          0.000000\n",
              "25%    9.471945e+06  ...          0.000000\n",
              "50%    1.967728e+07  ...         45.000000\n",
              "75%    2.915218e+07  ...        227.000000\n",
              "max    3.648724e+07  ...        365.000000\n",
              "\n",
              "[8 rows x 10 columns]"
            ]
          },
          "metadata": {
            "tags": []
          },
          "execution_count": 60
        }
      ]
    },
    {
      "cell_type": "markdown",
      "metadata": {
        "id": "URfO2g03Dd5N"
      },
      "source": [
        "-All colunms except latitude and longitude have a big gap between the third quartilevalue and the max value.\n",
        "-The min value of the price is 0"
      ]
    },
    {
      "cell_type": "code",
      "metadata": {
        "colab": {
          "base_uri": "https://localhost:8080/"
        },
        "id": "P-Td6xS7uMia",
        "outputId": "c2001971-3718-4af4-d4af-84269cba1ab8"
      },
      "source": [
        "# data information we have\n",
        "airbnb_df.info()"
      ],
      "execution_count": 61,
      "outputs": [
        {
          "output_type": "stream",
          "text": [
            "<class 'pandas.core.frame.DataFrame'>\n",
            "RangeIndex: 48895 entries, 0 to 48894\n",
            "Data columns (total 16 columns):\n",
            " #   Column                          Non-Null Count  Dtype  \n",
            "---  ------                          --------------  -----  \n",
            " 0   id                              48895 non-null  int64  \n",
            " 1   name                            48879 non-null  object \n",
            " 2   host_id                         48895 non-null  int64  \n",
            " 3   host_name                       48874 non-null  object \n",
            " 4   neighbourhood_group             48895 non-null  object \n",
            " 5   neighbourhood                   48895 non-null  object \n",
            " 6   latitude                        48895 non-null  float64\n",
            " 7   longitude                       48895 non-null  float64\n",
            " 8   room_type                       48895 non-null  object \n",
            " 9   price                           48895 non-null  int64  \n",
            " 10  minimum_nights                  48895 non-null  int64  \n",
            " 11  number_of_reviews               48895 non-null  int64  \n",
            " 12  last_review                     38843 non-null  object \n",
            " 13  reviews_per_month               38843 non-null  float64\n",
            " 14  calculated_host_listings_count  48895 non-null  int64  \n",
            " 15  availability_365                48895 non-null  int64  \n",
            "dtypes: float64(3), int64(7), object(6)\n",
            "memory usage: 6.0+ MB\n"
          ],
          "name": "stdout"
        }
      ]
    },
    {
      "cell_type": "markdown",
      "metadata": {
        "id": "oipSKHZOIAhU"
      },
      "source": [
        "we have 10052 missing value in column such last_review  and reviews_per_month"
      ]
    },
    {
      "cell_type": "code",
      "metadata": {
        "id": "2FFjZWfMuQpD",
        "colab": {
          "base_uri": "https://localhost:8080/",
          "height": 34
        },
        "outputId": "1620e9f0-0615-4025-e0d1-ff5d978e1307"
      },
      "source": [
        "#find the maximum no of selection of room type\n",
        "airbnb_df['room_type'].value_counts().idxmax()"
      ],
      "execution_count": 62,
      "outputs": [
        {
          "output_type": "execute_result",
          "data": {
            "application/vnd.google.colaboratory.intrinsic+json": {
              "type": "string"
            },
            "text/plain": [
              "'Entire home/apt'"
            ]
          },
          "metadata": {
            "tags": []
          },
          "execution_count": 62
        }
      ]
    },
    {
      "cell_type": "code",
      "metadata": {
        "id": "ebmnsI-y4RS3"
      },
      "source": [
        "#now these are the room type behalf on which we make further analysis \n",
        "airbnb_df_refine=airbnb_df['room_type'].value_counts()"
      ],
      "execution_count": 63,
      "outputs": []
    },
    {
      "cell_type": "code",
      "metadata": {
        "colab": {
          "base_uri": "https://localhost:8080/"
        },
        "id": "ZtCIL5knRg62",
        "outputId": "51c34077-3a11-4fbb-9c2b-44a4738fbefd"
      },
      "source": [
        "airbnb_df_refine"
      ],
      "execution_count": 64,
      "outputs": [
        {
          "output_type": "execute_result",
          "data": {
            "text/plain": [
              "Entire home/apt    25409\n",
              "Private room       22326\n",
              "Shared room         1160\n",
              "Name: room_type, dtype: int64"
            ]
          },
          "metadata": {
            "tags": []
          },
          "execution_count": 64
        }
      ]
    },
    {
      "cell_type": "code",
      "metadata": {
        "colab": {
          "base_uri": "https://localhost:8080/"
        },
        "id": "pef3G9doJHUE",
        "outputId": "d6468bcd-3927-431d-a215-d33225abe4b2"
      },
      "source": [
        "airbnb_df['room_type']"
      ],
      "execution_count": 65,
      "outputs": [
        {
          "output_type": "execute_result",
          "data": {
            "text/plain": [
              "0           Private room\n",
              "1        Entire home/apt\n",
              "2           Private room\n",
              "3        Entire home/apt\n",
              "4        Entire home/apt\n",
              "              ...       \n",
              "48890       Private room\n",
              "48891       Private room\n",
              "48892    Entire home/apt\n",
              "48893        Shared room\n",
              "48894       Private room\n",
              "Name: room_type, Length: 48895, dtype: object"
            ]
          },
          "metadata": {
            "tags": []
          },
          "execution_count": 65
        }
      ]
    },
    {
      "cell_type": "code",
      "metadata": {
        "colab": {
          "base_uri": "https://localhost:8080/"
        },
        "id": "nG3zTw-NU1dh",
        "outputId": "05b592b8-412e-42e6-8010-968743bfeb30"
      },
      "source": [
        "airbnb_df.mean()"
      ],
      "execution_count": 66,
      "outputs": [
        {
          "output_type": "execute_result",
          "data": {
            "text/plain": [
              "id                                1.901714e+07\n",
              "host_id                           6.762001e+07\n",
              "latitude                          4.072895e+01\n",
              "longitude                        -7.395217e+01\n",
              "price                             1.527207e+02\n",
              "minimum_nights                    7.029962e+00\n",
              "number_of_reviews                 2.327447e+01\n",
              "reviews_per_month                 1.373221e+00\n",
              "calculated_host_listings_count    7.143982e+00\n",
              "availability_365                  1.127813e+02\n",
              "dtype: float64"
            ]
          },
          "metadata": {
            "tags": []
          },
          "execution_count": 66
        }
      ]
    },
    {
      "cell_type": "code",
      "metadata": {
        "colab": {
          "base_uri": "https://localhost:8080/",
          "height": 141
        },
        "id": "MhA_kHPdXrVQ",
        "outputId": "2d4ca8ee-fed1-48cc-988a-3a10f12e8e6a"
      },
      "source": [
        "room__type_min_night=airbnb_df.groupby('room_type')['minimum_nights'].mean().reset_index()\n",
        "room__type_min_night"
      ],
      "execution_count": 67,
      "outputs": [
        {
          "output_type": "execute_result",
          "data": {
            "text/html": [
              "<div>\n",
              "<style scoped>\n",
              "    .dataframe tbody tr th:only-of-type {\n",
              "        vertical-align: middle;\n",
              "    }\n",
              "\n",
              "    .dataframe tbody tr th {\n",
              "        vertical-align: top;\n",
              "    }\n",
              "\n",
              "    .dataframe thead th {\n",
              "        text-align: right;\n",
              "    }\n",
              "</style>\n",
              "<table border=\"1\" class=\"dataframe\">\n",
              "  <thead>\n",
              "    <tr style=\"text-align: right;\">\n",
              "      <th></th>\n",
              "      <th>room_type</th>\n",
              "      <th>minimum_nights</th>\n",
              "    </tr>\n",
              "  </thead>\n",
              "  <tbody>\n",
              "    <tr>\n",
              "      <th>0</th>\n",
              "      <td>Entire home/apt</td>\n",
              "      <td>8.506907</td>\n",
              "    </tr>\n",
              "    <tr>\n",
              "      <th>1</th>\n",
              "      <td>Private room</td>\n",
              "      <td>5.377900</td>\n",
              "    </tr>\n",
              "    <tr>\n",
              "      <th>2</th>\n",
              "      <td>Shared room</td>\n",
              "      <td>6.475000</td>\n",
              "    </tr>\n",
              "  </tbody>\n",
              "</table>\n",
              "</div>"
            ],
            "text/plain": [
              "         room_type  minimum_nights\n",
              "0  Entire home/apt        8.506907\n",
              "1     Private room        5.377900\n",
              "2      Shared room        6.475000"
            ]
          },
          "metadata": {
            "tags": []
          },
          "execution_count": 67
        }
      ]
    },
    {
      "cell_type": "code",
      "metadata": {
        "colab": {
          "base_uri": "https://localhost:8080/",
          "height": 346
        },
        "id": "cnU3Se5oYQga",
        "outputId": "57dacfa8-c9af-41ab-9819-6a19ef8bf930"
      },
      "source": [
        "visual1=sns.barplot(x='room_type',y='minimum_nights',data=room__type_min_night,palette=\"Blues_d\")\n",
        "visual1.set_title('room type and minimum no of night stay  ')\n",
        "visual1.set_ylabel('minimum night')\n",
        "visual1.set_xlabel('room type')\n",
        "visual1.set_xticks(visual1.get_xticks())\n"
      ],
      "execution_count": 69,
      "outputs": [
        {
          "output_type": "execute_result",
          "data": {
            "text/plain": [
              "[<matplotlib.axis.XTick at 0x7fde82afb910>,\n",
              " <matplotlib.axis.XTick at 0x7fde82afba90>,\n",
              " <matplotlib.axis.XTick at 0x7fde825244d0>]"
            ]
          },
          "metadata": {
            "tags": []
          },
          "execution_count": 69
        },
        {
          "output_type": "display_data",
          "data": {
            "image/png": "[encoded data removed]",
            "text/plain": [
              "<Figure size 432x288 with 1 Axes>"
            ]
          },
          "metadata": {
            "tags": [],
            "needs_background": "light"
          }
        }
      ]
    },
    {
      "cell_type": "code",
      "metadata": {
        "colab": {
          "base_uri": "https://localhost:8080/",
          "height": 233
        },
        "id": "23F6Rzcpbowm",
        "outputId": "cdb48b35-f895-4f16-fd21-29287ab20559"
      },
      "source": [
        "#finding the costly neighbourhood group for the giving room type\n",
        "costly_neighbourhood_group=airbnb_df.groupby(['neighbourhood_group','room_type'])['price'].mean().unstack()\n",
        "costly_neighbourhood_group"
      ],
      "execution_count": 72,
      "outputs": [
        {
          "output_type": "execute_result",
          "data": {
            "text/html": [
              "<div>\n",
              "<style scoped>\n",
              "    .dataframe tbody tr th:only-of-type {\n",
              "        vertical-align: middle;\n",
              "    }\n",
              "\n",
              "    .dataframe tbody tr th {\n",
              "        vertical-align: top;\n",
              "    }\n",
              "\n",
              "    .dataframe thead th {\n",
              "        text-align: right;\n",
              "    }\n",
              "</style>\n",
              "<table border=\"1\" class=\"dataframe\">\n",
              "  <thead>\n",
              "    <tr style=\"text-align: right;\">\n",
              "      <th>room_type</th>\n",
              "      <th>Entire home/apt</th>\n",
              "      <th>Private room</th>\n",
              "      <th>Shared room</th>\n",
              "    </tr>\n",
              "    <tr>\n",
              "      <th>neighbourhood_group</th>\n",
              "      <th></th>\n",
              "      <th></th>\n",
              "      <th></th>\n",
              "    </tr>\n",
              "  </thead>\n",
              "  <tbody>\n",
              "    <tr>\n",
              "      <th>Bronx</th>\n",
              "      <td>127.506596</td>\n",
              "      <td>66.788344</td>\n",
              "      <td>59.800000</td>\n",
              "    </tr>\n",
              "    <tr>\n",
              "      <th>Brooklyn</th>\n",
              "      <td>178.327545</td>\n",
              "      <td>76.500099</td>\n",
              "      <td>50.527845</td>\n",
              "    </tr>\n",
              "    <tr>\n",
              "      <th>Manhattan</th>\n",
              "      <td>249.239109</td>\n",
              "      <td>116.776622</td>\n",
              "      <td>88.977083</td>\n",
              "    </tr>\n",
              "    <tr>\n",
              "      <th>Queens</th>\n",
              "      <td>147.050573</td>\n",
              "      <td>71.762456</td>\n",
              "      <td>69.020202</td>\n",
              "    </tr>\n",
              "    <tr>\n",
              "      <th>Staten Island</th>\n",
              "      <td>173.846591</td>\n",
              "      <td>62.292553</td>\n",
              "      <td>57.444444</td>\n",
              "    </tr>\n",
              "  </tbody>\n",
              "</table>\n",
              "</div>"
            ],
            "text/plain": [
              "room_type            Entire home/apt  Private room  Shared room\n",
              "neighbourhood_group                                            \n",
              "Bronx                     127.506596     66.788344    59.800000\n",
              "Brooklyn                  178.327545     76.500099    50.527845\n",
              "Manhattan                 249.239109    116.776622    88.977083\n",
              "Queens                    147.050573     71.762456    69.020202\n",
              "Staten Island             173.846591     62.292553    57.444444"
            ]
          },
          "metadata": {
            "tags": []
          },
          "execution_count": 72
        }
      ]
    },
    {
      "cell_type": "markdown",
      "metadata": {
        "id": "LAvEQVM7c5hZ"
      },
      "source": [
        "Manhattan have most expensive for the all the giving room type.after google it on map we find it's situated atmid of the city so more denser and  have important financial status"
      ]
    },
    {
      "cell_type": "code",
      "metadata": {
        "colab": {
          "base_uri": "https://localhost:8080/",
          "height": 353
        },
        "id": "lU5M0AwmcjvN",
        "outputId": "87e589fb-9db6-491f-a283-0ef5ff0888b2"
      },
      "source": [
        "costly_neighbourhood_group.plot(kind='bar')"
      ],
      "execution_count": 73,
      "outputs": [
        {
          "output_type": "execute_result",
          "data": {
            "text/plain": [
              "<matplotlib.axes._subplots.AxesSubplot at 0x7fde825191d0>"
            ]
          },
          "metadata": {
            "tags": []
          },
          "execution_count": 73
        },
        {
          "output_type": "display_data",
          "data": {
            "image/png": "[encoded data removed]",
            "text/plain": [
              "<Figure size 432x288 with 1 Axes>"
            ]
          },
          "metadata": {
            "tags": [],
            "needs_background": "light"
          }
        }
      ]
    },
    {
      "cell_type": "code",
      "metadata": {
        "colab": {
          "base_uri": "https://localhost:8080/",
          "height": 233
        },
        "id": "9bRUmMgTdtq1",
        "outputId": "aaf8e2dd-746f-46a4-d11c-a823700225db"
      },
      "source": [
        "#ROOM TYPE IN EACH NEIGHBOURHOOD GROUP\n",
        "room_type_neighbourhood_group=airbnb_df.groupby(['neighbourhood_group','room_type'])['room_type'].count().unstack()\n",
        "room_type_neighbourhood_group"
      ],
      "execution_count": 74,
      "outputs": [
        {
          "output_type": "execute_result",
          "data": {
            "text/html": [
              "<div>\n",
              "<style scoped>\n",
              "    .dataframe tbody tr th:only-of-type {\n",
              "        vertical-align: middle;\n",
              "    }\n",
              "\n",
              "    .dataframe tbody tr th {\n",
              "        vertical-align: top;\n",
              "    }\n",
              "\n",
              "    .dataframe thead th {\n",
              "        text-align: right;\n",
              "    }\n",
              "</style>\n",
              "<table border=\"1\" class=\"dataframe\">\n",
              "  <thead>\n",
              "    <tr style=\"text-align: right;\">\n",
              "      <th>room_type</th>\n",
              "      <th>Entire home/apt</th>\n",
              "      <th>Private room</th>\n",
              "      <th>Shared room</th>\n",
              "    </tr>\n",
              "    <tr>\n",
              "      <th>neighbourhood_group</th>\n",
              "      <th></th>\n",
              "      <th></th>\n",
              "      <th></th>\n",
              "    </tr>\n",
              "  </thead>\n",
              "  <tbody>\n",
              "    <tr>\n",
              "      <th>Bronx</th>\n",
              "      <td>379</td>\n",
              "      <td>652</td>\n",
              "      <td>60</td>\n",
              "    </tr>\n",
              "    <tr>\n",
              "      <th>Brooklyn</th>\n",
              "      <td>9559</td>\n",
              "      <td>10132</td>\n",
              "      <td>413</td>\n",
              "    </tr>\n",
              "    <tr>\n",
              "      <th>Manhattan</th>\n",
              "      <td>13199</td>\n",
              "      <td>7982</td>\n",
              "      <td>480</td>\n",
              "    </tr>\n",
              "    <tr>\n",
              "      <th>Queens</th>\n",
              "      <td>2096</td>\n",
              "      <td>3372</td>\n",
              "      <td>198</td>\n",
              "    </tr>\n",
              "    <tr>\n",
              "      <th>Staten Island</th>\n",
              "      <td>176</td>\n",
              "      <td>188</td>\n",
              "      <td>9</td>\n",
              "    </tr>\n",
              "  </tbody>\n",
              "</table>\n",
              "</div>"
            ],
            "text/plain": [
              "room_type            Entire home/apt  Private room  Shared room\n",
              "neighbourhood_group                                            \n",
              "Bronx                            379           652           60\n",
              "Brooklyn                        9559         10132          413\n",
              "Manhattan                      13199          7982          480\n",
              "Queens                          2096          3372          198\n",
              "Staten Island                    176           188            9"
            ]
          },
          "metadata": {
            "tags": []
          },
          "execution_count": 74
        }
      ]
    },
    {
      "cell_type": "code",
      "metadata": {
        "colab": {
          "base_uri": "https://localhost:8080/",
          "height": 353
        },
        "id": "Guqfx8ZXeEde",
        "outputId": "efc4fb3e-0f89-4936-b1f3-c24a072186a1"
      },
      "source": [
        "room_type_neighbourhood_group.plot(kind='bar')"
      ],
      "execution_count": 75,
      "outputs": [
        {
          "output_type": "execute_result",
          "data": {
            "text/plain": [
              "<matplotlib.axes._subplots.AxesSubplot at 0x7fde8250de50>"
            ]
          },
          "metadata": {
            "tags": []
          },
          "execution_count": 75
        },
        {
          "output_type": "display_data",
          "data": {
            "image/png": "[encoded data removed]",
            "text/plain": [
              "<Figure size 432x288 with 1 Axes>"
            ]
          },
          "metadata": {
            "tags": [],
            "needs_background": "light"
          }
        }
      ]
    },
    {
      "cell_type": "markdown",
      "metadata": {
        "id": "xk1bavjUeKQu"
      },
      "source": [
        "Plot clearly says that shaed room are the least populated.that most of the people prefer privacy and safety over the less price "
      ]
    },
    {
      "cell_type": "code",
      "metadata": {
        "colab": {
          "base_uri": "https://localhost:8080/",
          "height": 202
        },
        "id": "J_qS7hl1ep9h",
        "outputId": "cab2148d-bf8c-4c1c-e403-403bf2c8f6b7"
      },
      "source": [
        "#find the most busy neighbourhood group\n",
        "most_busy_neighbour_group=airbnb_df.groupby(['neighbourhood_group'])['reviews_per_month'].mean().reset_index()\n",
        "most_busy_neighbour_group"
      ],
      "execution_count": 79,
      "outputs": [
        {
          "output_type": "execute_result",
          "data": {
            "text/html": [
              "<div>\n",
              "<style scoped>\n",
              "    .dataframe tbody tr th:only-of-type {\n",
              "        vertical-align: middle;\n",
              "    }\n",
              "\n",
              "    .dataframe tbody tr th {\n",
              "        vertical-align: top;\n",
              "    }\n",
              "\n",
              "    .dataframe thead th {\n",
              "        text-align: right;\n",
              "    }\n",
              "</style>\n",
              "<table border=\"1\" class=\"dataframe\">\n",
              "  <thead>\n",
              "    <tr style=\"text-align: right;\">\n",
              "      <th></th>\n",
              "      <th>neighbourhood_group</th>\n",
              "      <th>reviews_per_month</th>\n",
              "    </tr>\n",
              "  </thead>\n",
              "  <tbody>\n",
              "    <tr>\n",
              "      <th>0</th>\n",
              "      <td>Bronx</td>\n",
              "      <td>1.837831</td>\n",
              "    </tr>\n",
              "    <tr>\n",
              "      <th>1</th>\n",
              "      <td>Brooklyn</td>\n",
              "      <td>1.283212</td>\n",
              "    </tr>\n",
              "    <tr>\n",
              "      <th>2</th>\n",
              "      <td>Manhattan</td>\n",
              "      <td>1.272131</td>\n",
              "    </tr>\n",
              "    <tr>\n",
              "      <th>3</th>\n",
              "      <td>Queens</td>\n",
              "      <td>1.941200</td>\n",
              "    </tr>\n",
              "    <tr>\n",
              "      <th>4</th>\n",
              "      <td>Staten Island</td>\n",
              "      <td>1.872580</td>\n",
              "    </tr>\n",
              "  </tbody>\n",
              "</table>\n",
              "</div>"
            ],
            "text/plain": [
              "  neighbourhood_group  reviews_per_month\n",
              "0               Bronx           1.837831\n",
              "1            Brooklyn           1.283212\n",
              "2           Manhattan           1.272131\n",
              "3              Queens           1.941200\n",
              "4       Staten Island           1.872580"
            ]
          },
          "metadata": {
            "tags": []
          },
          "execution_count": 79
        }
      ]
    },
    {
      "cell_type": "code",
      "metadata": {
        "colab": {
          "base_uri": "https://localhost:8080/",
          "height": 310
        },
        "id": "ICNQfBlpfuJ_",
        "outputId": "aab128b4-a1ea-4fa8-f4d8-060876b7c183"
      },
      "source": [
        "most_busy_neighbour_group.plot(kind='bar')\n",
        "plt.title('most busiest neighbourhood group')\n",
        "plt.xlabel('neighbourhood_group')\n",
        "plt.ylabel('reviews_per_month')"
      ],
      "execution_count": 81,
      "outputs": [
        {
          "output_type": "execute_result",
          "data": {
            "text/plain": [
              "Text(0, 0.5, 'reviews_per_month')"
            ]
          },
          "metadata": {
            "tags": []
          },
          "execution_count": 81
        },
        {
          "output_type": "display_data",
          "data": {
            "image/png": "[encoded data removed]",
            "text/plain": [
              "<Figure size 432x288 with 1 Axes>"
            ]
          },
          "metadata": {
            "tags": [],
            "needs_background": "light"
          }
        }
      ]
    },
    {
      "cell_type": "markdown",
      "metadata": {
        "id": "FthYtG-AhHos"
      },
      "source": [
        "Queens and staten island are the most busiest neighbourhood group because of  the average price"
      ]
    },
    {
      "cell_type": "markdown",
      "metadata": {
        "id": "wkzzQ0pjTugX"
      },
      "source": [
        "# **Cleaning the data**"
      ]
    },
    {
      "cell_type": "code",
      "metadata": {
        "id": "UlBXkxaGZaLj"
      },
      "source": [
        "airbnb_df.isnull().sum()"
      ],
      "execution_count": null,
      "outputs": []
    },
    {
      "cell_type": "markdown",
      "metadata": {
        "id": "6p-L91z3Z8cT"
      },
      "source": [
        ""
      ]
    },
    {
      "cell_type": "code",
      "metadata": {
        "id": "imzH-3mOWeCa"
      },
      "source": [
        "airbnb_df.drop(['id','host_name','last_review'],axis=1,inplace=True)"
      ],
      "execution_count": null,
      "outputs": []
    },
    {
      "cell_type": "code",
      "metadata": {
        "id": "sKmwhHiKbtGV"
      },
      "source": [
        "airbnb_df.head()"
      ],
      "execution_count": null,
      "outputs": []
    },
    {
      "cell_type": "code",
      "metadata": {
        "id": "FeuzczVscAj3"
      },
      "source": [
        "airbnb_df.shape"
      ],
      "execution_count": null,
      "outputs": []
    },
    {
      "cell_type": "code",
      "metadata": {
        "id": "pOiobdDZXMWP"
      },
      "source": [
        "airbnb_df['reviews_per_month'].fillna({'reviews_per_month':0},inplace=True)"
      ],
      "execution_count": null,
      "outputs": []
    },
    {
      "cell_type": "code",
      "metadata": {
        "id": "g-YbUORdeEH-"
      },
      "source": [
        "airbnb_df.reviews_per_month.isnull().sum()   #examin change"
      ],
      "execution_count": null,
      "outputs": []
    },
    {
      "cell_type": "code",
      "metadata": {
        "id": "JfPxiJNyM2v9"
      },
      "source": [
        "airbnb_df.shape"
      ],
      "execution_count": null,
      "outputs": []
    },
    {
      "cell_type": "code",
      "metadata": {
        "id": "rHGh0xiAMceJ"
      },
      "source": [
        "airbnb_df.info()   "
      ],
      "execution_count": null,
      "outputs": []
    },
    {
      "cell_type": "markdown",
      "metadata": {
        "id": "bolwfHdMMmU0"
      },
      "source": [
        "# As i see from the table their is no null value."
      ]
    },
    {
      "cell_type": "markdown",
      "metadata": {
        "id": "3tYJ28DBfmhG"
      },
      "source": [
        "# **Data observation**"
      ]
    },
    {
      "cell_type": "code",
      "metadata": {
        "id": "K9GB5wl9ecll"
      },
      "source": [
        "#let's examin some intrested unique neighbourhood_group value\n",
        "airbnb_df.neighbourhood_group.unique()"
      ],
      "execution_count": null,
      "outputs": []
    },
    {
      "cell_type": "code",
      "metadata": {
        "id": "y0kiuSNyf5SX"
      },
      "source": [
        "#let's examin some intrested unique neighbourhood value\n",
        "airbnb_df.neighbourhood.unique()"
      ],
      "execution_count": null,
      "outputs": []
    },
    {
      "cell_type": "code",
      "metadata": {
        "id": "D_cx7NIFgIwb"
      },
      "source": [
        "#out of 48894 their are how much no of unique value for the respective neighbourhood\n",
        "len(airbnb_df.neighbourhood.unique())"
      ],
      "execution_count": null,
      "outputs": []
    },
    {
      "cell_type": "code",
      "metadata": {
        "id": "oYGZvn8FgRHL"
      },
      "source": [
        "#let's examin some intrested unique room_type value\n",
        "airbnb_df.room_type.unique()"
      ],
      "execution_count": null,
      "outputs": []
    },
    {
      "cell_type": "code",
      "metadata": {
        "id": "2k7e4EKvbm_f"
      },
      "source": [
        "room__type_count=airbnb_df.groupby(airbnb_df['room_type']).count().reset_index()\n",
        "room__type_count"
      ],
      "execution_count": null,
      "outputs": []
    },
    {
      "cell_type": "code",
      "metadata": {
        "id": "R6TRuMLgdGQK"
      },
      "source": [
        "room__type_count.index=room__type_count['room_type']\n",
        "ploypie=room__type_count.plot.pie(y='host_id',legend=False,title='ROOM TYPES',figsize=(10,5))"
      ],
      "execution_count": null,
      "outputs": []
    },
    {
      "cell_type": "code",
      "metadata": {
        "id": "bUWk2ffShaDW"
      },
      "source": [
        "#calculate the most listed  host id who takes maximum benifits from this platform \n",
        "top_host=airbnb_df.host_id.value_counts().head(10)"
      ],
      "execution_count": null,
      "outputs": []
    },
    {
      "cell_type": "code",
      "metadata": {
        "id": "Bc6EiB0Bl5_Y"
      },
      "source": [
        "top_host"
      ],
      "execution_count": null,
      "outputs": []
    },
    {
      "cell_type": "code",
      "metadata": {
        "id": "gO3hlFermrq5"
      },
      "source": [
        "# finding with already existing columns\n",
        "top_host_check=airbnb_df.calculated_host_listings_count.max()"
      ],
      "execution_count": null,
      "outputs": []
    },
    {
      "cell_type": "code",
      "metadata": {
        "id": "3G7d-fcPnIkT"
      },
      "source": [
        "top_host_check"
      ],
      "execution_count": null,
      "outputs": []
    },
    {
      "cell_type": "markdown",
      "metadata": {
        "id": "uKIhNbz2oaqK"
      },
      "source": [
        "# **let's Get start doing data visualization **"
      ]
    },
    {
      "cell_type": "code",
      "metadata": {
        "id": "Xuy3zm_bnL-q"
      },
      "source": [
        "#setting size of the figure for the future visualization\n",
        "sns.set({'figure.figsize':(10,8)})\n",
        "sns.set_style('white')"
      ],
      "execution_count": null,
      "outputs": []
    },
    {
      "cell_type": "code",
      "metadata": {
        "id": "zOEi-vfJwUGE"
      },
      "source": [
        "top_host_df=pd.DataFrame(top_host)\n",
        "top_host_df"
      ],
      "execution_count": null,
      "outputs": []
    },
    {
      "cell_type": "code",
      "metadata": {
        "id": "25eZ8PmCzD-q"
      },
      "source": [
        "top_host_df.reset_index(inplace=True)\n",
        "top_host_df"
      ],
      "execution_count": null,
      "outputs": []
    },
    {
      "cell_type": "code",
      "metadata": {
        "id": "fiibAeIEzgNA"
      },
      "source": [
        "top_host_df.rename(columns={'index':'T-host','host_id':'host_Value'},inplace=True)"
      ],
      "execution_count": null,
      "outputs": []
    },
    {
      "cell_type": "code",
      "metadata": {
        "id": "ihrcCbZB3Fes"
      },
      "source": [
        "top_host_df"
      ],
      "execution_count": null,
      "outputs": []
    },
    {
      "cell_type": "code",
      "metadata": {
        "id": "oRm50jKDRlpY"
      },
      "source": [
        ""
      ],
      "execution_count": null,
      "outputs": []
    },
    {
      "cell_type": "code",
      "metadata": {
        "id": "NiFtSSn13Ht4"
      },
      "source": [
        "visual1=sns.barplot(x='T-host',y='host_Value',data=top_host_df,palette=\"Blues_d\")\n",
        "visual1.set_title('top host with the most listed in NYC ')\n",
        "visual1.set_ylabel('host counts')\n",
        "visual1.set_xlabel('top host')\n",
        "visual1.set_xticks(visual1.get_xticks())\n"
      ],
      "execution_count": null,
      "outputs": []
    },
    {
      "cell_type": "code",
      "metadata": {
        "id": "o302EcT45_f3"
      },
      "source": [
        "#insights from our neighbourhood 'Brooklyn', 'Manhattan', 'Queens', 'Staten Island', 'Bronx\n",
        "#for Brooklyn\n",
        "price_1=airbnb_df.loc[airbnb_df['neighbourhood_group']=='Brooklyn']\n",
        "price_1list=price_1[['price']]\n",
        "#'Manhattan\n",
        "price_2=airbnb_df.loc[airbnb_df['neighbourhood_group']=='Manhattan']\n",
        "price_2list=price_2[['price']]\n",
        "#'Queens\n",
        "price_3=airbnb_df.loc[airbnb_df['neighbourhood_group']=='Queens']\n",
        "price_3list=price_3[['price']]\n",
        "#'Staten island\n",
        "price_4=airbnb_df.loc[airbnb_df['neighbourhood_group']=='Staten Island']\n",
        "price_4list=price_4[['price']]\n",
        "#Bronx\n",
        "price_5=airbnb_df.loc[airbnb_df['neighbourhood_group']=='Bronx']\n",
        "price_5list=price_5[['price']]\n",
        "final_price_list=[price_1list,price_2list,price_3list,price_4list,price_5list]"
      ],
      "execution_count": null,
      "outputs": []
    },
    {
      "cell_type": "code",
      "metadata": {
        "id": "5S6I0qqLItv1"
      },
      "source": [
        "final_price_list"
      ],
      "execution_count": null,
      "outputs": []
    },
    {
      "cell_type": "code",
      "metadata": {
        "id": "BCKeZ_bhm0Dx"
      },
      "source": [
        "# known values in neighbourhood_group column by using for loop\n",
        "list_of_price=[]\n",
        "new_list=['Brooklyn','Manhattan','Queens','Staten Island','Bronx']\n",
        "\n",
        "for x in final_price_list:\n",
        "    a=x.describe(percentiles=[0.25, 0.50, 0.75])\n",
        "    a=a.iloc[3:]\n",
        "    a.reset_index(inplace=True)\n",
        "    a.rename(columns={'index':'Stats'}, inplace=True)\n",
        "    list_of_price.append(a)\n",
        "# names of the price column to the area name for easier reading of the table       \n",
        "list_of_price[0].rename(columns={'price':new_list[0]}, inplace=True)\n",
        "list_of_price[1].rename(columns={'price':new_list[1]}, inplace=True)\n",
        "list_of_price[2].rename(columns={'price':new_list[2]}, inplace=True)\n",
        "list_of_price[3].rename(columns={'price':new_list[3]}, inplace=True)\n",
        "list_of_price[4].rename(columns={'price':new_list[4]}, inplace=True)\n",
        "#finilizing our dataframe for final view    \n",
        "stat_df=list_of_price\n",
        "stat_df=[df.set_index('Stats') for df in stat_df]\n",
        "stat_df=stat_df[0].join(stat_df[1:])\n",
        "stat_df"
      ],
      "execution_count": null,
      "outputs": []
    },
    {
      "cell_type": "code",
      "metadata": {
        "id": "mIb6J3ZaYPTO"
      },
      "source": [
        ""
      ],
      "execution_count": null,
      "outputs": []
    },
    {
      "cell_type": "code",
      "metadata": {
        "id": "AVD1NAE13Y9v"
      },
      "source": [
        "#after seeing statistic table we can easily observ that we have some extreem value so for we need to remove it for better visualisation \n",
        "# creating a sub data frame with value less than 500\n",
        "sub_data=airbnb_df[airbnb_df.price<500]\n",
        "sub_data "
      ],
      "execution_count": null,
      "outputs": []
    },
    {
      "cell_type": "code",
      "metadata": {
        "id": "v3BKxYB19duO"
      },
      "source": [
        "#fining the top ten neighbourhood\n",
        "airbnb_df.neighbourhood.value_counts().head(11).reset_index()"
      ],
      "execution_count": null,
      "outputs": []
    },
    {
      "cell_type": "code",
      "metadata": {
        "id": "5XIgbf10fxwN"
      },
      "source": [
        "#combine this data with roomtype for inrich the visualisation\n",
        "sub_data2=airbnb_df.loc[airbnb_df['neighbourhood'].isin(['Williamsburg','Bedford-Stuyvesant','Harlem','Bushwick','Upper West Side','Hell\\s kitchen','East Village','Upper East Side','Crown Heights','Midtown','East Harlem'])]\n",
        "#suing catplot to represnting mutltiple atribute together\n",
        "visual3=sns.catplot(x='neighbourhood',hue='neighbourhood_group',col='room_type',data=sub_data2,kind='count')\n",
        "visual3.set_xticklabels(rotation=90)"
      ],
      "execution_count": null,
      "outputs": []
    },
    {
      "cell_type": "markdown",
      "metadata": {
        "id": "80k3iq7QiBue"
      },
      "source": [
        "**what we can see from the above 3 sub plots.we can make comparision of distribution of attributes.y-axis and x-axis are same in both the plot.in the y-axis we take count and on the x-axis we take observation we want like here neighbourhoodtheir are two more important element:column and hue.after specifying the column and determining the hue we are able to compair and observe the y-axis and x-axis among the specified column as well colour-code.so basically what we observerd the shared room type have less no of intrest.we can seen from the top 10 neighbourhood only Manhattan and Brooklyn are the most travel destination theirfore would have the most listing availability.we can also observed Bedford-stuyvesent and williamsburg are most populated from Manhattan and harlem from Brooklyn**"
      ]
    },
    {
      "cell_type": "code",
      "metadata": {
        "id": "8drKFJj9jTDv"
      },
      "source": [
        "# now take some insights from longitude and latitude\n",
        "#let's draw scatter plot \n",
        "plt.figure(figsize=(10,8))\n",
        "visual4 =sns.scatterplot(x=\"longitude\", y=\"latitude\", hue=\"neighbourhood_group\",palette=['blue','green','yellow','grey','red'], legend='full',data=sub_data)"
      ],
      "execution_count": null,
      "outputs": []
    },
    {
      "cell_type": "code",
      "metadata": {
        "id": "UyI9WNeY1lw0"
      },
      "source": [
        ""
      ],
      "execution_count": null,
      "outputs": []
    }
  ]
}
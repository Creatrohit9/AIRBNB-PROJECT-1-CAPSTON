{
  "nbformat": 4,
  "nbformat_minor": 0,
  "metadata": {
    "colab": {
      "name": "MD1WK4ROHIT Airbnb Bookings Analysis - Capstone Project.ipynb",
      "provenance": [],
      "collapsed_sections": [],
      "include_colab_link": true
    },
    "kernelspec": {
      "display_name": "Python 3",
      "language": "python",
      "name": "python3"
    },
    "language_info": {
      "codemirror_mode": {
        "name": "ipython",
        "version": 3
      },
      "file_extension": ".py",
      "mimetype": "text/x-python",
      "name": "python",
      "nbconvert_exporter": "python",
      "pygments_lexer": "ipython3",
      "version": "3.6.6"
    }
  },
  "cells": [
    {
      "cell_type": "markdown",
      "metadata": {
        "id": "view-in-github",
        "colab_type": "text"
      },
      "source": [
        "<a href=\"https://colab.research.google.com/github/Creatrohit9/AIRBNB-PROJECT-1-CAPSTON/blob/main/MD1WK4ROHIT_Airbnb_Bookings_Analysis_Capstone_Project.ipynb\" target=\"_parent\"><img src=\"https://colab.research.google.com/assets/colab-badge.svg\" alt=\"Open In Colab\"/></a>"
      ]
    },
    {
      "cell_type": "markdown",
      "metadata": {
        "id": "Y06xIdG26kRF"
      },
      "source": [
        ".## <b> Since 2008, guests and hosts have used Airbnb to expand on traveling possibilities and present a more unique, personalized way of experiencing the world. Today, Airbnb became one of a kind service that is used and recognized by the whole world. Data analysis on millions of listings provided through Airbnb is a crucial factor for the company. These millions of listings generate a lot of data - data that can be analyzed and used for security, business decisions, understanding of customers' and providers' (hosts) behavior and performance on the platform, guiding marketing initiatives, implementation of innovative additional services and much more. </b>\n",
        "\n",
        "## <b>This dataset has around 49,000 observations in it with 16 columns and it is a mix between categorical and numeric values. </b>\n",
        "\n",
        "## <b> Explore and analyze the data to discover key understandings (not limited to these) such as : \n",
        "* What can we learn about different hosts and areas?\n",
        "* What can we learn from predictions? (ex: locations, prices, reviews, etc)\n",
        "* Which hosts are the busiest and why?\n",
        "* Is there any noticeable difference of traffic among different areas and what could be the reason for it? </b>"
      ]
    },
    {
      "cell_type": "markdown",
      "metadata": {
        "id": "Ee9TKsI31xgK"
      },
      "source": [
        "#   Start This journey with full of Ups and downs with some Motivational Quots"
      ]
    },
    {
      "cell_type": "markdown",
      "metadata": {
        "id": "i1yTbeBAyMEq"
      },
      "source": [
        "#''Meri Kasti Mai Bhavar Bandhkar Duniya Khus Hai\n",
        "# Duniya Ddekhegi Ki Sahil Per pahucha Kaun hai''"
      ]
    },
    {
      "cell_type": "markdown",
      "metadata": {
        "id": "PHfiU0EXz0DN"
      },
      "source": [
        "# **Life doesn’t get easier or more forgiving, we get stronger and more resilient**.\n",
        "~ Steve Maraboli"
      ]
    },
    {
      "cell_type": "markdown",
      "metadata": {
        "id": "MrgHDp62zz87"
      },
      "source": [
        "# **Ultimately, the greatest lesson that COVID-19 can teach humanity is that we are all in this together**.\n",
        "~ Kiran Mazumdar-Shaw"
      ]
    },
    {
      "cell_type": "markdown",
      "metadata": {
        "id": "MFSDk9bH3htD"
      },
      "source": [
        "#    We do lots of google as well kaggle for this research analysis see work approch of\n",
        "#    multiple data scientist .\n",
        "    "
      ]
    },
    {
      "cell_type": "markdown",
      "metadata": {
        "id": "Uz7qtrTi6ZFa"
      },
      "source": [
        "0.1-**Case study-** \n",
        "   the purpose of this case study is to analyzing the pricing trend between property type and neighbourhood or any  correlation observation  between review and price "
      ]
    },
    {
      "cell_type": "markdown",
      "metadata": {
        "id": "EYs4cLXF73AT"
      },
      "source": [
        "**0.2-Data cleaning,transformation and Analysis**"
      ]
    },
    {
      "cell_type": "markdown",
      "metadata": {
        "id": "XeayfTdFDh0m"
      },
      "source": [
        "# *Libraries Prepration for the  Data Analysis and plot*"
      ]
    },
    {
      "cell_type": "code",
      "metadata": {
        "id": "dByMsuzT8Tnw"
      },
      "source": [
        "\n",
        "import pandas as pd\n",
        "import numpy as np\n",
        "import seaborn as sns\n",
        "from numpy import math        #used for perform math on scalar data\n",
        "from numpy import loadtxt     #fast reader for simple text files\n",
        "import matplotlib.pyplot as plt\n",
        "%matplotlib inline  \n",
        "import matplotlib.image as mpimg      # for reading image as an array\n",
        "\n",
        "import warnings\n",
        "warnings.filterwarnings('ignore')   #we importing this lib because we are filtering tha data lot so don't feel struck just go on "
      ],
      "execution_count": null,
      "outputs": []
    },
    {
      "cell_type": "code",
      "metadata": {
        "colab": {
          "base_uri": "https://localhost:8080/"
        },
        "id": "Xl5FCr0NAQ7O",
        "outputId": "1226d8c7-a341-499e-e728-491431f73056"
      },
      "source": [
        "pd.show_versions()"
      ],
      "execution_count": null,
      "outputs": [
        {
          "output_type": "stream",
          "text": [
            "\n",
            "INSTALLED VERSIONS\n",
            "------------------\n",
            "commit           : b5958ee1999e9aead1938c0bba2b674378807b3d\n",
            "python           : 3.7.11.final.0\n",
            "python-bits      : 64\n",
            "OS               : Linux\n",
            "OS-release       : 5.4.104+\n",
            "Version          : #1 SMP Sat Jun 5 09:50:34 PDT 2021\n",
            "machine          : x86_64\n",
            "processor        : x86_64\n",
            "byteorder        : little\n",
            "LC_ALL           : None\n",
            "LANG             : en_US.UTF-8\n",
            "LOCALE           : en_US.UTF-8\n",
            "\n",
            "pandas           : 1.1.5\n",
            "numpy            : 1.19.5\n",
            "pytz             : 2018.9\n",
            "dateutil         : 2.8.1\n",
            "pip              : 21.1.3\n",
            "setuptools       : 57.2.0\n",
            "Cython           : 0.29.23\n",
            "pytest           : 3.6.4\n",
            "hypothesis       : None\n",
            "sphinx           : 1.8.5\n",
            "blosc            : None\n",
            "feather          : 0.4.1\n",
            "xlsxwriter       : None\n",
            "lxml.etree       : 4.2.6\n",
            "html5lib         : 1.0.1\n",
            "pymysql          : None\n",
            "psycopg2         : 2.7.6.1 (dt dec pq3 ext lo64)\n",
            "jinja2           : 2.11.3\n",
            "IPython          : 5.5.0\n",
            "pandas_datareader: 0.9.0\n",
            "bs4              : 4.6.3\n",
            "bottleneck       : 1.3.2\n",
            "fsspec           : None\n",
            "fastparquet      : None\n",
            "gcsfs            : None\n",
            "matplotlib       : 3.2.2\n",
            "numexpr          : 2.7.3\n",
            "odfpy            : None\n",
            "openpyxl         : 2.5.9\n",
            "pandas_gbq       : 0.13.3\n",
            "pyarrow          : 3.0.0\n",
            "pytables         : None\n",
            "pyxlsb           : None\n",
            "s3fs             : None\n",
            "scipy            : 1.4.1\n",
            "sqlalchemy       : 1.4.20\n",
            "tables           : 3.4.4\n",
            "tabulate         : 0.8.9\n",
            "xarray           : 0.18.2\n",
            "xlrd             : 1.1.0\n",
            "xlwt             : 1.3.0\n",
            "numba            : 0.51.2\n"
          ],
          "name": "stdout"
        }
      ]
    },
    {
      "cell_type": "code",
      "metadata": {
        "colab": {
          "base_uri": "https://localhost:8080/"
        },
        "id": "CyCOqPq3s_RJ",
        "outputId": "0d7011b4-9670-4322-a071-745b3c1cf4e6"
      },
      "source": [
        "from google.colab import drive\n",
        "drive.mount('/content/drive')"
      ],
      "execution_count": null,
      "outputs": [
        {
          "output_type": "stream",
          "text": [
            "Drive already mounted at /content/drive; to attempt to forcibly remount, call drive.mount(\"/content/drive\", force_remount=True).\n"
          ],
          "name": "stdout"
        }
      ]
    },
    {
      "cell_type": "code",
      "metadata": {
        "id": "4TU-EGGrtkxS"
      },
      "source": [
        "file_path='/content/drive/MyDrive/Airbnb NYC 2019.csv'      #file path reading or csv upload to coolab from drive\n",
        "airbnb_df=pd.read_csv(file_path)"
      ],
      "execution_count": null,
      "outputs": []
    },
    {
      "cell_type": "markdown",
      "metadata": {
        "id": "zTLkTBy7ENNV"
      },
      "source": [
        "# **Data Summary**"
      ]
    },
    {
      "cell_type": "code",
      "metadata": {
        "colab": {
          "base_uri": "https://localhost:8080/",
          "height": 415
        },
        "id": "uYxLX3o_tAjG",
        "outputId": "b9e668fa-5e9a-4d04-9386-fbdc187061a5"
      },
      "source": [
        "#read first five row  of data \n",
        "airbnb_df.head()"
      ],
      "execution_count": null,
      "outputs": [
        {
          "output_type": "execute_result",
          "data": {
            "text/html": [
              "<div>\n",
              "<style scoped>\n",
              "    .dataframe tbody tr th:only-of-type {\n",
              "        vertical-align: middle;\n",
              "    }\n",
              "\n",
              "    .dataframe tbody tr th {\n",
              "        vertical-align: top;\n",
              "    }\n",
              "\n",
              "    .dataframe thead th {\n",
              "        text-align: right;\n",
              "    }\n",
              "</style>\n",
              "<table border=\"1\" class=\"dataframe\">\n",
              "  <thead>\n",
              "    <tr style=\"text-align: right;\">\n",
              "      <th></th>\n",
              "      <th>id</th>\n",
              "      <th>name</th>\n",
              "      <th>host_id</th>\n",
              "      <th>host_name</th>\n",
              "      <th>neighbourhood_group</th>\n",
              "      <th>neighbourhood</th>\n",
              "      <th>latitude</th>\n",
              "      <th>longitude</th>\n",
              "      <th>room_type</th>\n",
              "      <th>price</th>\n",
              "      <th>minimum_nights</th>\n",
              "      <th>number_of_reviews</th>\n",
              "      <th>last_review</th>\n",
              "      <th>reviews_per_month</th>\n",
              "      <th>calculated_host_listings_count</th>\n",
              "      <th>availability_365</th>\n",
              "    </tr>\n",
              "  </thead>\n",
              "  <tbody>\n",
              "    <tr>\n",
              "      <th>0</th>\n",
              "      <td>2539</td>\n",
              "      <td>Clean &amp; quiet apt home by the park</td>\n",
              "      <td>2787</td>\n",
              "      <td>John</td>\n",
              "      <td>Brooklyn</td>\n",
              "      <td>Kensington</td>\n",
              "      <td>40.64749</td>\n",
              "      <td>-73.97237</td>\n",
              "      <td>Private room</td>\n",
              "      <td>149</td>\n",
              "      <td>1</td>\n",
              "      <td>9</td>\n",
              "      <td>2018-10-19</td>\n",
              "      <td>0.21</td>\n",
              "      <td>6</td>\n",
              "      <td>365</td>\n",
              "    </tr>\n",
              "    <tr>\n",
              "      <th>1</th>\n",
              "      <td>2595</td>\n",
              "      <td>Skylit Midtown Castle</td>\n",
              "      <td>2845</td>\n",
              "      <td>Jennifer</td>\n",
              "      <td>Manhattan</td>\n",
              "      <td>Midtown</td>\n",
              "      <td>40.75362</td>\n",
              "      <td>-73.98377</td>\n",
              "      <td>Entire home/apt</td>\n",
              "      <td>225</td>\n",
              "      <td>1</td>\n",
              "      <td>45</td>\n",
              "      <td>2019-05-21</td>\n",
              "      <td>0.38</td>\n",
              "      <td>2</td>\n",
              "      <td>355</td>\n",
              "    </tr>\n",
              "    <tr>\n",
              "      <th>2</th>\n",
              "      <td>3647</td>\n",
              "      <td>THE VILLAGE OF HARLEM....NEW YORK !</td>\n",
              "      <td>4632</td>\n",
              "      <td>Elisabeth</td>\n",
              "      <td>Manhattan</td>\n",
              "      <td>Harlem</td>\n",
              "      <td>40.80902</td>\n",
              "      <td>-73.94190</td>\n",
              "      <td>Private room</td>\n",
              "      <td>150</td>\n",
              "      <td>3</td>\n",
              "      <td>0</td>\n",
              "      <td>NaN</td>\n",
              "      <td>NaN</td>\n",
              "      <td>1</td>\n",
              "      <td>365</td>\n",
              "    </tr>\n",
              "    <tr>\n",
              "      <th>3</th>\n",
              "      <td>3831</td>\n",
              "      <td>Cozy Entire Floor of Brownstone</td>\n",
              "      <td>4869</td>\n",
              "      <td>LisaRoxanne</td>\n",
              "      <td>Brooklyn</td>\n",
              "      <td>Clinton Hill</td>\n",
              "      <td>40.68514</td>\n",
              "      <td>-73.95976</td>\n",
              "      <td>Entire home/apt</td>\n",
              "      <td>89</td>\n",
              "      <td>1</td>\n",
              "      <td>270</td>\n",
              "      <td>2019-07-05</td>\n",
              "      <td>4.64</td>\n",
              "      <td>1</td>\n",
              "      <td>194</td>\n",
              "    </tr>\n",
              "    <tr>\n",
              "      <th>4</th>\n",
              "      <td>5022</td>\n",
              "      <td>Entire Apt: Spacious Studio/Loft by central park</td>\n",
              "      <td>7192</td>\n",
              "      <td>Laura</td>\n",
              "      <td>Manhattan</td>\n",
              "      <td>East Harlem</td>\n",
              "      <td>40.79851</td>\n",
              "      <td>-73.94399</td>\n",
              "      <td>Entire home/apt</td>\n",
              "      <td>80</td>\n",
              "      <td>10</td>\n",
              "      <td>9</td>\n",
              "      <td>2018-11-19</td>\n",
              "      <td>0.10</td>\n",
              "      <td>1</td>\n",
              "      <td>0</td>\n",
              "    </tr>\n",
              "  </tbody>\n",
              "</table>\n",
              "</div>"
            ],
            "text/plain": [
              "     id  ... availability_365\n",
              "0  2539  ...              365\n",
              "1  2595  ...              355\n",
              "2  3647  ...              365\n",
              "3  3831  ...              194\n",
              "4  5022  ...                0\n",
              "\n",
              "[5 rows x 16 columns]"
            ]
          },
          "metadata": {
            "tags": []
          },
          "execution_count": 307
        }
      ]
    },
    {
      "cell_type": "markdown",
      "metadata": {
        "id": "eVafIHsrJeQ4"
      },
      "source": [
        "# *Road Map of data Analysis*\n",
        "Reagarding host-\n",
        "  -Who are the top earners\n",
        "  -Is there any relationship between monthly earnig and price\n",
        "\n",
        "\n",
        "Regarding the Neighbourhood- \n",
        "\n",
        "\n",
        "  -Any perticular location getting maximum number of bookings\n",
        "  -Price realtionwith respect to location\n",
        "\n",
        "Regarding the reviews-\n",
        "\n",
        "-Relationship between Quality and price\n",
        "\n",
        "\n",
        "Regarding Price-\n",
        "\n",
        "\n",
        "\n",
        "privce vs amenities\n",
        "\n",
        "Price vs location   \n",
        "\n",
        "\n"
      ]
    },
    {
      "cell_type": "code",
      "metadata": {
        "colab": {
          "base_uri": "https://localhost:8080/"
        },
        "id": "PKUahl6tJFs1",
        "outputId": "2b3a4982-2c81-4c72-9d3d-389e71a0c1ed"
      },
      "source": [
        "#no or row and columns we are going to deal\n",
        "airbnb_df.shape"
      ],
      "execution_count": null,
      "outputs": [
        {
          "output_type": "execute_result",
          "data": {
            "text/plain": [
              "(48895, 16)"
            ]
          },
          "metadata": {
            "tags": []
          },
          "execution_count": 308
        }
      ]
    },
    {
      "cell_type": "code",
      "metadata": {
        "colab": {
          "base_uri": "https://localhost:8080/"
        },
        "id": "6W_quTRBHdcW",
        "outputId": "c7fb31b4-6b28-42c1-91b7-60f773693dad"
      },
      "source": [
        "#Name of columns we have in our data base \n",
        "airbnb_df.columns"
      ],
      "execution_count": null,
      "outputs": [
        {
          "output_type": "execute_result",
          "data": {
            "text/plain": [
              "Index(['id', 'name', 'host_id', 'host_name', 'neighbourhood_group',\n",
              "       'neighbourhood', 'latitude', 'longitude', 'room_type', 'price',\n",
              "       'minimum_nights', 'number_of_reviews', 'last_review',\n",
              "       'reviews_per_month', 'calculated_host_listings_count',\n",
              "       'availability_365'],\n",
              "      dtype='object')"
            ]
          },
          "metadata": {
            "tags": []
          },
          "execution_count": 309
        }
      ]
    },
    {
      "cell_type": "markdown",
      "metadata": {
        "id": "yWn80C46DTeR"
      },
      "source": [
        "# **Descriptive Analysis**"
      ]
    },
    {
      "cell_type": "code",
      "metadata": {
        "colab": {
          "base_uri": "https://localhost:8080/",
          "height": 319
        },
        "id": "J9OukSGYuGJO",
        "outputId": "9a15c446-57d1-4684-b264-aac9cf72aa85"
      },
      "source": [
        "#value through we are goin to deal\n",
        "airbnb_df.describe()"
      ],
      "execution_count": null,
      "outputs": [
        {
          "output_type": "execute_result",
          "data": {
            "text/html": [
              "<div>\n",
              "<style scoped>\n",
              "    .dataframe tbody tr th:only-of-type {\n",
              "        vertical-align: middle;\n",
              "    }\n",
              "\n",
              "    .dataframe tbody tr th {\n",
              "        vertical-align: top;\n",
              "    }\n",
              "\n",
              "    .dataframe thead th {\n",
              "        text-align: right;\n",
              "    }\n",
              "</style>\n",
              "<table border=\"1\" class=\"dataframe\">\n",
              "  <thead>\n",
              "    <tr style=\"text-align: right;\">\n",
              "      <th></th>\n",
              "      <th>id</th>\n",
              "      <th>host_id</th>\n",
              "      <th>latitude</th>\n",
              "      <th>longitude</th>\n",
              "      <th>price</th>\n",
              "      <th>minimum_nights</th>\n",
              "      <th>number_of_reviews</th>\n",
              "      <th>reviews_per_month</th>\n",
              "      <th>calculated_host_listings_count</th>\n",
              "      <th>availability_365</th>\n",
              "    </tr>\n",
              "  </thead>\n",
              "  <tbody>\n",
              "    <tr>\n",
              "      <th>count</th>\n",
              "      <td>4.889500e+04</td>\n",
              "      <td>4.889500e+04</td>\n",
              "      <td>48895.000000</td>\n",
              "      <td>48895.000000</td>\n",
              "      <td>48895.000000</td>\n",
              "      <td>48895.000000</td>\n",
              "      <td>48895.000000</td>\n",
              "      <td>38843.000000</td>\n",
              "      <td>48895.000000</td>\n",
              "      <td>48895.000000</td>\n",
              "    </tr>\n",
              "    <tr>\n",
              "      <th>mean</th>\n",
              "      <td>1.901714e+07</td>\n",
              "      <td>6.762001e+07</td>\n",
              "      <td>40.728949</td>\n",
              "      <td>-73.952170</td>\n",
              "      <td>152.720687</td>\n",
              "      <td>7.029962</td>\n",
              "      <td>23.274466</td>\n",
              "      <td>1.373221</td>\n",
              "      <td>7.143982</td>\n",
              "      <td>112.781327</td>\n",
              "    </tr>\n",
              "    <tr>\n",
              "      <th>std</th>\n",
              "      <td>1.098311e+07</td>\n",
              "      <td>7.861097e+07</td>\n",
              "      <td>0.054530</td>\n",
              "      <td>0.046157</td>\n",
              "      <td>240.154170</td>\n",
              "      <td>20.510550</td>\n",
              "      <td>44.550582</td>\n",
              "      <td>1.680442</td>\n",
              "      <td>32.952519</td>\n",
              "      <td>131.622289</td>\n",
              "    </tr>\n",
              "    <tr>\n",
              "      <th>min</th>\n",
              "      <td>2.539000e+03</td>\n",
              "      <td>2.438000e+03</td>\n",
              "      <td>40.499790</td>\n",
              "      <td>-74.244420</td>\n",
              "      <td>0.000000</td>\n",
              "      <td>1.000000</td>\n",
              "      <td>0.000000</td>\n",
              "      <td>0.010000</td>\n",
              "      <td>1.000000</td>\n",
              "      <td>0.000000</td>\n",
              "    </tr>\n",
              "    <tr>\n",
              "      <th>25%</th>\n",
              "      <td>9.471945e+06</td>\n",
              "      <td>7.822033e+06</td>\n",
              "      <td>40.690100</td>\n",
              "      <td>-73.983070</td>\n",
              "      <td>69.000000</td>\n",
              "      <td>1.000000</td>\n",
              "      <td>1.000000</td>\n",
              "      <td>0.190000</td>\n",
              "      <td>1.000000</td>\n",
              "      <td>0.000000</td>\n",
              "    </tr>\n",
              "    <tr>\n",
              "      <th>50%</th>\n",
              "      <td>1.967728e+07</td>\n",
              "      <td>3.079382e+07</td>\n",
              "      <td>40.723070</td>\n",
              "      <td>-73.955680</td>\n",
              "      <td>106.000000</td>\n",
              "      <td>3.000000</td>\n",
              "      <td>5.000000</td>\n",
              "      <td>0.720000</td>\n",
              "      <td>1.000000</td>\n",
              "      <td>45.000000</td>\n",
              "    </tr>\n",
              "    <tr>\n",
              "      <th>75%</th>\n",
              "      <td>2.915218e+07</td>\n",
              "      <td>1.074344e+08</td>\n",
              "      <td>40.763115</td>\n",
              "      <td>-73.936275</td>\n",
              "      <td>175.000000</td>\n",
              "      <td>5.000000</td>\n",
              "      <td>24.000000</td>\n",
              "      <td>2.020000</td>\n",
              "      <td>2.000000</td>\n",
              "      <td>227.000000</td>\n",
              "    </tr>\n",
              "    <tr>\n",
              "      <th>max</th>\n",
              "      <td>3.648724e+07</td>\n",
              "      <td>2.743213e+08</td>\n",
              "      <td>40.913060</td>\n",
              "      <td>-73.712990</td>\n",
              "      <td>10000.000000</td>\n",
              "      <td>1250.000000</td>\n",
              "      <td>629.000000</td>\n",
              "      <td>58.500000</td>\n",
              "      <td>327.000000</td>\n",
              "      <td>365.000000</td>\n",
              "    </tr>\n",
              "  </tbody>\n",
              "</table>\n",
              "</div>"
            ],
            "text/plain": [
              "                 id  ...  availability_365\n",
              "count  4.889500e+04  ...      48895.000000\n",
              "mean   1.901714e+07  ...        112.781327\n",
              "std    1.098311e+07  ...        131.622289\n",
              "min    2.539000e+03  ...          0.000000\n",
              "25%    9.471945e+06  ...          0.000000\n",
              "50%    1.967728e+07  ...         45.000000\n",
              "75%    2.915218e+07  ...        227.000000\n",
              "max    3.648724e+07  ...        365.000000\n",
              "\n",
              "[8 rows x 10 columns]"
            ]
          },
          "metadata": {
            "tags": []
          },
          "execution_count": 310
        }
      ]
    },
    {
      "cell_type": "markdown",
      "metadata": {
        "id": "URfO2g03Dd5N"
      },
      "source": [
        "-All colunms except latitude and longitude have a big gap between the third quartilevalue and the max value.\n",
        "-The min value of the price is 0"
      ]
    },
    {
      "cell_type": "code",
      "metadata": {
        "colab": {
          "base_uri": "https://localhost:8080/"
        },
        "id": "P-Td6xS7uMia",
        "outputId": "811f3ffb-ac7c-4de0-e8da-a0343409a630"
      },
      "source": [
        "# data information we have\n",
        "airbnb_df.info()"
      ],
      "execution_count": null,
      "outputs": [
        {
          "output_type": "stream",
          "text": [
            "<class 'pandas.core.frame.DataFrame'>\n",
            "RangeIndex: 48895 entries, 0 to 48894\n",
            "Data columns (total 16 columns):\n",
            " #   Column                          Non-Null Count  Dtype  \n",
            "---  ------                          --------------  -----  \n",
            " 0   id                              48895 non-null  int64  \n",
            " 1   name                            48879 non-null  object \n",
            " 2   host_id                         48895 non-null  int64  \n",
            " 3   host_name                       48874 non-null  object \n",
            " 4   neighbourhood_group             48895 non-null  object \n",
            " 5   neighbourhood                   48895 non-null  object \n",
            " 6   latitude                        48895 non-null  float64\n",
            " 7   longitude                       48895 non-null  float64\n",
            " 8   room_type                       48895 non-null  object \n",
            " 9   price                           48895 non-null  int64  \n",
            " 10  minimum_nights                  48895 non-null  int64  \n",
            " 11  number_of_reviews               48895 non-null  int64  \n",
            " 12  last_review                     38843 non-null  object \n",
            " 13  reviews_per_month               38843 non-null  float64\n",
            " 14  calculated_host_listings_count  48895 non-null  int64  \n",
            " 15  availability_365                48895 non-null  int64  \n",
            "dtypes: float64(3), int64(7), object(6)\n",
            "memory usage: 6.0+ MB\n"
          ],
          "name": "stdout"
        }
      ]
    },
    {
      "cell_type": "markdown",
      "metadata": {
        "id": "oipSKHZOIAhU"
      },
      "source": [
        "we have 10052 missing value in column such last_review  and reviews_per_month"
      ]
    },
    {
      "cell_type": "markdown",
      "metadata": {
        "id": "zOouEVxGHKcb"
      },
      "source": [
        "**Start Data Cleaning**"
      ]
    },
    {
      "cell_type": "code",
      "metadata": {
        "id": "imzH-3mOWeCa"
      },
      "source": [
        "#drop all that column which not having sense for doing data analysis\n",
        "airbnb_df.drop(['id','last_review'],axis=1,inplace=True)"
      ],
      "execution_count": null,
      "outputs": []
    },
    {
      "cell_type": "code",
      "metadata": {
        "colab": {
          "base_uri": "https://localhost:8080/"
        },
        "id": "UlBXkxaGZaLj",
        "outputId": "46e27ce2-42dc-45b4-b481-5a5871fdc9ca"
      },
      "source": [
        "airbnb_df.isnull().sum()"
      ],
      "execution_count": null,
      "outputs": [
        {
          "output_type": "execute_result",
          "data": {
            "text/plain": [
              "name                                 16\n",
              "host_id                               0\n",
              "host_name                            21\n",
              "neighbourhood_group                   0\n",
              "neighbourhood                         0\n",
              "latitude                              0\n",
              "longitude                             0\n",
              "room_type                             0\n",
              "price                                 0\n",
              "minimum_nights                        0\n",
              "number_of_reviews                     0\n",
              "reviews_per_month                 10052\n",
              "calculated_host_listings_count        0\n",
              "availability_365                      0\n",
              "dtype: int64"
            ]
          },
          "metadata": {
            "tags": []
          },
          "execution_count": 313
        }
      ]
    },
    {
      "cell_type": "markdown",
      "metadata": {
        "id": "K2FdkgImHpYy"
      },
      "source": [
        "Google give us data that most of the customer serching in the price range of 20 dollar to 8000 dollar so we make price in that range for easy analysis"
      ]
    },
    {
      "cell_type": "code",
      "metadata": {
        "id": "pOiobdDZXMWP",
        "colab": {
          "base_uri": "https://localhost:8080/"
        },
        "outputId": "1c99b38c-203a-46bf-aba2-300d75f5b5e4"
      },
      "source": [
        "airbnb_df['reviews_per_month'].fillna(0,inplace=True)    # replacing all the null value from the zero\n",
        "airbnb_df['reviews_per_month']"
      ],
      "execution_count": null,
      "outputs": [
        {
          "output_type": "execute_result",
          "data": {
            "text/plain": [
              "0        0.21\n",
              "1        0.38\n",
              "2        0.00\n",
              "3        4.64\n",
              "4        0.10\n",
              "         ... \n",
              "48890    0.00\n",
              "48891    0.00\n",
              "48892    0.00\n",
              "48893    0.00\n",
              "48894    0.00\n",
              "Name: reviews_per_month, Length: 48895, dtype: float64"
            ]
          },
          "metadata": {
            "tags": []
          },
          "execution_count": 314
        }
      ]
    },
    {
      "cell_type": "code",
      "metadata": {
        "colab": {
          "base_uri": "https://localhost:8080/"
        },
        "id": "m6_VbeM6mKL1",
        "outputId": "f2e87a9b-2f79-4219-b847-69d6f0a0e33e"
      },
      "source": [
        "airbnb_df.info()"
      ],
      "execution_count": null,
      "outputs": [
        {
          "output_type": "stream",
          "text": [
            "<class 'pandas.core.frame.DataFrame'>\n",
            "RangeIndex: 48895 entries, 0 to 48894\n",
            "Data columns (total 14 columns):\n",
            " #   Column                          Non-Null Count  Dtype  \n",
            "---  ------                          --------------  -----  \n",
            " 0   name                            48879 non-null  object \n",
            " 1   host_id                         48895 non-null  int64  \n",
            " 2   host_name                       48874 non-null  object \n",
            " 3   neighbourhood_group             48895 non-null  object \n",
            " 4   neighbourhood                   48895 non-null  object \n",
            " 5   latitude                        48895 non-null  float64\n",
            " 6   longitude                       48895 non-null  float64\n",
            " 7   room_type                       48895 non-null  object \n",
            " 8   price                           48895 non-null  int64  \n",
            " 9   minimum_nights                  48895 non-null  int64  \n",
            " 10  number_of_reviews               48895 non-null  int64  \n",
            " 11  reviews_per_month               48895 non-null  float64\n",
            " 12  calculated_host_listings_count  48895 non-null  int64  \n",
            " 13  availability_365                48895 non-null  int64  \n",
            "dtypes: float64(3), int64(6), object(5)\n",
            "memory usage: 5.2+ MB\n"
          ],
          "name": "stdout"
        }
      ]
    },
    {
      "cell_type": "code",
      "metadata": {
        "id": "6S2Z3-rkAq7o"
      },
      "source": [
        "def replace_price_value(price):\n",
        "  if price<20 or price>8000:\n",
        "    price=105.98\n",
        "  else:\n",
        "    price=price\n",
        "  return price    "
      ],
      "execution_count": null,
      "outputs": []
    },
    {
      "cell_type": "code",
      "metadata": {
        "id": "czEC9_hnBHl4"
      },
      "source": [
        "airbnb_df['price']=airbnb_df['price'].apply(replace_price_value)"
      ],
      "execution_count": null,
      "outputs": []
    },
    {
      "cell_type": "code",
      "metadata": {
        "id": "59NOUuxQFfbh",
        "colab": {
          "base_uri": "https://localhost:8080/",
          "height": 319
        },
        "outputId": "ab111e6f-1527-4400-a6b5-699d98331894"
      },
      "source": [
        "airbnb_df.describe()"
      ],
      "execution_count": null,
      "outputs": [
        {
          "output_type": "execute_result",
          "data": {
            "text/html": [
              "<div>\n",
              "<style scoped>\n",
              "    .dataframe tbody tr th:only-of-type {\n",
              "        vertical-align: middle;\n",
              "    }\n",
              "\n",
              "    .dataframe tbody tr th {\n",
              "        vertical-align: top;\n",
              "    }\n",
              "\n",
              "    .dataframe thead th {\n",
              "        text-align: right;\n",
              "    }\n",
              "</style>\n",
              "<table border=\"1\" class=\"dataframe\">\n",
              "  <thead>\n",
              "    <tr style=\"text-align: right;\">\n",
              "      <th></th>\n",
              "      <th>host_id</th>\n",
              "      <th>latitude</th>\n",
              "      <th>longitude</th>\n",
              "      <th>price</th>\n",
              "      <th>minimum_nights</th>\n",
              "      <th>number_of_reviews</th>\n",
              "      <th>reviews_per_month</th>\n",
              "      <th>calculated_host_listings_count</th>\n",
              "      <th>availability_365</th>\n",
              "    </tr>\n",
              "  </thead>\n",
              "  <tbody>\n",
              "    <tr>\n",
              "      <th>count</th>\n",
              "      <td>4.889500e+04</td>\n",
              "      <td>48895.000000</td>\n",
              "      <td>48895.000000</td>\n",
              "      <td>48895.000000</td>\n",
              "      <td>48895.000000</td>\n",
              "      <td>48895.000000</td>\n",
              "      <td>48895.000000</td>\n",
              "      <td>48895.000000</td>\n",
              "      <td>48895.000000</td>\n",
              "    </tr>\n",
              "    <tr>\n",
              "      <th>mean</th>\n",
              "      <td>6.762001e+07</td>\n",
              "      <td>40.728949</td>\n",
              "      <td>-73.952170</td>\n",
              "      <td>151.440511</td>\n",
              "      <td>7.029962</td>\n",
              "      <td>23.274466</td>\n",
              "      <td>1.090910</td>\n",
              "      <td>7.143982</td>\n",
              "      <td>112.781327</td>\n",
              "    </tr>\n",
              "    <tr>\n",
              "      <th>std</th>\n",
              "      <td>7.861097e+07</td>\n",
              "      <td>0.054530</td>\n",
              "      <td>0.046157</td>\n",
              "      <td>210.545394</td>\n",
              "      <td>20.510550</td>\n",
              "      <td>44.550582</td>\n",
              "      <td>1.597283</td>\n",
              "      <td>32.952519</td>\n",
              "      <td>131.622289</td>\n",
              "    </tr>\n",
              "    <tr>\n",
              "      <th>min</th>\n",
              "      <td>2.438000e+03</td>\n",
              "      <td>40.499790</td>\n",
              "      <td>-74.244420</td>\n",
              "      <td>20.000000</td>\n",
              "      <td>1.000000</td>\n",
              "      <td>0.000000</td>\n",
              "      <td>0.000000</td>\n",
              "      <td>1.000000</td>\n",
              "      <td>0.000000</td>\n",
              "    </tr>\n",
              "    <tr>\n",
              "      <th>25%</th>\n",
              "      <td>7.822033e+06</td>\n",
              "      <td>40.690100</td>\n",
              "      <td>-73.983070</td>\n",
              "      <td>69.000000</td>\n",
              "      <td>1.000000</td>\n",
              "      <td>1.000000</td>\n",
              "      <td>0.040000</td>\n",
              "      <td>1.000000</td>\n",
              "      <td>0.000000</td>\n",
              "    </tr>\n",
              "    <tr>\n",
              "      <th>50%</th>\n",
              "      <td>3.079382e+07</td>\n",
              "      <td>40.723070</td>\n",
              "      <td>-73.955680</td>\n",
              "      <td>106.000000</td>\n",
              "      <td>3.000000</td>\n",
              "      <td>5.000000</td>\n",
              "      <td>0.370000</td>\n",
              "      <td>1.000000</td>\n",
              "      <td>45.000000</td>\n",
              "    </tr>\n",
              "    <tr>\n",
              "      <th>75%</th>\n",
              "      <td>1.074344e+08</td>\n",
              "      <td>40.763115</td>\n",
              "      <td>-73.936275</td>\n",
              "      <td>175.000000</td>\n",
              "      <td>5.000000</td>\n",
              "      <td>24.000000</td>\n",
              "      <td>1.580000</td>\n",
              "      <td>2.000000</td>\n",
              "      <td>227.000000</td>\n",
              "    </tr>\n",
              "    <tr>\n",
              "      <th>max</th>\n",
              "      <td>2.743213e+08</td>\n",
              "      <td>40.913060</td>\n",
              "      <td>-73.712990</td>\n",
              "      <td>8000.000000</td>\n",
              "      <td>1250.000000</td>\n",
              "      <td>629.000000</td>\n",
              "      <td>58.500000</td>\n",
              "      <td>327.000000</td>\n",
              "      <td>365.000000</td>\n",
              "    </tr>\n",
              "  </tbody>\n",
              "</table>\n",
              "</div>"
            ],
            "text/plain": [
              "            host_id  ...  availability_365\n",
              "count  4.889500e+04  ...      48895.000000\n",
              "mean   6.762001e+07  ...        112.781327\n",
              "std    7.861097e+07  ...        131.622289\n",
              "min    2.438000e+03  ...          0.000000\n",
              "25%    7.822033e+06  ...          0.000000\n",
              "50%    3.079382e+07  ...         45.000000\n",
              "75%    1.074344e+08  ...        227.000000\n",
              "max    2.743213e+08  ...        365.000000\n",
              "\n",
              "[8 rows x 9 columns]"
            ]
          },
          "metadata": {
            "tags": []
          },
          "execution_count": 318
        }
      ]
    },
    {
      "cell_type": "code",
      "metadata": {
        "colab": {
          "base_uri": "https://localhost:8080/",
          "height": 35
        },
        "id": "2FFjZWfMuQpD",
        "outputId": "35986438-bcfc-474f-e3e9-8d473cd256a2"
      },
      "source": [
        "#find the maximum no of selection of room type\n",
        "airbnb_df['room_type'].value_counts().idxmax()"
      ],
      "execution_count": null,
      "outputs": [
        {
          "output_type": "execute_result",
          "data": {
            "application/vnd.google.colaboratory.intrinsic+json": {
              "type": "string"
            },
            "text/plain": [
              "'Entire home/apt'"
            ]
          },
          "metadata": {
            "tags": []
          },
          "execution_count": 319
        }
      ]
    },
    {
      "cell_type": "code",
      "metadata": {
        "id": "ebmnsI-y4RS3"
      },
      "source": [
        "#now these are the room type behalf on which we make further analysis \n",
        "airbnb_df_refine=airbnb_df['room_type'].value_counts()"
      ],
      "execution_count": null,
      "outputs": []
    },
    {
      "cell_type": "code",
      "metadata": {
        "colab": {
          "base_uri": "https://localhost:8080/"
        },
        "id": "ZtCIL5knRg62",
        "outputId": "bd6bc21b-dc45-4f64-a806-f85ee473b2b7"
      },
      "source": [
        "airbnb_df_refine"
      ],
      "execution_count": null,
      "outputs": [
        {
          "output_type": "execute_result",
          "data": {
            "text/plain": [
              "Entire home/apt    25409\n",
              "Private room       22326\n",
              "Shared room         1160\n",
              "Name: room_type, dtype: int64"
            ]
          },
          "metadata": {
            "tags": []
          },
          "execution_count": 321
        }
      ]
    },
    {
      "cell_type": "code",
      "metadata": {
        "colab": {
          "base_uri": "https://localhost:8080/"
        },
        "id": "pef3G9doJHUE",
        "outputId": "6b023f4a-6074-4a02-dc0c-d7c6fba3ae10"
      },
      "source": [
        "airbnb_df['room_type']"
      ],
      "execution_count": null,
      "outputs": [
        {
          "output_type": "execute_result",
          "data": {
            "text/plain": [
              "0           Private room\n",
              "1        Entire home/apt\n",
              "2           Private room\n",
              "3        Entire home/apt\n",
              "4        Entire home/apt\n",
              "              ...       \n",
              "48890       Private room\n",
              "48891       Private room\n",
              "48892    Entire home/apt\n",
              "48893        Shared room\n",
              "48894       Private room\n",
              "Name: room_type, Length: 48895, dtype: object"
            ]
          },
          "metadata": {
            "tags": []
          },
          "execution_count": 322
        }
      ]
    },
    {
      "cell_type": "code",
      "metadata": {
        "colab": {
          "base_uri": "https://localhost:8080/"
        },
        "id": "nG3zTw-NU1dh",
        "outputId": "5ec8f476-e145-4bac-afba-f2e9660ba182"
      },
      "source": [
        "airbnb_df.mean() #for compairing the value for each room type"
      ],
      "execution_count": null,
      "outputs": [
        {
          "output_type": "execute_result",
          "data": {
            "text/plain": [
              "host_id                           6.762001e+07\n",
              "latitude                          4.072895e+01\n",
              "longitude                        -7.395217e+01\n",
              "price                             1.514405e+02\n",
              "minimum_nights                    7.029962e+00\n",
              "number_of_reviews                 2.327447e+01\n",
              "reviews_per_month                 1.090910e+00\n",
              "calculated_host_listings_count    7.143982e+00\n",
              "availability_365                  1.127813e+02\n",
              "dtype: float64"
            ]
          },
          "metadata": {
            "tags": []
          },
          "execution_count": 323
        }
      ]
    },
    {
      "cell_type": "code",
      "metadata": {
        "colab": {
          "base_uri": "https://localhost:8080/",
          "height": 143
        },
        "id": "MhA_kHPdXrVQ",
        "outputId": "f4ae0667-9493-4b48-b9d2-32f781d15255"
      },
      "source": [
        "room__type_min_night=airbnb_df.groupby('room_type')['minimum_nights'].mean().reset_index()\n",
        "room__type_min_night"
      ],
      "execution_count": null,
      "outputs": [
        {
          "output_type": "execute_result",
          "data": {
            "text/html": [
              "<div>\n",
              "<style scoped>\n",
              "    .dataframe tbody tr th:only-of-type {\n",
              "        vertical-align: middle;\n",
              "    }\n",
              "\n",
              "    .dataframe tbody tr th {\n",
              "        vertical-align: top;\n",
              "    }\n",
              "\n",
              "    .dataframe thead th {\n",
              "        text-align: right;\n",
              "    }\n",
              "</style>\n",
              "<table border=\"1\" class=\"dataframe\">\n",
              "  <thead>\n",
              "    <tr style=\"text-align: right;\">\n",
              "      <th></th>\n",
              "      <th>room_type</th>\n",
              "      <th>minimum_nights</th>\n",
              "    </tr>\n",
              "  </thead>\n",
              "  <tbody>\n",
              "    <tr>\n",
              "      <th>0</th>\n",
              "      <td>Entire home/apt</td>\n",
              "      <td>8.506907</td>\n",
              "    </tr>\n",
              "    <tr>\n",
              "      <th>1</th>\n",
              "      <td>Private room</td>\n",
              "      <td>5.377900</td>\n",
              "    </tr>\n",
              "    <tr>\n",
              "      <th>2</th>\n",
              "      <td>Shared room</td>\n",
              "      <td>6.475000</td>\n",
              "    </tr>\n",
              "  </tbody>\n",
              "</table>\n",
              "</div>"
            ],
            "text/plain": [
              "         room_type  minimum_nights\n",
              "0  Entire home/apt        8.506907\n",
              "1     Private room        5.377900\n",
              "2      Shared room        6.475000"
            ]
          },
          "metadata": {
            "tags": []
          },
          "execution_count": 324
        }
      ]
    },
    {
      "cell_type": "code",
      "metadata": {
        "colab": {
          "base_uri": "https://localhost:8080/",
          "height": 349
        },
        "id": "cnU3Se5oYQga",
        "outputId": "c6858510-c192-42d9-ba21-a82c0812bbf1"
      },
      "source": [
        "#first plot for room type and mean of minimum_nights\n",
        "visual1=sns.barplot(x='room_type',y='minimum_nights',data=room__type_min_night,palette=\"Blues_d\")\n",
        "visual1.set_title('room type and minimum no of night stay  ')\n",
        "visual1.set_ylabel('minimum night')\n",
        "visual1.set_xlabel('room type')\n",
        "visual1.set_xticks(visual1.get_xticks())\n"
      ],
      "execution_count": null,
      "outputs": [
        {
          "output_type": "execute_result",
          "data": {
            "text/plain": [
              "[<matplotlib.axis.XTick at 0x7f30da0711d0>,\n",
              " <matplotlib.axis.XTick at 0x7f30da071090>,\n",
              " <matplotlib.axis.XTick at 0x7f30da071710>]"
            ]
          },
          "metadata": {
            "tags": []
          },
          "execution_count": 325
        },
        {
          "output_type": "display_data",
          "data": {
            "image/png": "[encoded data removed]",
            "text/plain": [
              "<Figure size 432x288 with 1 Axes>"
            ]
          },
          "metadata": {
            "tags": [],
            "needs_background": "light"
          }
        }
      ]
    },
    {
      "cell_type": "code",
      "metadata": {
        "colab": {
          "base_uri": "https://localhost:8080/",
          "height": 236
        },
        "id": "23F6Rzcpbowm",
        "outputId": "4c683d09-fcf5-4a75-92ec-8b50335f2cd5"
      },
      "source": [
        "#finding the costly neighbourhood group for the giving room type\n",
        "costly_neighbourhood_group=airbnb_df.groupby(['neighbourhood_group','room_type'])['price'].mean().unstack()\n",
        "costly_neighbourhood_group"
      ],
      "execution_count": null,
      "outputs": [
        {
          "output_type": "execute_result",
          "data": {
            "text/html": [
              "<div>\n",
              "<style scoped>\n",
              "    .dataframe tbody tr th:only-of-type {\n",
              "        vertical-align: middle;\n",
              "    }\n",
              "\n",
              "    .dataframe tbody tr th {\n",
              "        vertical-align: top;\n",
              "    }\n",
              "\n",
              "    .dataframe thead th {\n",
              "        text-align: right;\n",
              "    }\n",
              "</style>\n",
              "<table border=\"1\" class=\"dataframe\">\n",
              "  <thead>\n",
              "    <tr style=\"text-align: right;\">\n",
              "      <th>room_type</th>\n",
              "      <th>Entire home/apt</th>\n",
              "      <th>Private room</th>\n",
              "      <th>Shared room</th>\n",
              "    </tr>\n",
              "    <tr>\n",
              "      <th>neighbourhood_group</th>\n",
              "      <th></th>\n",
              "      <th></th>\n",
              "      <th></th>\n",
              "    </tr>\n",
              "  </thead>\n",
              "  <tbody>\n",
              "    <tr>\n",
              "      <th>Bronx</th>\n",
              "      <td>127.506596</td>\n",
              "      <td>67.098098</td>\n",
              "      <td>59.800000</td>\n",
              "    </tr>\n",
              "    <tr>\n",
              "      <th>Brooklyn</th>\n",
              "      <td>177.353474</td>\n",
              "      <td>76.608940</td>\n",
              "      <td>52.115884</td>\n",
              "    </tr>\n",
              "    <tr>\n",
              "      <th>Manhattan</th>\n",
              "      <td>246.411907</td>\n",
              "      <td>115.607600</td>\n",
              "      <td>89.377000</td>\n",
              "    </tr>\n",
              "    <tr>\n",
              "      <th>Queens</th>\n",
              "      <td>147.228492</td>\n",
              "      <td>68.856750</td>\n",
              "      <td>71.767071</td>\n",
              "    </tr>\n",
              "    <tr>\n",
              "      <th>Staten Island</th>\n",
              "      <td>173.846591</td>\n",
              "      <td>62.292553</td>\n",
              "      <td>67.775556</td>\n",
              "    </tr>\n",
              "  </tbody>\n",
              "</table>\n",
              "</div>"
            ],
            "text/plain": [
              "room_type            Entire home/apt  Private room  Shared room\n",
              "neighbourhood_group                                            \n",
              "Bronx                     127.506596     67.098098    59.800000\n",
              "Brooklyn                  177.353474     76.608940    52.115884\n",
              "Manhattan                 246.411907    115.607600    89.377000\n",
              "Queens                    147.228492     68.856750    71.767071\n",
              "Staten Island             173.846591     62.292553    67.775556"
            ]
          },
          "metadata": {
            "tags": []
          },
          "execution_count": 326
        }
      ]
    },
    {
      "cell_type": "markdown",
      "metadata": {
        "id": "LAvEQVM7c5hZ"
      },
      "source": [
        "Manhattan have most expensive for the all the giving room type.after google it on map we find it's situated at mid of the country so more denser and also have important financial status so movment of finacial act happend here"
      ]
    },
    {
      "cell_type": "code",
      "metadata": {
        "colab": {
          "base_uri": "https://localhost:8080/",
          "height": 355
        },
        "id": "lU5M0AwmcjvN",
        "outputId": "2c206c2c-ab98-4023-b8eb-25d8879def2a"
      },
      "source": [
        "visual2=costly_neighbourhood_group.plot(kind='bar')\n",
        "visual2"
      ],
      "execution_count": null,
      "outputs": [
        {
          "output_type": "execute_result",
          "data": {
            "text/plain": [
              "<matplotlib.axes._subplots.AxesSubplot at 0x7f30da053d90>"
            ]
          },
          "metadata": {
            "tags": []
          },
          "execution_count": 327
        },
        {
          "output_type": "display_data",
          "data": {
            "image/png": "[encoded data removed]",
            "text/plain": [
              "<Figure size 432x288 with 1 Axes>"
            ]
          },
          "metadata": {
            "tags": [],
            "needs_background": "light"
          }
        }
      ]
    },
    {
      "cell_type": "code",
      "metadata": {
        "colab": {
          "base_uri": "https://localhost:8080/",
          "height": 236
        },
        "id": "9bRUmMgTdtq1",
        "outputId": "d3b6d272-90f2-48df-d986-e8afcd976707"
      },
      "source": [
        "#ROOM TYPE IN EACH NEIGHBOURHOOD GROUP\n",
        "room_type_neighbourhood_group=airbnb_df.groupby(['neighbourhood_group','room_type'])['room_type'].count().unstack()\n",
        "room_type_neighbourhood_group"
      ],
      "execution_count": null,
      "outputs": [
        {
          "output_type": "execute_result",
          "data": {
            "text/html": [
              "<div>\n",
              "<style scoped>\n",
              "    .dataframe tbody tr th:only-of-type {\n",
              "        vertical-align: middle;\n",
              "    }\n",
              "\n",
              "    .dataframe tbody tr th {\n",
              "        vertical-align: top;\n",
              "    }\n",
              "\n",
              "    .dataframe thead th {\n",
              "        text-align: right;\n",
              "    }\n",
              "</style>\n",
              "<table border=\"1\" class=\"dataframe\">\n",
              "  <thead>\n",
              "    <tr style=\"text-align: right;\">\n",
              "      <th>room_type</th>\n",
              "      <th>Entire home/apt</th>\n",
              "      <th>Private room</th>\n",
              "      <th>Shared room</th>\n",
              "    </tr>\n",
              "    <tr>\n",
              "      <th>neighbourhood_group</th>\n",
              "      <th></th>\n",
              "      <th></th>\n",
              "      <th></th>\n",
              "    </tr>\n",
              "  </thead>\n",
              "  <tbody>\n",
              "    <tr>\n",
              "      <th>Bronx</th>\n",
              "      <td>379</td>\n",
              "      <td>652</td>\n",
              "      <td>60</td>\n",
              "    </tr>\n",
              "    <tr>\n",
              "      <th>Brooklyn</th>\n",
              "      <td>9559</td>\n",
              "      <td>10132</td>\n",
              "      <td>413</td>\n",
              "    </tr>\n",
              "    <tr>\n",
              "      <th>Manhattan</th>\n",
              "      <td>13199</td>\n",
              "      <td>7982</td>\n",
              "      <td>480</td>\n",
              "    </tr>\n",
              "    <tr>\n",
              "      <th>Queens</th>\n",
              "      <td>2096</td>\n",
              "      <td>3372</td>\n",
              "      <td>198</td>\n",
              "    </tr>\n",
              "    <tr>\n",
              "      <th>Staten Island</th>\n",
              "      <td>176</td>\n",
              "      <td>188</td>\n",
              "      <td>9</td>\n",
              "    </tr>\n",
              "  </tbody>\n",
              "</table>\n",
              "</div>"
            ],
            "text/plain": [
              "room_type            Entire home/apt  Private room  Shared room\n",
              "neighbourhood_group                                            \n",
              "Bronx                            379           652           60\n",
              "Brooklyn                        9559         10132          413\n",
              "Manhattan                      13199          7982          480\n",
              "Queens                          2096          3372          198\n",
              "Staten Island                    176           188            9"
            ]
          },
          "metadata": {
            "tags": []
          },
          "execution_count": 328
        }
      ]
    },
    {
      "cell_type": "code",
      "metadata": {
        "colab": {
          "base_uri": "https://localhost:8080/",
          "height": 355
        },
        "id": "Guqfx8ZXeEde",
        "outputId": "bd05ccf8-6392-4a6a-aa70-5afb6e8f25fd"
      },
      "source": [
        "visual3=room_type_neighbourhood_group.plot(kind='bar')\n",
        "visual3"
      ],
      "execution_count": null,
      "outputs": [
        {
          "output_type": "execute_result",
          "data": {
            "text/plain": [
              "<matplotlib.axes._subplots.AxesSubplot at 0x7f30d9f65a50>"
            ]
          },
          "metadata": {
            "tags": []
          },
          "execution_count": 329
        },
        {
          "output_type": "display_data",
          "data": {
            "image/png": "[encoded data removed]",
            "text/plain": [
              "<Figure size 432x288 with 1 Axes>"
            ]
          },
          "metadata": {
            "tags": [],
            "needs_background": "light"
          }
        }
      ]
    },
    {
      "cell_type": "markdown",
      "metadata": {
        "id": "xk1bavjUeKQu"
      },
      "source": [
        "Plot clearly says that shaed room are the least populated.that most of the people prefer privacy and safety over the less price "
      ]
    },
    {
      "cell_type": "code",
      "metadata": {
        "colab": {
          "base_uri": "https://localhost:8080/"
        },
        "id": "KrBeyestjDCp",
        "outputId": "1b1a378d-679c-45a9-ce15-4a8811c5a2fb"
      },
      "source": [
        "airbnb_df['reviews_per_month']"
      ],
      "execution_count": null,
      "outputs": [
        {
          "output_type": "execute_result",
          "data": {
            "text/plain": [
              "0        0.21\n",
              "1        0.38\n",
              "2        0.00\n",
              "3        4.64\n",
              "4        0.10\n",
              "         ... \n",
              "48890    0.00\n",
              "48891    0.00\n",
              "48892    0.00\n",
              "48893    0.00\n",
              "48894    0.00\n",
              "Name: reviews_per_month, Length: 48895, dtype: float64"
            ]
          },
          "metadata": {
            "tags": []
          },
          "execution_count": 330
        }
      ]
    },
    {
      "cell_type": "code",
      "metadata": {
        "colab": {
          "base_uri": "https://localhost:8080/",
          "height": 205
        },
        "id": "J_qS7hl1ep9h",
        "outputId": "1c65622f-aef0-4a6f-954a-535276d40401"
      },
      "source": [
        "#find the most busy neighbourhood group\n",
        "most_busy_neighbour_group=airbnb_df.groupby(['neighbourhood_group'])['reviews_per_month'].mean().reset_index()\n",
        "most_busy_neighbour_group"
      ],
      "execution_count": null,
      "outputs": [
        {
          "output_type": "execute_result",
          "data": {
            "text/html": [
              "<div>\n",
              "<style scoped>\n",
              "    .dataframe tbody tr th:only-of-type {\n",
              "        vertical-align: middle;\n",
              "    }\n",
              "\n",
              "    .dataframe tbody tr th {\n",
              "        vertical-align: top;\n",
              "    }\n",
              "\n",
              "    .dataframe thead th {\n",
              "        text-align: right;\n",
              "    }\n",
              "</style>\n",
              "<table border=\"1\" class=\"dataframe\">\n",
              "  <thead>\n",
              "    <tr style=\"text-align: right;\">\n",
              "      <th></th>\n",
              "      <th>neighbourhood_group</th>\n",
              "      <th>reviews_per_month</th>\n",
              "    </tr>\n",
              "  </thead>\n",
              "  <tbody>\n",
              "    <tr>\n",
              "      <th>0</th>\n",
              "      <td>Bronx</td>\n",
              "      <td>1.475655</td>\n",
              "    </tr>\n",
              "    <tr>\n",
              "      <th>1</th>\n",
              "      <td>Brooklyn</td>\n",
              "      <td>1.049790</td>\n",
              "    </tr>\n",
              "    <tr>\n",
              "      <th>2</th>\n",
              "      <td>Manhattan</td>\n",
              "      <td>0.976782</td>\n",
              "    </tr>\n",
              "    <tr>\n",
              "      <th>3</th>\n",
              "      <td>Queens</td>\n",
              "      <td>1.567076</td>\n",
              "    </tr>\n",
              "    <tr>\n",
              "      <th>4</th>\n",
              "      <td>Staten Island</td>\n",
              "      <td>1.576381</td>\n",
              "    </tr>\n",
              "  </tbody>\n",
              "</table>\n",
              "</div>"
            ],
            "text/plain": [
              "  neighbourhood_group  reviews_per_month\n",
              "0               Bronx           1.475655\n",
              "1            Brooklyn           1.049790\n",
              "2           Manhattan           0.976782\n",
              "3              Queens           1.567076\n",
              "4       Staten Island           1.576381"
            ]
          },
          "metadata": {
            "tags": []
          },
          "execution_count": 331
        }
      ]
    },
    {
      "cell_type": "markdown",
      "metadata": {
        "id": "FthYtG-AhHos"
      },
      "source": [
        "Queens and staten island are the most busiest neighbourhood group because of  the average price"
      ]
    },
    {
      "cell_type": "code",
      "metadata": {
        "colab": {
          "base_uri": "https://localhost:8080/",
          "height": 236
        },
        "id": "Hd3V7hdSJbME",
        "outputId": "007fa4bb-de8f-4a8d-9f58-69d7ddb05234"
      },
      "source": [
        "#for finding correlation data between price and review per month\n",
        "niegh_group_traffic_relation=airbnb_df.groupby('neighbourhood_group')['reviews_per_month','price'].mean()\n",
        "niegh_group_traffic_relation"
      ],
      "execution_count": null,
      "outputs": [
        {
          "output_type": "execute_result",
          "data": {
            "text/html": [
              "<div>\n",
              "<style scoped>\n",
              "    .dataframe tbody tr th:only-of-type {\n",
              "        vertical-align: middle;\n",
              "    }\n",
              "\n",
              "    .dataframe tbody tr th {\n",
              "        vertical-align: top;\n",
              "    }\n",
              "\n",
              "    .dataframe thead th {\n",
              "        text-align: right;\n",
              "    }\n",
              "</style>\n",
              "<table border=\"1\" class=\"dataframe\">\n",
              "  <thead>\n",
              "    <tr style=\"text-align: right;\">\n",
              "      <th></th>\n",
              "      <th>reviews_per_month</th>\n",
              "      <th>price</th>\n",
              "    </tr>\n",
              "    <tr>\n",
              "      <th>neighbourhood_group</th>\n",
              "      <th></th>\n",
              "      <th></th>\n",
              "    </tr>\n",
              "  </thead>\n",
              "  <tbody>\n",
              "    <tr>\n",
              "      <th>Bronx</th>\n",
              "      <td>1.475655</td>\n",
              "      <td>87.681907</td>\n",
              "    </tr>\n",
              "    <tr>\n",
              "      <th>Brooklyn</th>\n",
              "      <td>1.049790</td>\n",
              "      <td>124.007536</td>\n",
              "    </tr>\n",
              "    <tr>\n",
              "      <th>Manhattan</th>\n",
              "      <td>0.976782</td>\n",
              "      <td>194.731156</td>\n",
              "    </tr>\n",
              "    <tr>\n",
              "      <th>Queens</th>\n",
              "      <td>1.567076</td>\n",
              "      <td>97.950187</td>\n",
              "    </tr>\n",
              "    <tr>\n",
              "      <th>Staten Island</th>\n",
              "      <td>1.576381</td>\n",
              "      <td>115.061609</td>\n",
              "    </tr>\n",
              "  </tbody>\n",
              "</table>\n",
              "</div>"
            ],
            "text/plain": [
              "                     reviews_per_month       price\n",
              "neighbourhood_group                               \n",
              "Bronx                         1.475655   87.681907\n",
              "Brooklyn                      1.049790  124.007536\n",
              "Manhattan                     0.976782  194.731156\n",
              "Queens                        1.567076   97.950187\n",
              "Staten Island                 1.576381  115.061609"
            ]
          },
          "metadata": {
            "tags": []
          },
          "execution_count": 332
        }
      ]
    },
    {
      "cell_type": "code",
      "metadata": {
        "colab": {
          "base_uri": "https://localhost:8080/",
          "height": 288
        },
        "id": "ZUzx63beKing",
        "outputId": "7abae793-a29d-4622-ba99-6f987832af2d"
      },
      "source": [
        "visual4=sns.heatmap(niegh_group_traffic_relation.corr(),vmin=-1,annot=True)\n",
        "visual4"
      ],
      "execution_count": null,
      "outputs": [
        {
          "output_type": "execute_result",
          "data": {
            "text/plain": [
              "<matplotlib.axes._subplots.AxesSubplot at 0x7f30d9f01890>"
            ]
          },
          "metadata": {
            "tags": []
          },
          "execution_count": 333
        },
        {
          "output_type": "display_data",
          "data": {
            "image/png": "[encoded data removed]",
            "text/plain": [
              "<Figure size 432x288 with 2 Axes>"
            ]
          },
          "metadata": {
            "tags": [],
            "needs_background": "light"
          }
        }
      ]
    },
    {
      "cell_type": "markdown",
      "metadata": {
        "id": "Qn11yTK3VPdO"
      },
      "source": [
        "from the above plot we can understand that demand and price is in a negative correlation with each other.that's why manhttan have the lowest review even it's is more demanding"
      ]
    },
    {
      "cell_type": "code",
      "metadata": {
        "colab": {
          "base_uri": "https://localhost:8080/",
          "height": 422
        },
        "id": "BIIne3-Ad_FN",
        "outputId": "25e12f2f-8647-41f5-afbf-cae92287da95"
      },
      "source": [
        "price_per_review=airbnb_df[['price','reviews_per_month']]\n",
        "price_per_review"
      ],
      "execution_count": null,
      "outputs": [
        {
          "output_type": "execute_result",
          "data": {
            "text/html": [
              "<div>\n",
              "<style scoped>\n",
              "    .dataframe tbody tr th:only-of-type {\n",
              "        vertical-align: middle;\n",
              "    }\n",
              "\n",
              "    .dataframe tbody tr th {\n",
              "        vertical-align: top;\n",
              "    }\n",
              "\n",
              "    .dataframe thead th {\n",
              "        text-align: right;\n",
              "    }\n",
              "</style>\n",
              "<table border=\"1\" class=\"dataframe\">\n",
              "  <thead>\n",
              "    <tr style=\"text-align: right;\">\n",
              "      <th></th>\n",
              "      <th>price</th>\n",
              "      <th>reviews_per_month</th>\n",
              "    </tr>\n",
              "  </thead>\n",
              "  <tbody>\n",
              "    <tr>\n",
              "      <th>0</th>\n",
              "      <td>149.0</td>\n",
              "      <td>0.21</td>\n",
              "    </tr>\n",
              "    <tr>\n",
              "      <th>1</th>\n",
              "      <td>225.0</td>\n",
              "      <td>0.38</td>\n",
              "    </tr>\n",
              "    <tr>\n",
              "      <th>2</th>\n",
              "      <td>150.0</td>\n",
              "      <td>0.00</td>\n",
              "    </tr>\n",
              "    <tr>\n",
              "      <th>3</th>\n",
              "      <td>89.0</td>\n",
              "      <td>4.64</td>\n",
              "    </tr>\n",
              "    <tr>\n",
              "      <th>4</th>\n",
              "      <td>80.0</td>\n",
              "      <td>0.10</td>\n",
              "    </tr>\n",
              "    <tr>\n",
              "      <th>...</th>\n",
              "      <td>...</td>\n",
              "      <td>...</td>\n",
              "    </tr>\n",
              "    <tr>\n",
              "      <th>48890</th>\n",
              "      <td>70.0</td>\n",
              "      <td>0.00</td>\n",
              "    </tr>\n",
              "    <tr>\n",
              "      <th>48891</th>\n",
              "      <td>40.0</td>\n",
              "      <td>0.00</td>\n",
              "    </tr>\n",
              "    <tr>\n",
              "      <th>48892</th>\n",
              "      <td>115.0</td>\n",
              "      <td>0.00</td>\n",
              "    </tr>\n",
              "    <tr>\n",
              "      <th>48893</th>\n",
              "      <td>55.0</td>\n",
              "      <td>0.00</td>\n",
              "    </tr>\n",
              "    <tr>\n",
              "      <th>48894</th>\n",
              "      <td>90.0</td>\n",
              "      <td>0.00</td>\n",
              "    </tr>\n",
              "  </tbody>\n",
              "</table>\n",
              "<p>48895 rows × 2 columns</p>\n",
              "</div>"
            ],
            "text/plain": [
              "       price  reviews_per_month\n",
              "0      149.0               0.21\n",
              "1      225.0               0.38\n",
              "2      150.0               0.00\n",
              "3       89.0               4.64\n",
              "4       80.0               0.10\n",
              "...      ...                ...\n",
              "48890   70.0               0.00\n",
              "48891   40.0               0.00\n",
              "48892  115.0               0.00\n",
              "48893   55.0               0.00\n",
              "48894   90.0               0.00\n",
              "\n",
              "[48895 rows x 2 columns]"
            ]
          },
          "metadata": {
            "tags": []
          },
          "execution_count": 334
        }
      ]
    },
    {
      "cell_type": "code",
      "metadata": {
        "colab": {
          "base_uri": "https://localhost:8080/",
          "height": 350
        },
        "id": "P58k-2ugeeRw",
        "outputId": "71eb56da-a53b-4a68-d6fd-26b38be2db68"
      },
      "source": [
        "plt.figure(figsize=(8,5))\n",
        "visual5=sns.heatmap(price_per_review.corr(),vmin=-1,annot=True)\n",
        "visual5"
      ],
      "execution_count": null,
      "outputs": [
        {
          "output_type": "execute_result",
          "data": {
            "text/plain": [
              "<matplotlib.axes._subplots.AxesSubplot at 0x7f30d9e29710>"
            ]
          },
          "metadata": {
            "tags": []
          },
          "execution_count": 335
        },
        {
          "output_type": "display_data",
          "data": {
            "image/png": "[encoded data removed]",
            "text/plain": [
              "<Figure size 576x360 with 2 Axes>"
            ]
          },
          "metadata": {
            "tags": [],
            "needs_background": "light"
          }
        }
      ]
    },
    {
      "cell_type": "markdown",
      "metadata": {
        "id": "0A-FbD9Ij9KE"
      },
      "source": [
        "The hosts with the most listing count"
      ]
    },
    {
      "cell_type": "code",
      "metadata": {
        "colab": {
          "base_uri": "https://localhost:8080/",
          "height": 143
        },
        "id": "Cm7IjJAtkDId",
        "outputId": "5f794492-c2c2-4045-9d81-2a037d9debed"
      },
      "source": [
        "host_with_most=airbnb_df[['host_name','calculated_host_listings_count']]\n",
        "sorted_host_with_most=host_with_most.sort_values('calculated_host_listings_count',ascending=False)\n",
        "first_three_top=sorted_host_with_most.drop_duplicates(subset=['host_name','calculated_host_listings_count'],keep='first')\n",
        "final_data=first_three_top[0:3]\n",
        "final_data"
      ],
      "execution_count": null,
      "outputs": [
        {
          "output_type": "execute_result",
          "data": {
            "text/html": [
              "<div>\n",
              "<style scoped>\n",
              "    .dataframe tbody tr th:only-of-type {\n",
              "        vertical-align: middle;\n",
              "    }\n",
              "\n",
              "    .dataframe tbody tr th {\n",
              "        vertical-align: top;\n",
              "    }\n",
              "\n",
              "    .dataframe thead th {\n",
              "        text-align: right;\n",
              "    }\n",
              "</style>\n",
              "<table border=\"1\" class=\"dataframe\">\n",
              "  <thead>\n",
              "    <tr style=\"text-align: right;\">\n",
              "      <th></th>\n",
              "      <th>host_name</th>\n",
              "      <th>calculated_host_listings_count</th>\n",
              "    </tr>\n",
              "  </thead>\n",
              "  <tbody>\n",
              "    <tr>\n",
              "      <th>39773</th>\n",
              "      <td>Sonder (NYC)</td>\n",
              "      <td>327</td>\n",
              "    </tr>\n",
              "    <tr>\n",
              "      <th>38701</th>\n",
              "      <td>Blueground</td>\n",
              "      <td>232</td>\n",
              "    </tr>\n",
              "    <tr>\n",
              "      <th>13039</th>\n",
              "      <td>Kara</td>\n",
              "      <td>121</td>\n",
              "    </tr>\n",
              "  </tbody>\n",
              "</table>\n",
              "</div>"
            ],
            "text/plain": [
              "          host_name  calculated_host_listings_count\n",
              "39773  Sonder (NYC)                             327\n",
              "38701    Blueground                             232\n",
              "13039          Kara                             121"
            ]
          },
          "metadata": {
            "tags": []
          },
          "execution_count": 336
        }
      ]
    },
    {
      "cell_type": "code",
      "metadata": {
        "colab": {
          "base_uri": "https://localhost:8080/",
          "height": 351
        },
        "id": "9bU9_KzhYqoN",
        "outputId": "e734b9e6-2194-4f11-de56-433ef2ff0b5c"
      },
      "source": [
        "visual6=sns.barplot(x='host_name',y='calculated_host_listings_count',data=final_data,palette=\"Blues_d\")\n",
        "visual6.set_title('most listed neighbour')\n",
        "visual6.set_ylabel('calculated_host_listings_count')\n",
        "visual6.set_xlabel('host_name')\n",
        "visual6.set_xticks(visual1.get_xticks())\n"
      ],
      "execution_count": null,
      "outputs": [
        {
          "output_type": "execute_result",
          "data": {
            "text/plain": [
              "[<matplotlib.axis.XTick at 0x7f30d9dd1110>,\n",
              " <matplotlib.axis.XTick at 0x7f30d9dd11d0>,\n",
              " <matplotlib.axis.XTick at 0x7f30d9dd15d0>]"
            ]
          },
          "metadata": {
            "tags": []
          },
          "execution_count": 337
        },
        {
          "output_type": "display_data",
          "data": {
            "image/png": "[encoded data removed]",
            "text/plain": [
              "<Figure size 432x288 with 1 Axes>"
            ]
          },
          "metadata": {
            "tags": [],
            "needs_background": "light"
          }
        }
      ]
    },
    {
      "cell_type": "markdown",
      "metadata": {
        "id": "Ww0ydqRhkisi"
      },
      "source": [
        "After doing some google research we found that sonder is hotel chain company which used airbnb for listing its property.it's hotel is based on manhatten mostly seven district which is giving below ..  "
      ]
    },
    {
      "cell_type": "code",
      "metadata": {
        "colab": {
          "base_uri": "https://localhost:8080/"
        },
        "id": "XxmucyT9miJb",
        "outputId": "f2f63544-9c3c-497f-fd75-654a390ee3cf"
      },
      "source": [
        "sodar_hotel_chain=airbnb_df.loc[airbnb_df['host_name']=='Sonder (NYC)']\n",
        "sodar_hotel_chain['neighbourhood'].unique()"
      ],
      "execution_count": null,
      "outputs": [
        {
          "output_type": "execute_result",
          "data": {
            "text/plain": [
              "array(['Financial District', 'Murray Hill', \"Hell's Kitchen\", 'Midtown',\n",
              "       'Theater District', 'Chelsea', 'Upper East Side'], dtype=object)"
            ]
          },
          "metadata": {
            "tags": []
          },
          "execution_count": 338
        }
      ]
    },
    {
      "cell_type": "code",
      "metadata": {
        "colab": {
          "base_uri": "https://localhost:8080/"
        },
        "id": "wFF-z0JRoXLA",
        "outputId": "3dab019c-0b3f-4ac0-c4d0-4d3efe293a7f"
      },
      "source": [
        "sodar_hotel_chain['room_type'].unique()"
      ],
      "execution_count": null,
      "outputs": [
        {
          "output_type": "execute_result",
          "data": {
            "text/plain": [
              "array(['Entire home/apt', 'Private room'], dtype=object)"
            ]
          },
          "metadata": {
            "tags": []
          },
          "execution_count": 339
        }
      ]
    },
    {
      "cell_type": "code",
      "metadata": {
        "id": "22kzH0rVxznv"
      },
      "source": [
        "#for analyis the data granularly we creat a each of the neighbourhood group function\n",
        "nbgh_manhattan=airbnb_df.loc[airbnb_df['neighbourhood_group']=='Manhattan'].reset_index()\n",
        "nbgh_Bronx=airbnb_df.loc[airbnb_df['neighbourhood_group']=='Bronx'].reset_index()\n",
        "nbgh_Brooklyn=airbnb_df.loc[airbnb_df['neighbourhood_group']=='Brooklyn'].reset_index()\n",
        "nbgh_Queens=airbnb_df.loc[airbnb_df['neighbourhood_group']=='Queens'].reset_index()\n",
        "nbgh_Staten_Island=airbnb_df.loc[airbnb_df['neighbourhood_group']=='Staten Island'].reset_index()"
      ],
      "execution_count": null,
      "outputs": []
    },
    {
      "cell_type": "code",
      "metadata": {
        "id": "RAQznwOl2LJC"
      },
      "source": [
        "#sorting it by price for each neighbourhood group\n",
        "most_expensiv_neighbourhood_manhattan=nbgh_manhattan.groupby(['neighbourhood_group','neighbourhood'])['price'].mean().reset_index().sort_values('price',ascending=False)\n",
        "most_expensiv_neighbourhood_Bronx=nbgh_Bronx.groupby(['neighbourhood_group','neighbourhood'])['price'].mean().reset_index().sort_values('price',ascending=False)\n",
        "most_expensiv_neighbourhood_Brooklyn=nbgh_Brooklyn.groupby(['neighbourhood_group','neighbourhood'])['price'].mean().reset_index().sort_values('price',ascending=False)\n",
        "most_expensiv_neighbourhood_Queens=nbgh_Queens.groupby(['neighbourhood_group','neighbourhood'])['price'].mean().reset_index().sort_values('price',ascending=False)\n",
        "most_expensiv_neighbourhood_Staten_Island=nbgh_Staten_Island.groupby(['neighbourhood_group','neighbourhood'])['price'].mean().reset_index().sort_values('price',ascending=False)"
      ],
      "execution_count": null,
      "outputs": []
    },
    {
      "cell_type": "code",
      "metadata": {
        "id": "Bf2XtAt-7Dxi"
      },
      "source": [
        "#now code for finding top three neighbourhood from each group\n",
        "top_three_manhattan=most_expensiv_neighbourhood_manhattan[0:3].reset_index()\n",
        "top_three_Bronx=most_expensiv_neighbourhood_Bronx[0:3].reset_index()\n",
        "top_three_Brooklyn=most_expensiv_neighbourhood_Brooklyn[0:3].reset_index()\n",
        "top_three_Queens=most_expensiv_neighbourhood_Queens[0:3].reset_index()\n",
        "top_three_Staten_Island=most_expensiv_neighbourhood_Staten_Island[0:3].reset_index()"
      ],
      "execution_count": null,
      "outputs": []
    },
    {
      "cell_type": "code",
      "metadata": {
        "id": "jtzi7PGC8kTU"
      },
      "source": [
        "table_top_three_neighbourhood_group=pd.concat([top_three_manhattan,top_three_Bronx,top_three_Brooklyn,top_three_Queens,top_three_Staten_Island],axis=1)"
      ],
      "execution_count": null,
      "outputs": []
    },
    {
      "cell_type": "code",
      "metadata": {
        "colab": {
          "base_uri": "https://localhost:8080/",
          "height": 197
        },
        "id": "sTlsPVUA9SBn",
        "outputId": "16517258-f975-4387-b100-74fc7d3ccd80"
      },
      "source": [
        "table_top_three_neighbourhood_group"
      ],
      "execution_count": null,
      "outputs": [
        {
          "output_type": "execute_result",
          "data": {
            "text/html": [
              "<div>\n",
              "<style scoped>\n",
              "    .dataframe tbody tr th:only-of-type {\n",
              "        vertical-align: middle;\n",
              "    }\n",
              "\n",
              "    .dataframe tbody tr th {\n",
              "        vertical-align: top;\n",
              "    }\n",
              "\n",
              "    .dataframe thead th {\n",
              "        text-align: right;\n",
              "    }\n",
              "</style>\n",
              "<table border=\"1\" class=\"dataframe\">\n",
              "  <thead>\n",
              "    <tr style=\"text-align: right;\">\n",
              "      <th></th>\n",
              "      <th>index</th>\n",
              "      <th>neighbourhood_group</th>\n",
              "      <th>neighbourhood</th>\n",
              "      <th>price</th>\n",
              "      <th>index</th>\n",
              "      <th>neighbourhood_group</th>\n",
              "      <th>neighbourhood</th>\n",
              "      <th>price</th>\n",
              "      <th>index</th>\n",
              "      <th>neighbourhood_group</th>\n",
              "      <th>neighbourhood</th>\n",
              "      <th>price</th>\n",
              "      <th>index</th>\n",
              "      <th>neighbourhood_group</th>\n",
              "      <th>neighbourhood</th>\n",
              "      <th>price</th>\n",
              "      <th>index</th>\n",
              "      <th>neighbourhood_group</th>\n",
              "      <th>neighbourhood</th>\n",
              "      <th>price</th>\n",
              "    </tr>\n",
              "  </thead>\n",
              "  <tbody>\n",
              "    <tr>\n",
              "      <th>0</th>\n",
              "      <td>26</td>\n",
              "      <td>Manhattan</td>\n",
              "      <td>Tribeca</td>\n",
              "      <td>443.214576</td>\n",
              "      <td>34</td>\n",
              "      <td>Bronx</td>\n",
              "      <td>Riverdale</td>\n",
              "      <td>442.090909</td>\n",
              "      <td>40</td>\n",
              "      <td>Brooklyn</td>\n",
              "      <td>Sea Gate</td>\n",
              "      <td>487.857143</td>\n",
              "      <td>36</td>\n",
              "      <td>Queens</td>\n",
              "      <td>Neponsit</td>\n",
              "      <td>274.666667</td>\n",
              "      <td>10</td>\n",
              "      <td>Staten Island</td>\n",
              "      <td>Fort Wadsworth</td>\n",
              "      <td>800.0</td>\n",
              "    </tr>\n",
              "    <tr>\n",
              "      <th>1</th>\n",
              "      <td>0</td>\n",
              "      <td>Manhattan</td>\n",
              "      <td>Battery Park City</td>\n",
              "      <td>367.557143</td>\n",
              "      <td>5</td>\n",
              "      <td>Bronx</td>\n",
              "      <td>City Island</td>\n",
              "      <td>173.000000</td>\n",
              "      <td>14</td>\n",
              "      <td>Brooklyn</td>\n",
              "      <td>Cobble Hill</td>\n",
              "      <td>211.929293</td>\n",
              "      <td>7</td>\n",
              "      <td>Queens</td>\n",
              "      <td>Breezy Point</td>\n",
              "      <td>213.333333</td>\n",
              "      <td>42</td>\n",
              "      <td>Staten Island</td>\n",
              "      <td>Woodrow</td>\n",
              "      <td>700.0</td>\n",
              "    </tr>\n",
              "    <tr>\n",
              "      <th>2</th>\n",
              "      <td>7</td>\n",
              "      <td>Manhattan</td>\n",
              "      <td>Flatiron District</td>\n",
              "      <td>341.925000</td>\n",
              "      <td>37</td>\n",
              "      <td>Bronx</td>\n",
              "      <td>Spuyten Duyvil</td>\n",
              "      <td>154.750000</td>\n",
              "      <td>8</td>\n",
              "      <td>Brooklyn</td>\n",
              "      <td>Brooklyn Heights</td>\n",
              "      <td>209.064935</td>\n",
              "      <td>27</td>\n",
              "      <td>Queens</td>\n",
              "      <td>Jamaica Estates</td>\n",
              "      <td>182.947368</td>\n",
              "      <td>26</td>\n",
              "      <td>Staten Island</td>\n",
              "      <td>Prince's Bay</td>\n",
              "      <td>409.5</td>\n",
              "    </tr>\n",
              "  </tbody>\n",
              "</table>\n",
              "</div>"
            ],
            "text/plain": [
              "   index neighbourhood_group  ...   neighbourhood  price\n",
              "0     26           Manhattan  ...  Fort Wadsworth  800.0\n",
              "1      0           Manhattan  ...         Woodrow  700.0\n",
              "2      7           Manhattan  ...    Prince's Bay  409.5\n",
              "\n",
              "[3 rows x 20 columns]"
            ]
          },
          "metadata": {
            "tags": []
          },
          "execution_count": 344
        }
      ]
    },
    {
      "cell_type": "code",
      "metadata": {
        "colab": {
          "base_uri": "https://localhost:8080/",
          "height": 301
        },
        "id": "wkI1RRaGCG9v",
        "outputId": "817eaca5-40f1-45b2-b4b6-4372fce93e01"
      },
      "source": [
        "plt.figure(figsize=(8,5))\n",
        "visual7=top_three_manhattan.plot(x='neighbourhood',y='price',kind='barh')\n",
        "visual7"
      ],
      "execution_count": null,
      "outputs": [
        {
          "output_type": "execute_result",
          "data": {
            "text/plain": [
              "<matplotlib.axes._subplots.AxesSubplot at 0x7f30d9f01150>"
            ]
          },
          "metadata": {
            "tags": []
          },
          "execution_count": 345
        },
        {
          "output_type": "display_data",
          "data": {
            "text/plain": [
              "<Figure size 576x360 with 0 Axes>"
            ]
          },
          "metadata": {
            "tags": []
          }
        },
        {
          "output_type": "display_data",
          "data": {
            "image/png": "[encoded data removed]",
            "text/plain": [
              "<Figure size 432x288 with 1 Axes>"
            ]
          },
          "metadata": {
            "tags": [],
            "needs_background": "light"
          }
        }
      ]
    },
    {
      "cell_type": "code",
      "metadata": {
        "colab": {
          "base_uri": "https://localhost:8080/",
          "height": 301
        },
        "id": "nUgZM-KGDsw_",
        "outputId": "ef3ec046-7270-4d14-a330-1a2986451d8f"
      },
      "source": [
        "plt.figure(figsize=(8,5))\n",
        "visual8=top_three_Bronx.plot(x='neighbourhood',y='price',kind='barh')\n",
        "visual8"
      ],
      "execution_count": null,
      "outputs": [
        {
          "output_type": "execute_result",
          "data": {
            "text/plain": [
              "<matplotlib.axes._subplots.AxesSubplot at 0x7f30d9c9e350>"
            ]
          },
          "metadata": {
            "tags": []
          },
          "execution_count": 346
        },
        {
          "output_type": "display_data",
          "data": {
            "text/plain": [
              "<Figure size 576x360 with 0 Axes>"
            ]
          },
          "metadata": {
            "tags": []
          }
        },
        {
          "output_type": "display_data",
          "data": {
            "image/png": "[encoded data removed]",
            "text/plain": [
              "<Figure size 432x288 with 1 Axes>"
            ]
          },
          "metadata": {
            "tags": [],
            "needs_background": "light"
          }
        }
      ]
    },
    {
      "cell_type": "code",
      "metadata": {
        "colab": {
          "base_uri": "https://localhost:8080/",
          "height": 301
        },
        "id": "DLdkiPeRD3dV",
        "outputId": "61635919-8122-430a-a042-60f65f6bd8c8"
      },
      "source": [
        "plt.figure(figsize=(8,5))\n",
        "visual9=top_three_Brooklyn.plot(x='neighbourhood',y='price',kind='barh')\n",
        "visual9"
      ],
      "execution_count": null,
      "outputs": [
        {
          "output_type": "execute_result",
          "data": {
            "text/plain": [
              "<matplotlib.axes._subplots.AxesSubplot at 0x7f30d9c7a9d0>"
            ]
          },
          "metadata": {
            "tags": []
          },
          "execution_count": 347
        },
        {
          "output_type": "display_data",
          "data": {
            "text/plain": [
              "<Figure size 576x360 with 0 Axes>"
            ]
          },
          "metadata": {
            "tags": []
          }
        },
        {
          "output_type": "display_data",
          "data": {
            "image/png": "[encoded data removed]",
            "text/plain": [
              "<Figure size 432x288 with 1 Axes>"
            ]
          },
          "metadata": {
            "tags": [],
            "needs_background": "light"
          }
        }
      ]
    },
    {
      "cell_type": "code",
      "metadata": {
        "colab": {
          "base_uri": "https://localhost:8080/",
          "height": 301
        },
        "id": "954Iq0AbD75r",
        "outputId": "f57b5433-883c-4b32-9a50-43e557fba111"
      },
      "source": [
        "plt.figure(figsize=(8,5))\n",
        "visual10=top_three_Queens.plot(x='neighbourhood',y='price',kind='barh')\n",
        "visual10"
      ],
      "execution_count": null,
      "outputs": [
        {
          "output_type": "execute_result",
          "data": {
            "text/plain": [
              "<matplotlib.axes._subplots.AxesSubplot at 0x7f30d9becb90>"
            ]
          },
          "metadata": {
            "tags": []
          },
          "execution_count": 348
        },
        {
          "output_type": "display_data",
          "data": {
            "text/plain": [
              "<Figure size 576x360 with 0 Axes>"
            ]
          },
          "metadata": {
            "tags": []
          }
        },
        {
          "output_type": "display_data",
          "data": {
            "image/png": "[encoded data removed]",
            "text/plain": [
              "<Figure size 432x288 with 1 Axes>"
            ]
          },
          "metadata": {
            "tags": [],
            "needs_background": "light"
          }
        }
      ]
    },
    {
      "cell_type": "code",
      "metadata": {
        "colab": {
          "base_uri": "https://localhost:8080/",
          "height": 301
        },
        "id": "4l9RyBgFEFqL",
        "outputId": "cc4066bd-3a91-4505-fee1-c33816492260"
      },
      "source": [
        "plt.figure(figsize=(8,5))\n",
        "visual11=top_three_Staten_Island.plot(x='neighbourhood',y='price',kind='barh')\n",
        "visual11"
      ],
      "execution_count": null,
      "outputs": [
        {
          "output_type": "execute_result",
          "data": {
            "text/plain": [
              "<matplotlib.axes._subplots.AxesSubplot at 0x7f30d9bd5590>"
            ]
          },
          "metadata": {
            "tags": []
          },
          "execution_count": 349
        },
        {
          "output_type": "display_data",
          "data": {
            "text/plain": [
              "<Figure size 576x360 with 0 Axes>"
            ]
          },
          "metadata": {
            "tags": []
          }
        },
        {
          "output_type": "display_data",
          "data": {
            "image/png": "[encoded data removed]",
            "text/plain": [
              "<Figure size 432x288 with 1 Axes>"
            ]
          },
          "metadata": {
            "tags": [],
            "needs_background": "light"
          }
        }
      ]
    },
    {
      "cell_type": "markdown",
      "metadata": {
        "id": "6p-L91z3Z8cT"
      },
      "source": [
        ""
      ]
    },
    {
      "cell_type": "code",
      "metadata": {
        "colab": {
          "base_uri": "https://localhost:8080/",
          "height": 415
        },
        "id": "sKmwhHiKbtGV",
        "outputId": "5409f8de-96ae-4c02-bb3d-e74ad034f5c6"
      },
      "source": [
        "airbnb_df.head()"
      ],
      "execution_count": null,
      "outputs": [
        {
          "output_type": "execute_result",
          "data": {
            "text/html": [
              "<div>\n",
              "<style scoped>\n",
              "    .dataframe tbody tr th:only-of-type {\n",
              "        vertical-align: middle;\n",
              "    }\n",
              "\n",
              "    .dataframe tbody tr th {\n",
              "        vertical-align: top;\n",
              "    }\n",
              "\n",
              "    .dataframe thead th {\n",
              "        text-align: right;\n",
              "    }\n",
              "</style>\n",
              "<table border=\"1\" class=\"dataframe\">\n",
              "  <thead>\n",
              "    <tr style=\"text-align: right;\">\n",
              "      <th></th>\n",
              "      <th>name</th>\n",
              "      <th>host_id</th>\n",
              "      <th>host_name</th>\n",
              "      <th>neighbourhood_group</th>\n",
              "      <th>neighbourhood</th>\n",
              "      <th>latitude</th>\n",
              "      <th>longitude</th>\n",
              "      <th>room_type</th>\n",
              "      <th>price</th>\n",
              "      <th>minimum_nights</th>\n",
              "      <th>number_of_reviews</th>\n",
              "      <th>reviews_per_month</th>\n",
              "      <th>calculated_host_listings_count</th>\n",
              "      <th>availability_365</th>\n",
              "    </tr>\n",
              "  </thead>\n",
              "  <tbody>\n",
              "    <tr>\n",
              "      <th>0</th>\n",
              "      <td>Clean &amp; quiet apt home by the park</td>\n",
              "      <td>2787</td>\n",
              "      <td>John</td>\n",
              "      <td>Brooklyn</td>\n",
              "      <td>Kensington</td>\n",
              "      <td>40.64749</td>\n",
              "      <td>-73.97237</td>\n",
              "      <td>Private room</td>\n",
              "      <td>149.0</td>\n",
              "      <td>1</td>\n",
              "      <td>9</td>\n",
              "      <td>0.21</td>\n",
              "      <td>6</td>\n",
              "      <td>365</td>\n",
              "    </tr>\n",
              "    <tr>\n",
              "      <th>1</th>\n",
              "      <td>Skylit Midtown Castle</td>\n",
              "      <td>2845</td>\n",
              "      <td>Jennifer</td>\n",
              "      <td>Manhattan</td>\n",
              "      <td>Midtown</td>\n",
              "      <td>40.75362</td>\n",
              "      <td>-73.98377</td>\n",
              "      <td>Entire home/apt</td>\n",
              "      <td>225.0</td>\n",
              "      <td>1</td>\n",
              "      <td>45</td>\n",
              "      <td>0.38</td>\n",
              "      <td>2</td>\n",
              "      <td>355</td>\n",
              "    </tr>\n",
              "    <tr>\n",
              "      <th>2</th>\n",
              "      <td>THE VILLAGE OF HARLEM....NEW YORK !</td>\n",
              "      <td>4632</td>\n",
              "      <td>Elisabeth</td>\n",
              "      <td>Manhattan</td>\n",
              "      <td>Harlem</td>\n",
              "      <td>40.80902</td>\n",
              "      <td>-73.94190</td>\n",
              "      <td>Private room</td>\n",
              "      <td>150.0</td>\n",
              "      <td>3</td>\n",
              "      <td>0</td>\n",
              "      <td>0.00</td>\n",
              "      <td>1</td>\n",
              "      <td>365</td>\n",
              "    </tr>\n",
              "    <tr>\n",
              "      <th>3</th>\n",
              "      <td>Cozy Entire Floor of Brownstone</td>\n",
              "      <td>4869</td>\n",
              "      <td>LisaRoxanne</td>\n",
              "      <td>Brooklyn</td>\n",
              "      <td>Clinton Hill</td>\n",
              "      <td>40.68514</td>\n",
              "      <td>-73.95976</td>\n",
              "      <td>Entire home/apt</td>\n",
              "      <td>89.0</td>\n",
              "      <td>1</td>\n",
              "      <td>270</td>\n",
              "      <td>4.64</td>\n",
              "      <td>1</td>\n",
              "      <td>194</td>\n",
              "    </tr>\n",
              "    <tr>\n",
              "      <th>4</th>\n",
              "      <td>Entire Apt: Spacious Studio/Loft by central park</td>\n",
              "      <td>7192</td>\n",
              "      <td>Laura</td>\n",
              "      <td>Manhattan</td>\n",
              "      <td>East Harlem</td>\n",
              "      <td>40.79851</td>\n",
              "      <td>-73.94399</td>\n",
              "      <td>Entire home/apt</td>\n",
              "      <td>80.0</td>\n",
              "      <td>10</td>\n",
              "      <td>9</td>\n",
              "      <td>0.10</td>\n",
              "      <td>1</td>\n",
              "      <td>0</td>\n",
              "    </tr>\n",
              "  </tbody>\n",
              "</table>\n",
              "</div>"
            ],
            "text/plain": [
              "                                               name  ...  availability_365\n",
              "0                Clean & quiet apt home by the park  ...               365\n",
              "1                             Skylit Midtown Castle  ...               355\n",
              "2               THE VILLAGE OF HARLEM....NEW YORK !  ...               365\n",
              "3                   Cozy Entire Floor of Brownstone  ...               194\n",
              "4  Entire Apt: Spacious Studio/Loft by central park  ...                 0\n",
              "\n",
              "[5 rows x 14 columns]"
            ]
          },
          "metadata": {
            "tags": []
          },
          "execution_count": 350
        }
      ]
    },
    {
      "cell_type": "code",
      "metadata": {
        "colab": {
          "base_uri": "https://localhost:8080/",
          "height": 236
        },
        "id": "Kgpc4c5yXNzd",
        "outputId": "b8e07d4e-c62e-41e1-b636-cfb3e5c8fa1c"
      },
      "source": [
        "niegh_group_traffic_relation=airbnb_df.groupby('neighbourhood_group')['reviews_per_month','price'].mean()\n",
        "niegh_group_traffic_relation"
      ],
      "execution_count": null,
      "outputs": [
        {
          "output_type": "execute_result",
          "data": {
            "text/html": [
              "<div>\n",
              "<style scoped>\n",
              "    .dataframe tbody tr th:only-of-type {\n",
              "        vertical-align: middle;\n",
              "    }\n",
              "\n",
              "    .dataframe tbody tr th {\n",
              "        vertical-align: top;\n",
              "    }\n",
              "\n",
              "    .dataframe thead th {\n",
              "        text-align: right;\n",
              "    }\n",
              "</style>\n",
              "<table border=\"1\" class=\"dataframe\">\n",
              "  <thead>\n",
              "    <tr style=\"text-align: right;\">\n",
              "      <th></th>\n",
              "      <th>reviews_per_month</th>\n",
              "      <th>price</th>\n",
              "    </tr>\n",
              "    <tr>\n",
              "      <th>neighbourhood_group</th>\n",
              "      <th></th>\n",
              "      <th></th>\n",
              "    </tr>\n",
              "  </thead>\n",
              "  <tbody>\n",
              "    <tr>\n",
              "      <th>Bronx</th>\n",
              "      <td>1.475655</td>\n",
              "      <td>87.681907</td>\n",
              "    </tr>\n",
              "    <tr>\n",
              "      <th>Brooklyn</th>\n",
              "      <td>1.049790</td>\n",
              "      <td>124.007536</td>\n",
              "    </tr>\n",
              "    <tr>\n",
              "      <th>Manhattan</th>\n",
              "      <td>0.976782</td>\n",
              "      <td>194.731156</td>\n",
              "    </tr>\n",
              "    <tr>\n",
              "      <th>Queens</th>\n",
              "      <td>1.567076</td>\n",
              "      <td>97.950187</td>\n",
              "    </tr>\n",
              "    <tr>\n",
              "      <th>Staten Island</th>\n",
              "      <td>1.576381</td>\n",
              "      <td>115.061609</td>\n",
              "    </tr>\n",
              "  </tbody>\n",
              "</table>\n",
              "</div>"
            ],
            "text/plain": [
              "                     reviews_per_month       price\n",
              "neighbourhood_group                               \n",
              "Bronx                         1.475655   87.681907\n",
              "Brooklyn                      1.049790  124.007536\n",
              "Manhattan                     0.976782  194.731156\n",
              "Queens                        1.567076   97.950187\n",
              "Staten Island                 1.576381  115.061609"
            ]
          },
          "metadata": {
            "tags": []
          },
          "execution_count": 351
        }
      ]
    },
    {
      "cell_type": "code",
      "metadata": {
        "colab": {
          "base_uri": "https://localhost:8080/",
          "height": 288
        },
        "id": "JI9C1jfYXTGt",
        "outputId": "0b83c31f-2d52-4ff2-8da3-f78af04e7797"
      },
      "source": [
        "visual12=sns.heatmap(niegh_group_traffic_relation.corr(),vmin=-1,annot=True)\n",
        "visual12"
      ],
      "execution_count": null,
      "outputs": [
        {
          "output_type": "execute_result",
          "data": {
            "text/plain": [
              "<matplotlib.axes._subplots.AxesSubplot at 0x7f30d9b56f50>"
            ]
          },
          "metadata": {
            "tags": []
          },
          "execution_count": 352
        },
        {
          "output_type": "display_data",
          "data": {
            "image/png": "[encoded data removed]",
            "text/plain": [
              "<Figure size 432x288 with 2 Axes>"
            ]
          },
          "metadata": {
            "tags": [],
            "needs_background": "light"
          }
        }
      ]
    },
    {
      "cell_type": "code",
      "metadata": {
        "colab": {
          "base_uri": "https://localhost:8080/",
          "height": 406
        },
        "id": "fmgXn8fEX4k7",
        "outputId": "af453266-deff-4ea3-e6b8-ff04f8202001"
      },
      "source": [
        "plt.figure(figsize=(10,6))\n",
        "visula13=sns.scatterplot(x='price',y='reviews_per_month',hue='neighbourhood_group',palette=['green','red','orange','blue','yellow'],legend='full',data=airbnb_df)\n",
        "visula13"
      ],
      "execution_count": null,
      "outputs": [
        {
          "output_type": "execute_result",
          "data": {
            "text/plain": [
              "<matplotlib.axes._subplots.AxesSubplot at 0x7f30da071990>"
            ]
          },
          "metadata": {
            "tags": []
          },
          "execution_count": 354
        },
        {
          "output_type": "display_data",
          "data": {
            "image/png": "[encoded data removed]",
            "text/plain": [
              "<Figure size 720x432 with 1 Axes>"
            ]
          },
          "metadata": {
            "tags": [],
            "needs_background": "light"
          }
        }
      ]
    },
    {
      "cell_type": "code",
      "metadata": {
        "colab": {
          "base_uri": "https://localhost:8080/",
          "height": 143
        },
        "id": "8945lNVdcQqc",
        "outputId": "a2ee2bb8-ae42-41ec-b290-a43ba22a47dc"
      },
      "source": [
        "# room type availabilty relation\n",
        "room_type_avail=airbnb_df.groupby('room_type')['availability_365'].mean().reset_index()\n",
        "room_type_avail"
      ],
      "execution_count": null,
      "outputs": [
        {
          "output_type": "execute_result",
          "data": {
            "text/html": [
              "<div>\n",
              "<style scoped>\n",
              "    .dataframe tbody tr th:only-of-type {\n",
              "        vertical-align: middle;\n",
              "    }\n",
              "\n",
              "    .dataframe tbody tr th {\n",
              "        vertical-align: top;\n",
              "    }\n",
              "\n",
              "    .dataframe thead th {\n",
              "        text-align: right;\n",
              "    }\n",
              "</style>\n",
              "<table border=\"1\" class=\"dataframe\">\n",
              "  <thead>\n",
              "    <tr style=\"text-align: right;\">\n",
              "      <th></th>\n",
              "      <th>room_type</th>\n",
              "      <th>availability_365</th>\n",
              "    </tr>\n",
              "  </thead>\n",
              "  <tbody>\n",
              "    <tr>\n",
              "      <th>0</th>\n",
              "      <td>Entire home/apt</td>\n",
              "      <td>111.920304</td>\n",
              "    </tr>\n",
              "    <tr>\n",
              "      <th>1</th>\n",
              "      <td>Private room</td>\n",
              "      <td>111.203933</td>\n",
              "    </tr>\n",
              "    <tr>\n",
              "      <th>2</th>\n",
              "      <td>Shared room</td>\n",
              "      <td>162.000862</td>\n",
              "    </tr>\n",
              "  </tbody>\n",
              "</table>\n",
              "</div>"
            ],
            "text/plain": [
              "         room_type  availability_365\n",
              "0  Entire home/apt        111.920304\n",
              "1     Private room        111.203933\n",
              "2      Shared room        162.000862"
            ]
          },
          "metadata": {
            "tags": []
          },
          "execution_count": 355
        }
      ]
    },
    {
      "cell_type": "code",
      "metadata": {
        "colab": {
          "base_uri": "https://localhost:8080/",
          "height": 386
        },
        "id": "_gkVp2zHc1l9",
        "outputId": "0f3d9ee7-982b-4b62-9e98-ca04fd7ec587"
      },
      "source": [
        "plt.figure(figsize=(10,5))\n",
        "visual14=room_type_avail.plot(x='room_type',y='availability_365',kind='bar')\n",
        "visual14"
      ],
      "execution_count": null,
      "outputs": [
        {
          "output_type": "execute_result",
          "data": {
            "text/plain": [
              "<matplotlib.axes._subplots.AxesSubplot at 0x7f30d99abc10>"
            ]
          },
          "metadata": {
            "tags": []
          },
          "execution_count": 356
        },
        {
          "output_type": "display_data",
          "data": {
            "text/plain": [
              "<Figure size 720x360 with 0 Axes>"
            ]
          },
          "metadata": {
            "tags": []
          }
        },
        {
          "output_type": "display_data",
          "data": {
            "image/png": "[encoded data removed]",
            "text/plain": [
              "<Figure size 432x288 with 1 Axes>"
            ]
          },
          "metadata": {
            "tags": [],
            "needs_background": "light"
          }
        }
      ]
    },
    {
      "cell_type": "markdown",
      "metadata": {
        "id": "dl2M-s6Ep4Wj"
      },
      "source": [
        "Inside the Neighbourhood"
      ]
    },
    {
      "cell_type": "code",
      "metadata": {
        "colab": {
          "base_uri": "https://localhost:8080/"
        },
        "id": "y0kiuSNyf5SX",
        "outputId": "debfc105-efb7-4f55-effc-8a1b65edb847"
      },
      "source": [
        "#let's examin some intrested unique neighbourhood value\n",
        "airbnb_df.neighbourhood.unique()"
      ],
      "execution_count": null,
      "outputs": [
        {
          "output_type": "execute_result",
          "data": {
            "text/plain": [
              "array(['Kensington', 'Midtown', 'Harlem', 'Clinton Hill', 'East Harlem',\n",
              "       'Murray Hill', 'Bedford-Stuyvesant', \"Hell's Kitchen\",\n",
              "       'Upper West Side', 'Chinatown', 'South Slope', 'West Village',\n",
              "       'Williamsburg', 'Fort Greene', 'Chelsea', 'Crown Heights',\n",
              "       'Park Slope', 'Windsor Terrace', 'Inwood', 'East Village',\n",
              "       'Greenpoint', 'Bushwick', 'Flatbush', 'Lower East Side',\n",
              "       'Prospect-Lefferts Gardens', 'Long Island City', 'Kips Bay',\n",
              "       'SoHo', 'Upper East Side', 'Prospect Heights',\n",
              "       'Washington Heights', 'Woodside', 'Brooklyn Heights',\n",
              "       'Carroll Gardens', 'Gowanus', 'Flatlands', 'Cobble Hill',\n",
              "       'Flushing', 'Boerum Hill', 'Sunnyside', 'DUMBO', 'St. George',\n",
              "       'Highbridge', 'Financial District', 'Ridgewood',\n",
              "       'Morningside Heights', 'Jamaica', 'Middle Village', 'NoHo',\n",
              "       'Ditmars Steinway', 'Flatiron District', 'Roosevelt Island',\n",
              "       'Greenwich Village', 'Little Italy', 'East Flatbush',\n",
              "       'Tompkinsville', 'Astoria', 'Clason Point', 'Eastchester',\n",
              "       'Kingsbridge', 'Two Bridges', 'Queens Village', 'Rockaway Beach',\n",
              "       'Forest Hills', 'Nolita', 'Woodlawn', 'University Heights',\n",
              "       'Gravesend', 'Gramercy', 'Allerton', 'East New York',\n",
              "       'Theater District', 'Concourse Village', 'Sheepshead Bay',\n",
              "       'Emerson Hill', 'Fort Hamilton', 'Bensonhurst', 'Tribeca',\n",
              "       'Shore Acres', 'Sunset Park', 'Concourse', 'Elmhurst',\n",
              "       'Brighton Beach', 'Jackson Heights', 'Cypress Hills', 'St. Albans',\n",
              "       'Arrochar', 'Rego Park', 'Wakefield', 'Clifton', 'Bay Ridge',\n",
              "       'Graniteville', 'Spuyten Duyvil', 'Stapleton', 'Briarwood',\n",
              "       'Ozone Park', 'Columbia St', 'Vinegar Hill', 'Mott Haven',\n",
              "       'Longwood', 'Canarsie', 'Battery Park City', 'Civic Center',\n",
              "       'East Elmhurst', 'New Springville', 'Morris Heights', 'Arverne',\n",
              "       'Cambria Heights', 'Tottenville', 'Mariners Harbor', 'Concord',\n",
              "       'Borough Park', 'Bayside', 'Downtown Brooklyn', 'Port Morris',\n",
              "       'Fieldston', 'Kew Gardens', 'Midwood', 'College Point',\n",
              "       'Mount Eden', 'City Island', 'Glendale', 'Port Richmond',\n",
              "       'Red Hook', 'Richmond Hill', 'Bellerose', 'Maspeth',\n",
              "       'Williamsbridge', 'Soundview', 'Woodhaven', 'Woodrow',\n",
              "       'Co-op City', 'Stuyvesant Town', 'Parkchester', 'North Riverdale',\n",
              "       'Dyker Heights', 'Bronxdale', 'Sea Gate', 'Riverdale',\n",
              "       'Kew Gardens Hills', 'Bay Terrace', 'Norwood', 'Claremont Village',\n",
              "       'Whitestone', 'Fordham', 'Bayswater', 'Navy Yard', 'Brownsville',\n",
              "       'Eltingville', 'Fresh Meadows', 'Mount Hope', 'Lighthouse Hill',\n",
              "       'Springfield Gardens', 'Howard Beach', 'Belle Harbor',\n",
              "       'Jamaica Estates', 'Van Nest', 'Morris Park', 'West Brighton',\n",
              "       'Far Rockaway', 'South Ozone Park', 'Tremont', 'Corona',\n",
              "       'Great Kills', 'Manhattan Beach', 'Marble Hill', 'Dongan Hills',\n",
              "       'Castleton Corners', 'East Morrisania', 'Hunts Point', 'Neponsit',\n",
              "       'Pelham Bay', 'Randall Manor', 'Throgs Neck', 'Todt Hill',\n",
              "       'West Farms', 'Silver Lake', 'Morrisania', 'Laurelton',\n",
              "       'Grymes Hill', 'Holliswood', 'Pelham Gardens', 'Belmont',\n",
              "       'Rosedale', 'Edgemere', 'New Brighton', 'Midland Beach',\n",
              "       'Baychester', 'Melrose', 'Bergen Beach', 'Richmondtown',\n",
              "       'Howland Hook', 'Schuylerville', 'Coney Island', 'New Dorp Beach',\n",
              "       \"Prince's Bay\", 'South Beach', 'Bath Beach', 'Jamaica Hills',\n",
              "       'Oakwood', 'Castle Hill', 'Hollis', 'Douglaston', 'Huguenot',\n",
              "       'Olinville', 'Edenwald', 'Grant City', 'Westerleigh',\n",
              "       'Bay Terrace, Staten Island', 'Westchester Square', 'Little Neck',\n",
              "       'Fort Wadsworth', 'Rosebank', 'Unionport', 'Mill Basin',\n",
              "       'Arden Heights', \"Bull's Head\", 'New Dorp', 'Rossville',\n",
              "       'Breezy Point', 'Willowbrook'], dtype=object)"
            ]
          },
          "metadata": {
            "tags": []
          },
          "execution_count": 357
        }
      ]
    },
    {
      "cell_type": "code",
      "metadata": {
        "colab": {
          "base_uri": "https://localhost:8080/"
        },
        "id": "D_cx7NIFgIwb",
        "outputId": "f5741ef3-d07e-4ef0-8647-fe536f0810be"
      },
      "source": [
        "#out of 48894 their are how much no of unique value for the respective neighbourhood\n",
        "len(airbnb_df.neighbourhood.unique())"
      ],
      "execution_count": null,
      "outputs": [
        {
          "output_type": "execute_result",
          "data": {
            "text/plain": [
              "221"
            ]
          },
          "metadata": {
            "tags": []
          },
          "execution_count": 358
        }
      ]
    },
    {
      "cell_type": "code",
      "metadata": {
        "colab": {
          "base_uri": "https://localhost:8080/"
        },
        "id": "oYGZvn8FgRHL",
        "outputId": "f814df47-aea3-4c0e-9c53-1c2eff8210c3"
      },
      "source": [
        "#let's examin some intrested unique room_type value\n",
        "airbnb_df.room_type.unique()"
      ],
      "execution_count": null,
      "outputs": [
        {
          "output_type": "execute_result",
          "data": {
            "text/plain": [
              "array(['Private room', 'Entire home/apt', 'Shared room'], dtype=object)"
            ]
          },
          "metadata": {
            "tags": []
          },
          "execution_count": 359
        }
      ]
    },
    {
      "cell_type": "code",
      "metadata": {
        "colab": {
          "base_uri": "https://localhost:8080/",
          "height": 215
        },
        "id": "2k7e4EKvbm_f",
        "outputId": "96839337-3c03-4c66-a89d-548b40d9ff8d"
      },
      "source": [
        "room__type_count=airbnb_df.groupby(airbnb_df['room_type']).count().reset_index()  # collecting count respect to room type\n",
        "room__type_count"
      ],
      "execution_count": null,
      "outputs": [
        {
          "output_type": "execute_result",
          "data": {
            "text/html": [
              "<div>\n",
              "<style scoped>\n",
              "    .dataframe tbody tr th:only-of-type {\n",
              "        vertical-align: middle;\n",
              "    }\n",
              "\n",
              "    .dataframe tbody tr th {\n",
              "        vertical-align: top;\n",
              "    }\n",
              "\n",
              "    .dataframe thead th {\n",
              "        text-align: right;\n",
              "    }\n",
              "</style>\n",
              "<table border=\"1\" class=\"dataframe\">\n",
              "  <thead>\n",
              "    <tr style=\"text-align: right;\">\n",
              "      <th></th>\n",
              "      <th>room_type</th>\n",
              "      <th>name</th>\n",
              "      <th>host_id</th>\n",
              "      <th>host_name</th>\n",
              "      <th>neighbourhood_group</th>\n",
              "      <th>neighbourhood</th>\n",
              "      <th>latitude</th>\n",
              "      <th>longitude</th>\n",
              "      <th>price</th>\n",
              "      <th>minimum_nights</th>\n",
              "      <th>number_of_reviews</th>\n",
              "      <th>reviews_per_month</th>\n",
              "      <th>calculated_host_listings_count</th>\n",
              "      <th>availability_365</th>\n",
              "    </tr>\n",
              "  </thead>\n",
              "  <tbody>\n",
              "    <tr>\n",
              "      <th>0</th>\n",
              "      <td>Entire home/apt</td>\n",
              "      <td>25402</td>\n",
              "      <td>25409</td>\n",
              "      <td>25400</td>\n",
              "      <td>25409</td>\n",
              "      <td>25409</td>\n",
              "      <td>25409</td>\n",
              "      <td>25409</td>\n",
              "      <td>25409</td>\n",
              "      <td>25409</td>\n",
              "      <td>25409</td>\n",
              "      <td>25409</td>\n",
              "      <td>25409</td>\n",
              "      <td>25409</td>\n",
              "    </tr>\n",
              "    <tr>\n",
              "      <th>1</th>\n",
              "      <td>Private room</td>\n",
              "      <td>22318</td>\n",
              "      <td>22326</td>\n",
              "      <td>22314</td>\n",
              "      <td>22326</td>\n",
              "      <td>22326</td>\n",
              "      <td>22326</td>\n",
              "      <td>22326</td>\n",
              "      <td>22326</td>\n",
              "      <td>22326</td>\n",
              "      <td>22326</td>\n",
              "      <td>22326</td>\n",
              "      <td>22326</td>\n",
              "      <td>22326</td>\n",
              "    </tr>\n",
              "    <tr>\n",
              "      <th>2</th>\n",
              "      <td>Shared room</td>\n",
              "      <td>1159</td>\n",
              "      <td>1160</td>\n",
              "      <td>1160</td>\n",
              "      <td>1160</td>\n",
              "      <td>1160</td>\n",
              "      <td>1160</td>\n",
              "      <td>1160</td>\n",
              "      <td>1160</td>\n",
              "      <td>1160</td>\n",
              "      <td>1160</td>\n",
              "      <td>1160</td>\n",
              "      <td>1160</td>\n",
              "      <td>1160</td>\n",
              "    </tr>\n",
              "  </tbody>\n",
              "</table>\n",
              "</div>"
            ],
            "text/plain": [
              "         room_type   name  ...  calculated_host_listings_count  availability_365\n",
              "0  Entire home/apt  25402  ...                           25409             25409\n",
              "1     Private room  22318  ...                           22326             22326\n",
              "2      Shared room   1159  ...                            1160              1160\n",
              "\n",
              "[3 rows x 14 columns]"
            ]
          },
          "metadata": {
            "tags": []
          },
          "execution_count": 360
        }
      ]
    },
    {
      "cell_type": "code",
      "metadata": {
        "colab": {
          "base_uri": "https://localhost:8080/",
          "height": 337
        },
        "id": "R6TRuMLgdGQK",
        "outputId": "ca7e4b10-1ff1-4aef-8263-3b5c52b43062"
      },
      "source": [
        "room__type_count.index=room__type_count['room_type']\n",
        "visual15=room__type_count.plot.pie(y='host_id',legend=False,title='ROOM TYPES',figsize=(10,5))\n",
        "visual15"
      ],
      "execution_count": null,
      "outputs": [
        {
          "output_type": "execute_result",
          "data": {
            "text/plain": [
              "<matplotlib.axes._subplots.AxesSubplot at 0x7f30dc7d5490>"
            ]
          },
          "metadata": {
            "tags": []
          },
          "execution_count": 361
        },
        {
          "output_type": "display_data",
          "data": {
            "image/png": "[encoded data removed]",
            "text/plain": [
              "<Figure size 720x360 with 1 Axes>"
            ]
          },
          "metadata": {
            "tags": []
          }
        }
      ]
    },
    {
      "cell_type": "code",
      "metadata": {
        "id": "bUWk2ffShaDW"
      },
      "source": [
        "#calculate the most listed  host id who takes maximum benifits from this platform \n",
        "top_host=airbnb_df.host_id.value_counts().head(10).reset_index()"
      ],
      "execution_count": null,
      "outputs": []
    },
    {
      "cell_type": "code",
      "metadata": {
        "colab": {
          "base_uri": "https://localhost:8080/",
          "height": 362
        },
        "id": "Bc6EiB0Bl5_Y",
        "outputId": "62554202-6867-4b23-b40f-ac85440c9e05"
      },
      "source": [
        "top_host"
      ],
      "execution_count": null,
      "outputs": [
        {
          "output_type": "execute_result",
          "data": {
            "text/html": [
              "<div>\n",
              "<style scoped>\n",
              "    .dataframe tbody tr th:only-of-type {\n",
              "        vertical-align: middle;\n",
              "    }\n",
              "\n",
              "    .dataframe tbody tr th {\n",
              "        vertical-align: top;\n",
              "    }\n",
              "\n",
              "    .dataframe thead th {\n",
              "        text-align: right;\n",
              "    }\n",
              "</style>\n",
              "<table border=\"1\" class=\"dataframe\">\n",
              "  <thead>\n",
              "    <tr style=\"text-align: right;\">\n",
              "      <th></th>\n",
              "      <th>level_0</th>\n",
              "      <th>T-host</th>\n",
              "      <th>host_Value</th>\n",
              "    </tr>\n",
              "  </thead>\n",
              "  <tbody>\n",
              "    <tr>\n",
              "      <th>0</th>\n",
              "      <td>0</td>\n",
              "      <td>219517861</td>\n",
              "      <td>327</td>\n",
              "    </tr>\n",
              "    <tr>\n",
              "      <th>1</th>\n",
              "      <td>1</td>\n",
              "      <td>107434423</td>\n",
              "      <td>232</td>\n",
              "    </tr>\n",
              "    <tr>\n",
              "      <th>2</th>\n",
              "      <td>2</td>\n",
              "      <td>30283594</td>\n",
              "      <td>121</td>\n",
              "    </tr>\n",
              "    <tr>\n",
              "      <th>3</th>\n",
              "      <td>3</td>\n",
              "      <td>137358866</td>\n",
              "      <td>103</td>\n",
              "    </tr>\n",
              "    <tr>\n",
              "      <th>4</th>\n",
              "      <td>4</td>\n",
              "      <td>12243051</td>\n",
              "      <td>96</td>\n",
              "    </tr>\n",
              "    <tr>\n",
              "      <th>5</th>\n",
              "      <td>5</td>\n",
              "      <td>16098958</td>\n",
              "      <td>96</td>\n",
              "    </tr>\n",
              "    <tr>\n",
              "      <th>6</th>\n",
              "      <td>6</td>\n",
              "      <td>61391963</td>\n",
              "      <td>91</td>\n",
              "    </tr>\n",
              "    <tr>\n",
              "      <th>7</th>\n",
              "      <td>7</td>\n",
              "      <td>22541573</td>\n",
              "      <td>87</td>\n",
              "    </tr>\n",
              "    <tr>\n",
              "      <th>8</th>\n",
              "      <td>8</td>\n",
              "      <td>200380610</td>\n",
              "      <td>65</td>\n",
              "    </tr>\n",
              "    <tr>\n",
              "      <th>9</th>\n",
              "      <td>9</td>\n",
              "      <td>7503643</td>\n",
              "      <td>52</td>\n",
              "    </tr>\n",
              "  </tbody>\n",
              "</table>\n",
              "</div>"
            ],
            "text/plain": [
              "   level_0     T-host  host_Value\n",
              "0        0  219517861         327\n",
              "1        1  107434423         232\n",
              "2        2   30283594         121\n",
              "3        3  137358866         103\n",
              "4        4   12243051          96\n",
              "5        5   16098958          96\n",
              "6        6   61391963          91\n",
              "7        7   22541573          87\n",
              "8        8  200380610          65\n",
              "9        9    7503643          52"
            ]
          },
          "metadata": {
            "tags": []
          },
          "execution_count": 371
        }
      ]
    },
    {
      "cell_type": "code",
      "metadata": {
        "id": "gO3hlFermrq5"
      },
      "source": [
        "# finding with already existing columns\n",
        "top_host_check=airbnb_df.calculated_host_listings_count.max()"
      ],
      "execution_count": null,
      "outputs": []
    },
    {
      "cell_type": "code",
      "metadata": {
        "colab": {
          "base_uri": "https://localhost:8080/"
        },
        "id": "3G7d-fcPnIkT",
        "outputId": "cddb1cce-2f13-433f-e010-3718f4329f79"
      },
      "source": [
        "top_host_check"
      ],
      "execution_count": null,
      "outputs": [
        {
          "output_type": "execute_result",
          "data": {
            "text/plain": [
              "327"
            ]
          },
          "metadata": {
            "tags": []
          },
          "execution_count": 364
        }
      ]
    },
    {
      "cell_type": "code",
      "metadata": {
        "id": "Xuy3zm_bnL-q"
      },
      "source": [
        "#setting size of the figure for the future visualization\n",
        "sns.set({'figure.figsize':(10,8)})\n",
        "sns.set_style('white')"
      ],
      "execution_count": null,
      "outputs": []
    },
    {
      "cell_type": "code",
      "metadata": {
        "colab": {
          "base_uri": "https://localhost:8080/",
          "height": 362
        },
        "id": "zOEi-vfJwUGE",
        "outputId": "9b5ae6bd-2e5b-42ce-a882-cb87d245a2bf"
      },
      "source": [
        "top_host_df=pd.DataFrame(top_host)\n",
        "top_host_df"
      ],
      "execution_count": null,
      "outputs": [
        {
          "output_type": "execute_result",
          "data": {
            "text/html": [
              "<div>\n",
              "<style scoped>\n",
              "    .dataframe tbody tr th:only-of-type {\n",
              "        vertical-align: middle;\n",
              "    }\n",
              "\n",
              "    .dataframe tbody tr th {\n",
              "        vertical-align: top;\n",
              "    }\n",
              "\n",
              "    .dataframe thead th {\n",
              "        text-align: right;\n",
              "    }\n",
              "</style>\n",
              "<table border=\"1\" class=\"dataframe\">\n",
              "  <thead>\n",
              "    <tr style=\"text-align: right;\">\n",
              "      <th></th>\n",
              "      <th>index</th>\n",
              "      <th>host_id</th>\n",
              "    </tr>\n",
              "  </thead>\n",
              "  <tbody>\n",
              "    <tr>\n",
              "      <th>0</th>\n",
              "      <td>219517861</td>\n",
              "      <td>327</td>\n",
              "    </tr>\n",
              "    <tr>\n",
              "      <th>1</th>\n",
              "      <td>107434423</td>\n",
              "      <td>232</td>\n",
              "    </tr>\n",
              "    <tr>\n",
              "      <th>2</th>\n",
              "      <td>30283594</td>\n",
              "      <td>121</td>\n",
              "    </tr>\n",
              "    <tr>\n",
              "      <th>3</th>\n",
              "      <td>137358866</td>\n",
              "      <td>103</td>\n",
              "    </tr>\n",
              "    <tr>\n",
              "      <th>4</th>\n",
              "      <td>12243051</td>\n",
              "      <td>96</td>\n",
              "    </tr>\n",
              "    <tr>\n",
              "      <th>5</th>\n",
              "      <td>16098958</td>\n",
              "      <td>96</td>\n",
              "    </tr>\n",
              "    <tr>\n",
              "      <th>6</th>\n",
              "      <td>61391963</td>\n",
              "      <td>91</td>\n",
              "    </tr>\n",
              "    <tr>\n",
              "      <th>7</th>\n",
              "      <td>22541573</td>\n",
              "      <td>87</td>\n",
              "    </tr>\n",
              "    <tr>\n",
              "      <th>8</th>\n",
              "      <td>200380610</td>\n",
              "      <td>65</td>\n",
              "    </tr>\n",
              "    <tr>\n",
              "      <th>9</th>\n",
              "      <td>7503643</td>\n",
              "      <td>52</td>\n",
              "    </tr>\n",
              "  </tbody>\n",
              "</table>\n",
              "</div>"
            ],
            "text/plain": [
              "       index  host_id\n",
              "0  219517861      327\n",
              "1  107434423      232\n",
              "2   30283594      121\n",
              "3  137358866      103\n",
              "4   12243051       96\n",
              "5   16098958       96\n",
              "6   61391963       91\n",
              "7   22541573       87\n",
              "8  200380610       65\n",
              "9    7503643       52"
            ]
          },
          "metadata": {
            "tags": []
          },
          "execution_count": 366
        }
      ]
    },
    {
      "cell_type": "code",
      "metadata": {
        "colab": {
          "base_uri": "https://localhost:8080/",
          "height": 362
        },
        "id": "25eZ8PmCzD-q",
        "outputId": "84b49a4b-cb34-4ca9-d87c-2615e9aa3ef1"
      },
      "source": [
        "top_host_df.reset_index(inplace=True)\n",
        "top_host_df"
      ],
      "execution_count": null,
      "outputs": [
        {
          "output_type": "execute_result",
          "data": {
            "text/html": [
              "<div>\n",
              "<style scoped>\n",
              "    .dataframe tbody tr th:only-of-type {\n",
              "        vertical-align: middle;\n",
              "    }\n",
              "\n",
              "    .dataframe tbody tr th {\n",
              "        vertical-align: top;\n",
              "    }\n",
              "\n",
              "    .dataframe thead th {\n",
              "        text-align: right;\n",
              "    }\n",
              "</style>\n",
              "<table border=\"1\" class=\"dataframe\">\n",
              "  <thead>\n",
              "    <tr style=\"text-align: right;\">\n",
              "      <th></th>\n",
              "      <th>level_0</th>\n",
              "      <th>index</th>\n",
              "      <th>host_id</th>\n",
              "    </tr>\n",
              "  </thead>\n",
              "  <tbody>\n",
              "    <tr>\n",
              "      <th>0</th>\n",
              "      <td>0</td>\n",
              "      <td>219517861</td>\n",
              "      <td>327</td>\n",
              "    </tr>\n",
              "    <tr>\n",
              "      <th>1</th>\n",
              "      <td>1</td>\n",
              "      <td>107434423</td>\n",
              "      <td>232</td>\n",
              "    </tr>\n",
              "    <tr>\n",
              "      <th>2</th>\n",
              "      <td>2</td>\n",
              "      <td>30283594</td>\n",
              "      <td>121</td>\n",
              "    </tr>\n",
              "    <tr>\n",
              "      <th>3</th>\n",
              "      <td>3</td>\n",
              "      <td>137358866</td>\n",
              "      <td>103</td>\n",
              "    </tr>\n",
              "    <tr>\n",
              "      <th>4</th>\n",
              "      <td>4</td>\n",
              "      <td>12243051</td>\n",
              "      <td>96</td>\n",
              "    </tr>\n",
              "    <tr>\n",
              "      <th>5</th>\n",
              "      <td>5</td>\n",
              "      <td>16098958</td>\n",
              "      <td>96</td>\n",
              "    </tr>\n",
              "    <tr>\n",
              "      <th>6</th>\n",
              "      <td>6</td>\n",
              "      <td>61391963</td>\n",
              "      <td>91</td>\n",
              "    </tr>\n",
              "    <tr>\n",
              "      <th>7</th>\n",
              "      <td>7</td>\n",
              "      <td>22541573</td>\n",
              "      <td>87</td>\n",
              "    </tr>\n",
              "    <tr>\n",
              "      <th>8</th>\n",
              "      <td>8</td>\n",
              "      <td>200380610</td>\n",
              "      <td>65</td>\n",
              "    </tr>\n",
              "    <tr>\n",
              "      <th>9</th>\n",
              "      <td>9</td>\n",
              "      <td>7503643</td>\n",
              "      <td>52</td>\n",
              "    </tr>\n",
              "  </tbody>\n",
              "</table>\n",
              "</div>"
            ],
            "text/plain": [
              "   level_0      index  host_id\n",
              "0        0  219517861      327\n",
              "1        1  107434423      232\n",
              "2        2   30283594      121\n",
              "3        3  137358866      103\n",
              "4        4   12243051       96\n",
              "5        5   16098958       96\n",
              "6        6   61391963       91\n",
              "7        7   22541573       87\n",
              "8        8  200380610       65\n",
              "9        9    7503643       52"
            ]
          },
          "metadata": {
            "tags": []
          },
          "execution_count": 367
        }
      ]
    },
    {
      "cell_type": "code",
      "metadata": {
        "id": "fiibAeIEzgNA"
      },
      "source": [
        "top_host_df.rename(columns={'index':'T-host','host_id':'host_Value'},inplace=True)"
      ],
      "execution_count": null,
      "outputs": []
    },
    {
      "cell_type": "code",
      "metadata": {
        "colab": {
          "base_uri": "https://localhost:8080/",
          "height": 362
        },
        "id": "ihrcCbZB3Fes",
        "outputId": "20be8194-fa47-4626-cd6d-0a0f685a68dc"
      },
      "source": [
        "top_host_df"
      ],
      "execution_count": null,
      "outputs": [
        {
          "output_type": "execute_result",
          "data": {
            "text/html": [
              "<div>\n",
              "<style scoped>\n",
              "    .dataframe tbody tr th:only-of-type {\n",
              "        vertical-align: middle;\n",
              "    }\n",
              "\n",
              "    .dataframe tbody tr th {\n",
              "        vertical-align: top;\n",
              "    }\n",
              "\n",
              "    .dataframe thead th {\n",
              "        text-align: right;\n",
              "    }\n",
              "</style>\n",
              "<table border=\"1\" class=\"dataframe\">\n",
              "  <thead>\n",
              "    <tr style=\"text-align: right;\">\n",
              "      <th></th>\n",
              "      <th>level_0</th>\n",
              "      <th>T-host</th>\n",
              "      <th>host_Value</th>\n",
              "    </tr>\n",
              "  </thead>\n",
              "  <tbody>\n",
              "    <tr>\n",
              "      <th>0</th>\n",
              "      <td>0</td>\n",
              "      <td>219517861</td>\n",
              "      <td>327</td>\n",
              "    </tr>\n",
              "    <tr>\n",
              "      <th>1</th>\n",
              "      <td>1</td>\n",
              "      <td>107434423</td>\n",
              "      <td>232</td>\n",
              "    </tr>\n",
              "    <tr>\n",
              "      <th>2</th>\n",
              "      <td>2</td>\n",
              "      <td>30283594</td>\n",
              "      <td>121</td>\n",
              "    </tr>\n",
              "    <tr>\n",
              "      <th>3</th>\n",
              "      <td>3</td>\n",
              "      <td>137358866</td>\n",
              "      <td>103</td>\n",
              "    </tr>\n",
              "    <tr>\n",
              "      <th>4</th>\n",
              "      <td>4</td>\n",
              "      <td>12243051</td>\n",
              "      <td>96</td>\n",
              "    </tr>\n",
              "    <tr>\n",
              "      <th>5</th>\n",
              "      <td>5</td>\n",
              "      <td>16098958</td>\n",
              "      <td>96</td>\n",
              "    </tr>\n",
              "    <tr>\n",
              "      <th>6</th>\n",
              "      <td>6</td>\n",
              "      <td>61391963</td>\n",
              "      <td>91</td>\n",
              "    </tr>\n",
              "    <tr>\n",
              "      <th>7</th>\n",
              "      <td>7</td>\n",
              "      <td>22541573</td>\n",
              "      <td>87</td>\n",
              "    </tr>\n",
              "    <tr>\n",
              "      <th>8</th>\n",
              "      <td>8</td>\n",
              "      <td>200380610</td>\n",
              "      <td>65</td>\n",
              "    </tr>\n",
              "    <tr>\n",
              "      <th>9</th>\n",
              "      <td>9</td>\n",
              "      <td>7503643</td>\n",
              "      <td>52</td>\n",
              "    </tr>\n",
              "  </tbody>\n",
              "</table>\n",
              "</div>"
            ],
            "text/plain": [
              "   level_0     T-host  host_Value\n",
              "0        0  219517861         327\n",
              "1        1  107434423         232\n",
              "2        2   30283594         121\n",
              "3        3  137358866         103\n",
              "4        4   12243051          96\n",
              "5        5   16098958          96\n",
              "6        6   61391963          91\n",
              "7        7   22541573          87\n",
              "8        8  200380610          65\n",
              "9        9    7503643          52"
            ]
          },
          "metadata": {
            "tags": []
          },
          "execution_count": 369
        }
      ]
    },
    {
      "cell_type": "code",
      "metadata": {
        "colab": {
          "base_uri": "https://localhost:8080/",
          "height": 567
        },
        "id": "NiFtSSn13Ht4",
        "outputId": "e3392409-5a4a-40be-d2d7-0b59d4873b73"
      },
      "source": [
        "visual6=sns.barplot(x='T-host',y='host_Value',data=top_host_df,palette=\"Blues_d\")\n",
        "visual6.set_title('top host with the most listed in NYC ')\n",
        "visual6.set_ylabel('host counts')\n",
        "visual6.set_xlabel('top host')\n",
        "visual6.set_xticks(visual1.get_xticks())\n"
      ],
      "execution_count": null,
      "outputs": [
        {
          "output_type": "execute_result",
          "data": {
            "text/plain": [
              "[<matplotlib.axis.XTick at 0x7f30dab6a590>,\n",
              " <matplotlib.axis.XTick at 0x7f30dab6aa10>,\n",
              " <matplotlib.axis.XTick at 0x7f30dac8df50>]"
            ]
          },
          "metadata": {
            "tags": []
          },
          "execution_count": 370
        },
        {
          "output_type": "display_data",
          "data": {
            "image/png": "[encoded data removed]",
            "text/plain": [
              "<Figure size 720x576 with 1 Axes>"
            ]
          },
          "metadata": {
            "tags": []
          }
        }
      ]
    },
    {
      "cell_type": "code",
      "metadata": {
        "id": "o302EcT45_f3"
      },
      "source": [
        "#insights from our neighbourhood 'Brooklyn', 'Manhattan', 'Queens', 'Staten Island', 'Bronx\n",
        "#for Brooklyn\n",
        "price_1=airbnb_df.loc[airbnb_df['neighbourhood_group']=='Brooklyn']\n",
        "price_1list=price_1[['price']]\n",
        "#'Manhattan\n",
        "price_2=airbnb_df.loc[airbnb_df['neighbourhood_group']=='Manhattan']\n",
        "price_2list=price_2[['price']]\n",
        "#'Queens\n",
        "price_3=airbnb_df.loc[airbnb_df['neighbourhood_group']=='Queens']\n",
        "price_3list=price_3[['price']]\n",
        "#'Staten island\n",
        "price_4=airbnb_df.loc[airbnb_df['neighbourhood_group']=='Staten Island']\n",
        "price_4list=price_4[['price']]\n",
        "#Bronx\n",
        "price_5=airbnb_df.loc[airbnb_df['neighbourhood_group']=='Bronx']\n",
        "price_5list=price_5[['price']]\n",
        "final_price_list=[price_1list,price_2list,price_3list,price_4list,price_5list]"
      ],
      "execution_count": null,
      "outputs": []
    },
    {
      "cell_type": "code",
      "metadata": {
        "id": "5S6I0qqLItv1",
        "colab": {
          "base_uri": "https://localhost:8080/"
        },
        "outputId": "140516b8-2b16-469a-cda6-4026bb8fe011"
      },
      "source": [
        "final_price_list   #give us raw data"
      ],
      "execution_count": null,
      "outputs": [
        {
          "output_type": "execute_result",
          "data": {
            "text/plain": [
              "[       price\n",
              " 0      149.0\n",
              " 3       89.0\n",
              " 6       60.0\n",
              " 12      89.0\n",
              " 15     140.0\n",
              " ...      ...\n",
              " 48882   40.0\n",
              " 48884  190.0\n",
              " 48887  170.0\n",
              " 48890   70.0\n",
              " 48891   40.0\n",
              " \n",
              " [20104 rows x 1 columns],        price\n",
              " 1      225.0\n",
              " 2      150.0\n",
              " 4       80.0\n",
              " 5      200.0\n",
              " 7       79.0\n",
              " ...      ...\n",
              " 48886  200.0\n",
              " 48888  125.0\n",
              " 48892  115.0\n",
              " 48893   55.0\n",
              " 48894   90.0\n",
              " \n",
              " [21661 rows x 1 columns],        price\n",
              " 46     130.0\n",
              " 77      70.0\n",
              " 143    140.0\n",
              " 161     79.0\n",
              " 181    350.0\n",
              " ...      ...\n",
              " 48858   68.0\n",
              " 48863   93.0\n",
              " 48866   58.0\n",
              " 48878   45.0\n",
              " 48889   65.0\n",
              " \n",
              " [5666 rows x 1 columns],        price\n",
              " 169     70.0\n",
              " 249     36.0\n",
              " 250     37.0\n",
              " 251     37.0\n",
              " 256     36.0\n",
              " ...      ...\n",
              " 48441   40.0\n",
              " 48446  100.0\n",
              " 48533  450.0\n",
              " 48649   54.0\n",
              " 48799  235.0\n",
              " \n",
              " [373 rows x 1 columns],        price\n",
              " 171     40.0\n",
              " 207     45.0\n",
              " 260     90.0\n",
              " 261    105.0\n",
              " 309     90.0\n",
              " ...      ...\n",
              " 48783  140.0\n",
              " 48792   80.0\n",
              " 48795  125.0\n",
              " 48796   70.0\n",
              " 48805  100.0\n",
              " \n",
              " [1091 rows x 1 columns]]"
            ]
          },
          "metadata": {
            "tags": []
          },
          "execution_count": 373
        }
      ]
    },
    {
      "cell_type": "code",
      "metadata": {
        "id": "BCKeZ_bhm0Dx",
        "colab": {
          "base_uri": "https://localhost:8080/",
          "height": 236
        },
        "outputId": "a1ba9714-8b05-4463-f6ba-96ebc9575fd3"
      },
      "source": [
        "# known values in neighbourhood_group column by using for loop creating a stats table\n",
        "list_of_price=[]\n",
        "new_list=['Brooklyn','Manhattan','Queens','Staten Island','Bronx']\n",
        "\n",
        "for x in final_price_list:\n",
        "    a=x.describe(percentiles=[0.25, 0.50, 0.75])\n",
        "    a=a.iloc[3:]\n",
        "    a.reset_index(inplace=True)\n",
        "    a.rename(columns={'index':'Stats'}, inplace=True)\n",
        "    list_of_price.append(a)\n",
        "# names of the price column to the area name for easier reading of the table       \n",
        "list_of_price[0].rename(columns={'price':new_list[0]}, inplace=True)\n",
        "list_of_price[1].rename(columns={'price':new_list[1]}, inplace=True)\n",
        "list_of_price[2].rename(columns={'price':new_list[2]}, inplace=True)\n",
        "list_of_price[3].rename(columns={'price':new_list[3]}, inplace=True)\n",
        "list_of_price[4].rename(columns={'price':new_list[4]}, inplace=True)\n",
        "#finilizing our dataframe for final view    \n",
        "stat_df=list_of_price\n",
        "stat_df=[df.set_index('Stats') for df in stat_df]    #list comprihension for\n",
        "stat_df=stat_df[0].join(stat_df[1:])\n",
        "stat_df"
      ],
      "execution_count": null,
      "outputs": [
        {
          "output_type": "execute_result",
          "data": {
            "text/html": [
              "<div>\n",
              "<style scoped>\n",
              "    .dataframe tbody tr th:only-of-type {\n",
              "        vertical-align: middle;\n",
              "    }\n",
              "\n",
              "    .dataframe tbody tr th {\n",
              "        vertical-align: top;\n",
              "    }\n",
              "\n",
              "    .dataframe thead th {\n",
              "        text-align: right;\n",
              "    }\n",
              "</style>\n",
              "<table border=\"1\" class=\"dataframe\">\n",
              "  <thead>\n",
              "    <tr style=\"text-align: right;\">\n",
              "      <th></th>\n",
              "      <th>Brooklyn</th>\n",
              "      <th>Manhattan</th>\n",
              "      <th>Queens</th>\n",
              "      <th>Staten Island</th>\n",
              "      <th>Bronx</th>\n",
              "    </tr>\n",
              "    <tr>\n",
              "      <th>Stats</th>\n",
              "      <th></th>\n",
              "      <th></th>\n",
              "      <th></th>\n",
              "      <th></th>\n",
              "      <th></th>\n",
              "    </tr>\n",
              "  </thead>\n",
              "  <tbody>\n",
              "    <tr>\n",
              "      <th>min</th>\n",
              "      <td>20.0</td>\n",
              "      <td>20.0</td>\n",
              "      <td>20.0</td>\n",
              "      <td>20.0</td>\n",
              "      <td>20.0</td>\n",
              "    </tr>\n",
              "    <tr>\n",
              "      <th>25%</th>\n",
              "      <td>60.0</td>\n",
              "      <td>95.0</td>\n",
              "      <td>50.0</td>\n",
              "      <td>50.0</td>\n",
              "      <td>45.0</td>\n",
              "    </tr>\n",
              "    <tr>\n",
              "      <th>50%</th>\n",
              "      <td>90.0</td>\n",
              "      <td>150.0</td>\n",
              "      <td>75.0</td>\n",
              "      <td>75.0</td>\n",
              "      <td>65.0</td>\n",
              "    </tr>\n",
              "    <tr>\n",
              "      <th>75%</th>\n",
              "      <td>150.0</td>\n",
              "      <td>220.0</td>\n",
              "      <td>110.0</td>\n",
              "      <td>110.0</td>\n",
              "      <td>99.0</td>\n",
              "    </tr>\n",
              "    <tr>\n",
              "      <th>max</th>\n",
              "      <td>8000.0</td>\n",
              "      <td>7703.0</td>\n",
              "      <td>2600.0</td>\n",
              "      <td>5000.0</td>\n",
              "      <td>2500.0</td>\n",
              "    </tr>\n",
              "  </tbody>\n",
              "</table>\n",
              "</div>"
            ],
            "text/plain": [
              "       Brooklyn  Manhattan  Queens  Staten Island   Bronx\n",
              "Stats                                                    \n",
              "min        20.0       20.0    20.0           20.0    20.0\n",
              "25%        60.0       95.0    50.0           50.0    45.0\n",
              "50%        90.0      150.0    75.0           75.0    65.0\n",
              "75%       150.0      220.0   110.0          110.0    99.0\n",
              "max      8000.0     7703.0  2600.0         5000.0  2500.0"
            ]
          },
          "metadata": {
            "tags": []
          },
          "execution_count": 379
        }
      ]
    },
    {
      "cell_type": "code",
      "metadata": {
        "id": "AVD1NAE13Y9v",
        "colab": {
          "base_uri": "https://localhost:8080/",
          "height": 822
        },
        "outputId": "22f2317e-b453-4b8f-f4b4-73761f628a5f"
      },
      "source": [
        "#after seeing statistic table we can easily observ that we have some extream value so for we need to remove it for better visualisation \n",
        "# creating a sub data frame with value less than 500\n",
        "sub_data=airbnb_df[airbnb_df.price<500]\n",
        "sub_data "
      ],
      "execution_count": null,
      "outputs": [
        {
          "output_type": "execute_result",
          "data": {
            "text/html": [
              "<div>\n",
              "<style scoped>\n",
              "    .dataframe tbody tr th:only-of-type {\n",
              "        vertical-align: middle;\n",
              "    }\n",
              "\n",
              "    .dataframe tbody tr th {\n",
              "        vertical-align: top;\n",
              "    }\n",
              "\n",
              "    .dataframe thead th {\n",
              "        text-align: right;\n",
              "    }\n",
              "</style>\n",
              "<table border=\"1\" class=\"dataframe\">\n",
              "  <thead>\n",
              "    <tr style=\"text-align: right;\">\n",
              "      <th></th>\n",
              "      <th>name</th>\n",
              "      <th>host_id</th>\n",
              "      <th>host_name</th>\n",
              "      <th>neighbourhood_group</th>\n",
              "      <th>neighbourhood</th>\n",
              "      <th>latitude</th>\n",
              "      <th>longitude</th>\n",
              "      <th>room_type</th>\n",
              "      <th>price</th>\n",
              "      <th>minimum_nights</th>\n",
              "      <th>number_of_reviews</th>\n",
              "      <th>reviews_per_month</th>\n",
              "      <th>calculated_host_listings_count</th>\n",
              "      <th>availability_365</th>\n",
              "    </tr>\n",
              "  </thead>\n",
              "  <tbody>\n",
              "    <tr>\n",
              "      <th>0</th>\n",
              "      <td>Clean &amp; quiet apt home by the park</td>\n",
              "      <td>2787</td>\n",
              "      <td>John</td>\n",
              "      <td>Brooklyn</td>\n",
              "      <td>Kensington</td>\n",
              "      <td>40.64749</td>\n",
              "      <td>-73.97237</td>\n",
              "      <td>Private room</td>\n",
              "      <td>149.0</td>\n",
              "      <td>1</td>\n",
              "      <td>9</td>\n",
              "      <td>0.21</td>\n",
              "      <td>6</td>\n",
              "      <td>365</td>\n",
              "    </tr>\n",
              "    <tr>\n",
              "      <th>1</th>\n",
              "      <td>Skylit Midtown Castle</td>\n",
              "      <td>2845</td>\n",
              "      <td>Jennifer</td>\n",
              "      <td>Manhattan</td>\n",
              "      <td>Midtown</td>\n",
              "      <td>40.75362</td>\n",
              "      <td>-73.98377</td>\n",
              "      <td>Entire home/apt</td>\n",
              "      <td>225.0</td>\n",
              "      <td>1</td>\n",
              "      <td>45</td>\n",
              "      <td>0.38</td>\n",
              "      <td>2</td>\n",
              "      <td>355</td>\n",
              "    </tr>\n",
              "    <tr>\n",
              "      <th>2</th>\n",
              "      <td>THE VILLAGE OF HARLEM....NEW YORK !</td>\n",
              "      <td>4632</td>\n",
              "      <td>Elisabeth</td>\n",
              "      <td>Manhattan</td>\n",
              "      <td>Harlem</td>\n",
              "      <td>40.80902</td>\n",
              "      <td>-73.94190</td>\n",
              "      <td>Private room</td>\n",
              "      <td>150.0</td>\n",
              "      <td>3</td>\n",
              "      <td>0</td>\n",
              "      <td>0.00</td>\n",
              "      <td>1</td>\n",
              "      <td>365</td>\n",
              "    </tr>\n",
              "    <tr>\n",
              "      <th>3</th>\n",
              "      <td>Cozy Entire Floor of Brownstone</td>\n",
              "      <td>4869</td>\n",
              "      <td>LisaRoxanne</td>\n",
              "      <td>Brooklyn</td>\n",
              "      <td>Clinton Hill</td>\n",
              "      <td>40.68514</td>\n",
              "      <td>-73.95976</td>\n",
              "      <td>Entire home/apt</td>\n",
              "      <td>89.0</td>\n",
              "      <td>1</td>\n",
              "      <td>270</td>\n",
              "      <td>4.64</td>\n",
              "      <td>1</td>\n",
              "      <td>194</td>\n",
              "    </tr>\n",
              "    <tr>\n",
              "      <th>4</th>\n",
              "      <td>Entire Apt: Spacious Studio/Loft by central park</td>\n",
              "      <td>7192</td>\n",
              "      <td>Laura</td>\n",
              "      <td>Manhattan</td>\n",
              "      <td>East Harlem</td>\n",
              "      <td>40.79851</td>\n",
              "      <td>-73.94399</td>\n",
              "      <td>Entire home/apt</td>\n",
              "      <td>80.0</td>\n",
              "      <td>10</td>\n",
              "      <td>9</td>\n",
              "      <td>0.10</td>\n",
              "      <td>1</td>\n",
              "      <td>0</td>\n",
              "    </tr>\n",
              "    <tr>\n",
              "      <th>...</th>\n",
              "      <td>...</td>\n",
              "      <td>...</td>\n",
              "      <td>...</td>\n",
              "      <td>...</td>\n",
              "      <td>...</td>\n",
              "      <td>...</td>\n",
              "      <td>...</td>\n",
              "      <td>...</td>\n",
              "      <td>...</td>\n",
              "      <td>...</td>\n",
              "      <td>...</td>\n",
              "      <td>...</td>\n",
              "      <td>...</td>\n",
              "      <td>...</td>\n",
              "    </tr>\n",
              "    <tr>\n",
              "      <th>48890</th>\n",
              "      <td>Charming one bedroom - newly renovated rowhouse</td>\n",
              "      <td>8232441</td>\n",
              "      <td>Sabrina</td>\n",
              "      <td>Brooklyn</td>\n",
              "      <td>Bedford-Stuyvesant</td>\n",
              "      <td>40.67853</td>\n",
              "      <td>-73.94995</td>\n",
              "      <td>Private room</td>\n",
              "      <td>70.0</td>\n",
              "      <td>2</td>\n",
              "      <td>0</td>\n",
              "      <td>0.00</td>\n",
              "      <td>2</td>\n",
              "      <td>9</td>\n",
              "    </tr>\n",
              "    <tr>\n",
              "      <th>48891</th>\n",
              "      <td>Affordable room in Bushwick/East Williamsburg</td>\n",
              "      <td>6570630</td>\n",
              "      <td>Marisol</td>\n",
              "      <td>Brooklyn</td>\n",
              "      <td>Bushwick</td>\n",
              "      <td>40.70184</td>\n",
              "      <td>-73.93317</td>\n",
              "      <td>Private room</td>\n",
              "      <td>40.0</td>\n",
              "      <td>4</td>\n",
              "      <td>0</td>\n",
              "      <td>0.00</td>\n",
              "      <td>2</td>\n",
              "      <td>36</td>\n",
              "    </tr>\n",
              "    <tr>\n",
              "      <th>48892</th>\n",
              "      <td>Sunny Studio at Historical Neighborhood</td>\n",
              "      <td>23492952</td>\n",
              "      <td>Ilgar &amp; Aysel</td>\n",
              "      <td>Manhattan</td>\n",
              "      <td>Harlem</td>\n",
              "      <td>40.81475</td>\n",
              "      <td>-73.94867</td>\n",
              "      <td>Entire home/apt</td>\n",
              "      <td>115.0</td>\n",
              "      <td>10</td>\n",
              "      <td>0</td>\n",
              "      <td>0.00</td>\n",
              "      <td>1</td>\n",
              "      <td>27</td>\n",
              "    </tr>\n",
              "    <tr>\n",
              "      <th>48893</th>\n",
              "      <td>43rd St. Time Square-cozy single bed</td>\n",
              "      <td>30985759</td>\n",
              "      <td>Taz</td>\n",
              "      <td>Manhattan</td>\n",
              "      <td>Hell's Kitchen</td>\n",
              "      <td>40.75751</td>\n",
              "      <td>-73.99112</td>\n",
              "      <td>Shared room</td>\n",
              "      <td>55.0</td>\n",
              "      <td>1</td>\n",
              "      <td>0</td>\n",
              "      <td>0.00</td>\n",
              "      <td>6</td>\n",
              "      <td>2</td>\n",
              "    </tr>\n",
              "    <tr>\n",
              "      <th>48894</th>\n",
              "      <td>Trendy duplex in the very heart of Hell's Kitchen</td>\n",
              "      <td>68119814</td>\n",
              "      <td>Christophe</td>\n",
              "      <td>Manhattan</td>\n",
              "      <td>Hell's Kitchen</td>\n",
              "      <td>40.76404</td>\n",
              "      <td>-73.98933</td>\n",
              "      <td>Private room</td>\n",
              "      <td>90.0</td>\n",
              "      <td>7</td>\n",
              "      <td>0</td>\n",
              "      <td>0.00</td>\n",
              "      <td>1</td>\n",
              "      <td>23</td>\n",
              "    </tr>\n",
              "  </tbody>\n",
              "</table>\n",
              "<p>47667 rows × 14 columns</p>\n",
              "</div>"
            ],
            "text/plain": [
              "                                                    name  ...  availability_365\n",
              "0                     Clean & quiet apt home by the park  ...               365\n",
              "1                                  Skylit Midtown Castle  ...               355\n",
              "2                    THE VILLAGE OF HARLEM....NEW YORK !  ...               365\n",
              "3                        Cozy Entire Floor of Brownstone  ...               194\n",
              "4       Entire Apt: Spacious Studio/Loft by central park  ...                 0\n",
              "...                                                  ...  ...               ...\n",
              "48890    Charming one bedroom - newly renovated rowhouse  ...                 9\n",
              "48891      Affordable room in Bushwick/East Williamsburg  ...                36\n",
              "48892            Sunny Studio at Historical Neighborhood  ...                27\n",
              "48893               43rd St. Time Square-cozy single bed  ...                 2\n",
              "48894  Trendy duplex in the very heart of Hell's Kitchen  ...                23\n",
              "\n",
              "[47667 rows x 14 columns]"
            ]
          },
          "metadata": {
            "tags": []
          },
          "execution_count": 381
        }
      ]
    },
    {
      "cell_type": "code",
      "metadata": {
        "id": "v3BKxYB19duO",
        "colab": {
          "base_uri": "https://localhost:8080/",
          "height": 393
        },
        "outputId": "095a1ed1-7c9b-40f9-bbff-914ca61b1764"
      },
      "source": [
        "#fining the top ten neighbourhood\n",
        "airbnb_df.neighbourhood.value_counts().head(11).reset_index()"
      ],
      "execution_count": null,
      "outputs": [
        {
          "output_type": "execute_result",
          "data": {
            "text/html": [
              "<div>\n",
              "<style scoped>\n",
              "    .dataframe tbody tr th:only-of-type {\n",
              "        vertical-align: middle;\n",
              "    }\n",
              "\n",
              "    .dataframe tbody tr th {\n",
              "        vertical-align: top;\n",
              "    }\n",
              "\n",
              "    .dataframe thead th {\n",
              "        text-align: right;\n",
              "    }\n",
              "</style>\n",
              "<table border=\"1\" class=\"dataframe\">\n",
              "  <thead>\n",
              "    <tr style=\"text-align: right;\">\n",
              "      <th></th>\n",
              "      <th>index</th>\n",
              "      <th>neighbourhood</th>\n",
              "    </tr>\n",
              "  </thead>\n",
              "  <tbody>\n",
              "    <tr>\n",
              "      <th>0</th>\n",
              "      <td>Williamsburg</td>\n",
              "      <td>3920</td>\n",
              "    </tr>\n",
              "    <tr>\n",
              "      <th>1</th>\n",
              "      <td>Bedford-Stuyvesant</td>\n",
              "      <td>3714</td>\n",
              "    </tr>\n",
              "    <tr>\n",
              "      <th>2</th>\n",
              "      <td>Harlem</td>\n",
              "      <td>2658</td>\n",
              "    </tr>\n",
              "    <tr>\n",
              "      <th>3</th>\n",
              "      <td>Bushwick</td>\n",
              "      <td>2465</td>\n",
              "    </tr>\n",
              "    <tr>\n",
              "      <th>4</th>\n",
              "      <td>Upper West Side</td>\n",
              "      <td>1971</td>\n",
              "    </tr>\n",
              "    <tr>\n",
              "      <th>5</th>\n",
              "      <td>Hell's Kitchen</td>\n",
              "      <td>1958</td>\n",
              "    </tr>\n",
              "    <tr>\n",
              "      <th>6</th>\n",
              "      <td>East Village</td>\n",
              "      <td>1853</td>\n",
              "    </tr>\n",
              "    <tr>\n",
              "      <th>7</th>\n",
              "      <td>Upper East Side</td>\n",
              "      <td>1798</td>\n",
              "    </tr>\n",
              "    <tr>\n",
              "      <th>8</th>\n",
              "      <td>Crown Heights</td>\n",
              "      <td>1564</td>\n",
              "    </tr>\n",
              "    <tr>\n",
              "      <th>9</th>\n",
              "      <td>Midtown</td>\n",
              "      <td>1545</td>\n",
              "    </tr>\n",
              "    <tr>\n",
              "      <th>10</th>\n",
              "      <td>East Harlem</td>\n",
              "      <td>1117</td>\n",
              "    </tr>\n",
              "  </tbody>\n",
              "</table>\n",
              "</div>"
            ],
            "text/plain": [
              "                 index  neighbourhood\n",
              "0         Williamsburg           3920\n",
              "1   Bedford-Stuyvesant           3714\n",
              "2               Harlem           2658\n",
              "3             Bushwick           2465\n",
              "4      Upper West Side           1971\n",
              "5       Hell's Kitchen           1958\n",
              "6         East Village           1853\n",
              "7      Upper East Side           1798\n",
              "8        Crown Heights           1564\n",
              "9              Midtown           1545\n",
              "10         East Harlem           1117"
            ]
          },
          "metadata": {
            "tags": []
          },
          "execution_count": 382
        }
      ]
    },
    {
      "cell_type": "code",
      "metadata": {
        "id": "5XIgbf10fxwN",
        "colab": {
          "base_uri": "https://localhost:8080/",
          "height": 458
        },
        "outputId": "932ec632-4e42-4713-9200-df9c6d2a9c6f"
      },
      "source": [
        "#combine this data with roomtype for inrich the visualisation\n",
        "sub_data2=airbnb_df.loc[airbnb_df['neighbourhood'].isin(['Williamsburg','Bedford-Stuyvesant','Harlem','Bushwick','Upper West Side','Hell\\s kitchen','East Village','Upper East Side','Crown Heights','Midtown','East Harlem'])]\n",
        "#using catplot to represnting mutltiple atribute together\n",
        "visual17=sns.catplot(x='neighbourhood',hue='neighbourhood_group',col='room_type',data=sub_data2,kind='count')\n",
        "visual17.set_xticklabels(rotation=90)"
      ],
      "execution_count": null,
      "outputs": [
        {
          "output_type": "execute_result",
          "data": {
            "text/plain": [
              "<seaborn.axisgrid.FacetGrid at 0x7f30dac1b810>"
            ]
          },
          "metadata": {
            "tags": []
          },
          "execution_count": 383
        },
        {
          "output_type": "display_data",
          "data": {
            "image/png": "[encoded data removed]",
            "text/plain": [
              "<Figure size 1197.38x360 with 3 Axes>"
            ]
          },
          "metadata": {
            "tags": []
          }
        }
      ]
    },
    {
      "cell_type": "markdown",
      "metadata": {
        "id": "80k3iq7QiBue"
      },
      "source": [
        "**what we can see from the above 3 sub plots.we can make comparision of distribution of attributes.y-axis and x-axis are same in both the plot.in the y-axis we take count and on the x-axis we take observation we want like here neighbourhoodtheir are two more important element:column and hue.after specifying the column and determining the hue we are able to compair and observe the y-axis and x-axis among the specified column as well colour-code.so basically what we observerd the shared room type have less no of intrest.we can seen from the top 10 neighbourhood only Manhattan and Brooklyn are the most travel destination theirfore would have the most listing availability.we can also observed Bedford-stuyvesent and williamsburg are most populated from Manhattan and harlem from Brooklyn**"
      ]
    },
    {
      "cell_type": "code",
      "metadata": {
        "id": "8drKFJj9jTDv",
        "colab": {
          "base_uri": "https://localhost:8080/",
          "height": 497
        },
        "outputId": "d8ee8920-1670-4a3b-a972-493a82d0a2df"
      },
      "source": [
        "# now take some insights from longitude and latitude\n",
        "#let's draw scatter plot \n",
        "plt.figure(figsize=(10,8))\n",
        "visual18 =sns.scatterplot(x=\"longitude\", y=\"latitude\", hue=\"neighbourhood_group\",palette=['blue','green','yellow','grey','red'], legend='full',data=sub_data)"
      ],
      "execution_count": null,
      "outputs": [
        {
          "output_type": "display_data",
          "data": {
            "image/png": "[encoded data removed]",
            "text/plain": [
              "<Figure size 720x576 with 1 Axes>"
            ]
          },
          "metadata": {
            "tags": []
          }
        }
      ]
    },
    {
      "cell_type": "markdown",
      "metadata": {
        "id": "huFheukSE0tV"
      },
      "source": [
        "At the End of jouney now we have extract some usefull Elusive from the giving data.\n",
        "now we can suggest for Airbnb CEO with some Exquisite conclusion"
      ]
    },
    {
      "cell_type": "markdown",
      "metadata": {
        "id": "zLJLF6d9Fm7g"
      },
      "source": [
        "\n",
        "\n",
        "*  Due to capital income state Manhattan is most Expensive.\n",
        "*after looking for correlation and price and demand table we can say that Queen is most afforadable neighbourhood_group.\n",
        "*Correltion graph shows that in the U.S prefer privacy then the price.so the private room is most preferable room type.\n",
        "*correlation between price and review per show that paying extra always be less satisfaction so airbnb with more review be affordable than average.\n",
        "\n"
      ]
    },
    {
      "cell_type": "markdown",
      "metadata": {
        "id": "jknJebHgMxxP"
      },
      "source": [
        "After reading  please all team members please update your usefull suggestion\n",
        "\n",
        "*  Rohit bhadauriya-Manhattan should reduce the price bar for the affordable range for increasing their review mark and as the shared have less no of call from the customer side so i think the neighbourhood or the hotel chain should remove it from the list.\n",
        "\n",
        "*   List item\n",
        "\n"
      ]
    },
    {
      "cell_type": "markdown",
      "metadata": {
        "id": "kQDEDz9yOtet"
      },
      "source": [
        ""
      ]
    }
  ]
}